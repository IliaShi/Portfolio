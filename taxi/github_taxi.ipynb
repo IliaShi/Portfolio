{
 "cells": [
  {
   "cell_type": "markdown",
   "id": "6d7ac239",
   "metadata": {},
   "source": [
    "# Прогнозирование количества заказов такси на следующий час\n",
    "Компания агрегатор заказов такси планирует привлекать больше водителей в период пиковой нагрузки, нужно спрогнозировать количество заказов такси на следующий час. \n",
    "## Цель. \n",
    "Построить модель предсказания количества заказов такси на следующий час, метрика RMSE должна быть не более 48.\n",
    "## План работы.\n",
    "1. Загрузка и ресемплирование данных.  \n",
    "2. Анализ данных\n",
    "3. Подготовка данных\n",
    "4. Построение моделей и выбор лучшей.\n",
    "5. Тестирование лучшей модели и формулирование выводов."
   ]
  },
  {
   "cell_type": "code",
   "execution_count": 71,
   "id": "48112ce2",
   "metadata": {
    "scrolled": true
   },
   "outputs": [],
   "source": [
    "import pandas as pd\n",
    "import matplotlib.pyplot as plt\n",
    "import seaborn as sns\n",
    "import numpy as np\n",
    "\n",
    "from statsmodels.tsa.seasonal import seasonal_decompose\n",
    "from statsmodels.tsa.stattools import adfuller\n",
    "from statsmodels.graphics import tsaplots\n",
    "\n",
    "from lightgbm import LGBMRegressor\n",
    "from sklearn.linear_model import LinearRegression\n",
    "from sklearn.tree import DecisionTreeRegressor\n",
    "\n",
    "from sklearn.model_selection import train_test_split, RandomizedSearchCV, TimeSeriesSplit\n",
    "from sklearn.preprocessing import (StandardScaler, OneHotEncoder, MinMaxScaler, OrdinalEncoder)\n",
    "from sklearn.metrics import root_mean_squared_error\n",
    "from sklearn.pipeline import Pipeline\n",
    "from sklearn.compose import ColumnTransformer\n",
    "from sklearn.impute import SimpleImputer"
   ]
  },
  {
   "cell_type": "markdown",
   "id": "bd5e5aa2",
   "metadata": {},
   "source": [
    "## Загрузка и ресемплирование данных"
   ]
  },
  {
   "cell_type": "code",
   "execution_count": 72,
   "id": "7be1eb9d",
   "metadata": {
    "scrolled": true
   },
   "outputs": [
    {
     "data": {
      "text/html": [
       "<div>\n",
       "<style scoped>\n",
       "    .dataframe tbody tr th:only-of-type {\n",
       "        vertical-align: middle;\n",
       "    }\n",
       "\n",
       "    .dataframe tbody tr th {\n",
       "        vertical-align: top;\n",
       "    }\n",
       "\n",
       "    .dataframe thead th {\n",
       "        text-align: right;\n",
       "    }\n",
       "</style>\n",
       "<table border=\"1\" class=\"dataframe\">\n",
       "  <thead>\n",
       "    <tr style=\"text-align: right;\">\n",
       "      <th></th>\n",
       "      <th>num_orders</th>\n",
       "    </tr>\n",
       "    <tr>\n",
       "      <th>datetime</th>\n",
       "      <th></th>\n",
       "    </tr>\n",
       "  </thead>\n",
       "  <tbody>\n",
       "    <tr>\n",
       "      <th>2018-03-01 00:00:00</th>\n",
       "      <td>9</td>\n",
       "    </tr>\n",
       "    <tr>\n",
       "      <th>2018-03-01 00:10:00</th>\n",
       "      <td>14</td>\n",
       "    </tr>\n",
       "    <tr>\n",
       "      <th>2018-03-01 00:20:00</th>\n",
       "      <td>28</td>\n",
       "    </tr>\n",
       "    <tr>\n",
       "      <th>2018-03-01 00:30:00</th>\n",
       "      <td>20</td>\n",
       "    </tr>\n",
       "    <tr>\n",
       "      <th>2018-03-01 00:40:00</th>\n",
       "      <td>32</td>\n",
       "    </tr>\n",
       "    <tr>\n",
       "      <th>2018-03-01 00:50:00</th>\n",
       "      <td>21</td>\n",
       "    </tr>\n",
       "    <tr>\n",
       "      <th>2018-03-01 01:00:00</th>\n",
       "      <td>7</td>\n",
       "    </tr>\n",
       "    <tr>\n",
       "      <th>2018-03-01 01:10:00</th>\n",
       "      <td>5</td>\n",
       "    </tr>\n",
       "    <tr>\n",
       "      <th>2018-03-01 01:20:00</th>\n",
       "      <td>17</td>\n",
       "    </tr>\n",
       "    <tr>\n",
       "      <th>2018-03-01 01:30:00</th>\n",
       "      <td>12</td>\n",
       "    </tr>\n",
       "    <tr>\n",
       "      <th>2018-03-01 01:40:00</th>\n",
       "      <td>19</td>\n",
       "    </tr>\n",
       "    <tr>\n",
       "      <th>2018-03-01 01:50:00</th>\n",
       "      <td>25</td>\n",
       "    </tr>\n",
       "    <tr>\n",
       "      <th>2018-03-01 02:00:00</th>\n",
       "      <td>22</td>\n",
       "    </tr>\n",
       "    <tr>\n",
       "      <th>2018-03-01 02:10:00</th>\n",
       "      <td>12</td>\n",
       "    </tr>\n",
       "    <tr>\n",
       "      <th>2018-03-01 02:20:00</th>\n",
       "      <td>19</td>\n",
       "    </tr>\n",
       "    <tr>\n",
       "      <th>2018-03-01 02:30:00</th>\n",
       "      <td>8</td>\n",
       "    </tr>\n",
       "    <tr>\n",
       "      <th>2018-03-01 02:40:00</th>\n",
       "      <td>6</td>\n",
       "    </tr>\n",
       "    <tr>\n",
       "      <th>2018-03-01 02:50:00</th>\n",
       "      <td>4</td>\n",
       "    </tr>\n",
       "    <tr>\n",
       "      <th>2018-03-01 03:00:00</th>\n",
       "      <td>8</td>\n",
       "    </tr>\n",
       "    <tr>\n",
       "      <th>2018-03-01 03:10:00</th>\n",
       "      <td>17</td>\n",
       "    </tr>\n",
       "  </tbody>\n",
       "</table>\n",
       "</div>"
      ],
      "text/plain": [
       "                     num_orders\n",
       "datetime                       \n",
       "2018-03-01 00:00:00           9\n",
       "2018-03-01 00:10:00          14\n",
       "2018-03-01 00:20:00          28\n",
       "2018-03-01 00:30:00          20\n",
       "2018-03-01 00:40:00          32\n",
       "2018-03-01 00:50:00          21\n",
       "2018-03-01 01:00:00           7\n",
       "2018-03-01 01:10:00           5\n",
       "2018-03-01 01:20:00          17\n",
       "2018-03-01 01:30:00          12\n",
       "2018-03-01 01:40:00          19\n",
       "2018-03-01 01:50:00          25\n",
       "2018-03-01 02:00:00          22\n",
       "2018-03-01 02:10:00          12\n",
       "2018-03-01 02:20:00          19\n",
       "2018-03-01 02:30:00           8\n",
       "2018-03-01 02:40:00           6\n",
       "2018-03-01 02:50:00           4\n",
       "2018-03-01 03:00:00           8\n",
       "2018-03-01 03:10:00          17"
      ]
     },
     "execution_count": 72,
     "metadata": {},
     "output_type": "execute_result"
    }
   ],
   "source": [
    "# Загрузка датасетов (перед публикацией сетевой путь удален согласно условиям обучающей платформы)\n",
    "df = pd.read_csv('data/taxi.csv', sep=',', index_col=[0], parse_dates=True)\n",
    "\n",
    "df.head(20)"
   ]
  },
  {
   "cell_type": "code",
   "execution_count": 73,
   "id": "62fd8a7f",
   "metadata": {},
   "outputs": [
    {
     "data": {
      "text/plain": [
       "(26496, 1)"
      ]
     },
     "execution_count": 73,
     "metadata": {},
     "output_type": "execute_result"
    }
   ],
   "source": [
    "df.shape"
   ]
  },
  {
   "cell_type": "code",
   "execution_count": 74,
   "id": "88d5d273",
   "metadata": {},
   "outputs": [
    {
     "data": {
      "text/html": [
       "<div>\n",
       "<style scoped>\n",
       "    .dataframe tbody tr th:only-of-type {\n",
       "        vertical-align: middle;\n",
       "    }\n",
       "\n",
       "    .dataframe tbody tr th {\n",
       "        vertical-align: top;\n",
       "    }\n",
       "\n",
       "    .dataframe thead th {\n",
       "        text-align: right;\n",
       "    }\n",
       "</style>\n",
       "<table border=\"1\" class=\"dataframe\">\n",
       "  <thead>\n",
       "    <tr style=\"text-align: right;\">\n",
       "      <th></th>\n",
       "      <th>num_orders</th>\n",
       "    </tr>\n",
       "    <tr>\n",
       "      <th>datetime</th>\n",
       "      <th></th>\n",
       "    </tr>\n",
       "  </thead>\n",
       "  <tbody>\n",
       "    <tr>\n",
       "      <th>2018-03-01 00:00:00</th>\n",
       "      <td>124</td>\n",
       "    </tr>\n",
       "    <tr>\n",
       "      <th>2018-03-01 01:00:00</th>\n",
       "      <td>85</td>\n",
       "    </tr>\n",
       "    <tr>\n",
       "      <th>2018-03-01 02:00:00</th>\n",
       "      <td>71</td>\n",
       "    </tr>\n",
       "  </tbody>\n",
       "</table>\n",
       "</div>"
      ],
      "text/plain": [
       "                     num_orders\n",
       "datetime                       \n",
       "2018-03-01 00:00:00         124\n",
       "2018-03-01 01:00:00          85\n",
       "2018-03-01 02:00:00          71"
      ]
     },
     "metadata": {},
     "output_type": "display_data"
    },
    {
     "data": {
      "text/html": [
       "<div>\n",
       "<style scoped>\n",
       "    .dataframe tbody tr th:only-of-type {\n",
       "        vertical-align: middle;\n",
       "    }\n",
       "\n",
       "    .dataframe tbody tr th {\n",
       "        vertical-align: top;\n",
       "    }\n",
       "\n",
       "    .dataframe thead th {\n",
       "        text-align: right;\n",
       "    }\n",
       "</style>\n",
       "<table border=\"1\" class=\"dataframe\">\n",
       "  <thead>\n",
       "    <tr style=\"text-align: right;\">\n",
       "      <th></th>\n",
       "      <th>num_orders</th>\n",
       "    </tr>\n",
       "    <tr>\n",
       "      <th>datetime</th>\n",
       "      <th></th>\n",
       "    </tr>\n",
       "  </thead>\n",
       "  <tbody>\n",
       "    <tr>\n",
       "      <th>2018-08-31 21:00:00</th>\n",
       "      <td>159</td>\n",
       "    </tr>\n",
       "    <tr>\n",
       "      <th>2018-08-31 22:00:00</th>\n",
       "      <td>223</td>\n",
       "    </tr>\n",
       "    <tr>\n",
       "      <th>2018-08-31 23:00:00</th>\n",
       "      <td>205</td>\n",
       "    </tr>\n",
       "  </tbody>\n",
       "</table>\n",
       "</div>"
      ],
      "text/plain": [
       "                     num_orders\n",
       "datetime                       \n",
       "2018-08-31 21:00:00         159\n",
       "2018-08-31 22:00:00         223\n",
       "2018-08-31 23:00:00         205"
      ]
     },
     "execution_count": 74,
     "metadata": {},
     "output_type": "execute_result"
    }
   ],
   "source": [
    "df.sort_index(inplace=True)\n",
    "df = df.resample('1h').sum()\n",
    "display(df.head(3))\n",
    "df.tail(3)"
   ]
  },
  {
   "cell_type": "markdown",
   "id": "8ba69b93",
   "metadata": {},
   "source": [
    "Имеем данные с марта по август 2018 года."
   ]
  },
  {
   "cell_type": "markdown",
   "id": "a8c7ddd4",
   "metadata": {},
   "source": [
    "## Анализ данных"
   ]
  },
  {
   "cell_type": "code",
   "execution_count": 75,
   "id": "04218c9b",
   "metadata": {},
   "outputs": [
    {
     "data": {
      "image/png": "[encoded data removed]",
      "text/plain": [
       "<Figure size 1000x500 with 1 Axes>"
      ]
     },
     "metadata": {},
     "output_type": "display_data"
    }
   ],
   "source": [
    "df['rolling_mean'] = df.rolling(24).mean()\n",
    "plt.figure(figsize=(10,5))\n",
    "plt.plot(df)\n",
    "plt.xlabel('дата')\n",
    "plt.ylabel('количество заказов')\n",
    "plt.title('Количество заказов такси в час')\n",
    "\n",
    "df.drop(columns='rolling_mean', axis=1, inplace=True)"
   ]
  },
  {
   "cell_type": "markdown",
   "id": "8174e7e7",
   "metadata": {},
   "source": [
    "Среднее и дисперсия увеличиватся. Временной ряд не является стационарным."
   ]
  },
  {
   "cell_type": "code",
   "execution_count": 76,
   "id": "f79b24f2",
   "metadata": {},
   "outputs": [
    {
     "name": "stdout",
     "output_type": "stream",
     "text": [
      "adf: -3.07 \n",
      "p-value: 0.0289          \n",
      "Критические значения: {'1%': np.float64(-3.431842162413052), '5%': np.float64(-2.8621993540813637), '10%': np.float64(-2.567120978470452)} \n"
     ]
    }
   ],
   "source": [
    "# Тест Фуллера\n",
    "adf = adfuller(df.num_orders)\n",
    "print(f'adf: {round(adf[0], 2)} \\np-value: {round(adf[1], 4)}  \\\n",
    "        \\nКритические значения: {adf[4]} ')"
   ]
  },
  {
   "cell_type": "code",
   "execution_count": 77,
   "id": "a5044a00",
   "metadata": {},
   "outputs": [],
   "source": [
    "# Декомпозиция\n",
    "decomp = seasonal_decompose(df)"
   ]
  },
  {
   "cell_type": "code",
   "execution_count": 78,
   "id": "2a6da3fc",
   "metadata": {
    "scrolled": true
   },
   "outputs": [
    {
     "data": {
      "text/plain": [
       "Text(0.5, 1.0, 'Тренд')"
      ]
     },
     "execution_count": 78,
     "metadata": {},
     "output_type": "execute_result"
    },
    {
     "data": {
      "image/png": "[encoded data removed]",
      "text/plain": [
       "<Figure size 1000x400 with 1 Axes>"
      ]
     },
     "metadata": {},
     "output_type": "display_data"
    }
   ],
   "source": [
    "# Строим график тренда\n",
    "plt.figure(figsize=(10,4))\n",
    "plt.plot(decomp.trend)\n",
    "plt.xlabel('дата')\n",
    "plt.ylabel('количество заказов')\n",
    "plt.title('Тренд')"
   ]
  },
  {
   "cell_type": "markdown",
   "id": "bf32e975",
   "metadata": {},
   "source": [
    "Видим восходящий тренд"
   ]
  },
  {
   "cell_type": "code",
   "execution_count": 79,
   "id": "58ce4c05",
   "metadata": {},
   "outputs": [
    {
     "data": {
      "image/png": "[encoded data removed]",
      "text/plain": [
       "<Figure size 1000x400 with 1 Axes>"
      ]
     },
     "metadata": {},
     "output_type": "display_data"
    }
   ],
   "source": [
    "# Строим график сезонной составляющей\n",
    "plt.figure(figsize=(10,4))\n",
    "plt.plot(decomp.seasonal['2018-03-01':'2018-03-03'])\n",
    "plt.xlabel('дата')\n",
    "plt.ylabel('количество заказов')\n",
    "plt.title('Сезонная составляющая')\n",
    "plt.show();"
   ]
  },
  {
   "cell_type": "markdown",
   "id": "70970410",
   "metadata": {},
   "source": [
    "Видим пик заказов в 12:00 ночи, а минимум в районе 6:00 утра."
   ]
  },
  {
   "cell_type": "code",
   "execution_count": 80,
   "id": "56cf4b84",
   "metadata": {},
   "outputs": [
    {
     "data": {
      "text/plain": [
       "Text(0.5, 1.0, 'Остатки')"
      ]
     },
     "execution_count": 80,
     "metadata": {},
     "output_type": "execute_result"
    },
    {
     "data": {
      "image/png": "[encoded data removed]",
      "text/plain": [
       "<Figure size 1000x400 with 1 Axes>"
      ]
     },
     "metadata": {},
     "output_type": "display_data"
    }
   ],
   "source": [
    "# Строим график остатков\n",
    "plt.figure(figsize=(10,4))\n",
    "plt.plot(decomp.resid)\n",
    "plt.xlabel('дата')\n",
    "plt.ylabel('количество заказов')\n",
    "plt.title('Остатки')"
   ]
  },
  {
   "cell_type": "code",
   "execution_count": 81,
   "id": "72688eca",
   "metadata": {},
   "outputs": [],
   "source": [
    "# Создаем признаки\n",
    "def make_features(data, max_lag, rolling_mean_size):\n",
    "    data['day'] = data.index.day\n",
    "    data['dayofweek'] = data.index.dayofweek\n",
    "\n",
    "    for lag in range(1, max_lag + 1):\n",
    "        data['lag_{}'.format(lag)] = data['num_orders'].shift(lag)\n",
    "\n",
    "    data['rolling_mean'] = data.num_orders.shift(1).rolling(rolling_mean_size).mean()"
   ]
  },
  {
   "cell_type": "markdown",
   "id": "e202f060",
   "metadata": {},
   "source": [
    "Не стал включать месяц в число признаков, т.к. обучающая выборка не за полный год и в сентябре для модели появится неизвестное значение месяца. "
   ]
  },
  {
   "cell_type": "code",
   "execution_count": 82,
   "id": "9b74b9bd",
   "metadata": {
    "scrolled": true
   },
   "outputs": [
    {
     "data": {
      "text/html": [
       "<div>\n",
       "<style scoped>\n",
       "    .dataframe tbody tr th:only-of-type {\n",
       "        vertical-align: middle;\n",
       "    }\n",
       "\n",
       "    .dataframe tbody tr th {\n",
       "        vertical-align: top;\n",
       "    }\n",
       "\n",
       "    .dataframe thead th {\n",
       "        text-align: right;\n",
       "    }\n",
       "</style>\n",
       "<table border=\"1\" class=\"dataframe\">\n",
       "  <thead>\n",
       "    <tr style=\"text-align: right;\">\n",
       "      <th></th>\n",
       "      <th>num_orders</th>\n",
       "      <th>day</th>\n",
       "      <th>dayofweek</th>\n",
       "      <th>lag_1</th>\n",
       "      <th>lag_2</th>\n",
       "      <th>lag_3</th>\n",
       "      <th>lag_4</th>\n",
       "      <th>lag_5</th>\n",
       "      <th>lag_6</th>\n",
       "      <th>lag_7</th>\n",
       "      <th>...</th>\n",
       "      <th>lag_160</th>\n",
       "      <th>lag_161</th>\n",
       "      <th>lag_162</th>\n",
       "      <th>lag_163</th>\n",
       "      <th>lag_164</th>\n",
       "      <th>lag_165</th>\n",
       "      <th>lag_166</th>\n",
       "      <th>lag_167</th>\n",
       "      <th>lag_168</th>\n",
       "      <th>rolling_mean</th>\n",
       "    </tr>\n",
       "    <tr>\n",
       "      <th>datetime</th>\n",
       "      <th></th>\n",
       "      <th></th>\n",
       "      <th></th>\n",
       "      <th></th>\n",
       "      <th></th>\n",
       "      <th></th>\n",
       "      <th></th>\n",
       "      <th></th>\n",
       "      <th></th>\n",
       "      <th></th>\n",
       "      <th></th>\n",
       "      <th></th>\n",
       "      <th></th>\n",
       "      <th></th>\n",
       "      <th></th>\n",
       "      <th></th>\n",
       "      <th></th>\n",
       "      <th></th>\n",
       "      <th></th>\n",
       "      <th></th>\n",
       "      <th></th>\n",
       "    </tr>\n",
       "  </thead>\n",
       "  <tbody>\n",
       "    <tr>\n",
       "      <th>2018-03-01 00:00:00</th>\n",
       "      <td>124</td>\n",
       "      <td>1</td>\n",
       "      <td>3</td>\n",
       "      <td>NaN</td>\n",
       "      <td>NaN</td>\n",
       "      <td>NaN</td>\n",
       "      <td>NaN</td>\n",
       "      <td>NaN</td>\n",
       "      <td>NaN</td>\n",
       "      <td>NaN</td>\n",
       "      <td>...</td>\n",
       "      <td>NaN</td>\n",
       "      <td>NaN</td>\n",
       "      <td>NaN</td>\n",
       "      <td>NaN</td>\n",
       "      <td>NaN</td>\n",
       "      <td>NaN</td>\n",
       "      <td>NaN</td>\n",
       "      <td>NaN</td>\n",
       "      <td>NaN</td>\n",
       "      <td>NaN</td>\n",
       "    </tr>\n",
       "    <tr>\n",
       "      <th>2018-03-01 01:00:00</th>\n",
       "      <td>85</td>\n",
       "      <td>1</td>\n",
       "      <td>3</td>\n",
       "      <td>124.0</td>\n",
       "      <td>NaN</td>\n",
       "      <td>NaN</td>\n",
       "      <td>NaN</td>\n",
       "      <td>NaN</td>\n",
       "      <td>NaN</td>\n",
       "      <td>NaN</td>\n",
       "      <td>...</td>\n",
       "      <td>NaN</td>\n",
       "      <td>NaN</td>\n",
       "      <td>NaN</td>\n",
       "      <td>NaN</td>\n",
       "      <td>NaN</td>\n",
       "      <td>NaN</td>\n",
       "      <td>NaN</td>\n",
       "      <td>NaN</td>\n",
       "      <td>NaN</td>\n",
       "      <td>NaN</td>\n",
       "    </tr>\n",
       "    <tr>\n",
       "      <th>2018-03-01 02:00:00</th>\n",
       "      <td>71</td>\n",
       "      <td>1</td>\n",
       "      <td>3</td>\n",
       "      <td>85.0</td>\n",
       "      <td>124.0</td>\n",
       "      <td>NaN</td>\n",
       "      <td>NaN</td>\n",
       "      <td>NaN</td>\n",
       "      <td>NaN</td>\n",
       "      <td>NaN</td>\n",
       "      <td>...</td>\n",
       "      <td>NaN</td>\n",
       "      <td>NaN</td>\n",
       "      <td>NaN</td>\n",
       "      <td>NaN</td>\n",
       "      <td>NaN</td>\n",
       "      <td>NaN</td>\n",
       "      <td>NaN</td>\n",
       "      <td>NaN</td>\n",
       "      <td>NaN</td>\n",
       "      <td>NaN</td>\n",
       "    </tr>\n",
       "  </tbody>\n",
       "</table>\n",
       "<p>3 rows × 172 columns</p>\n",
       "</div>"
      ],
      "text/plain": [
       "                     num_orders  day  dayofweek  lag_1  lag_2  lag_3  lag_4  \\\n",
       "datetime                                                                      \n",
       "2018-03-01 00:00:00         124    1          3    NaN    NaN    NaN    NaN   \n",
       "2018-03-01 01:00:00          85    1          3  124.0    NaN    NaN    NaN   \n",
       "2018-03-01 02:00:00          71    1          3   85.0  124.0    NaN    NaN   \n",
       "\n",
       "                     lag_5  lag_6  lag_7  ...  lag_160  lag_161  lag_162  \\\n",
       "datetime                                  ...                              \n",
       "2018-03-01 00:00:00    NaN    NaN    NaN  ...      NaN      NaN      NaN   \n",
       "2018-03-01 01:00:00    NaN    NaN    NaN  ...      NaN      NaN      NaN   \n",
       "2018-03-01 02:00:00    NaN    NaN    NaN  ...      NaN      NaN      NaN   \n",
       "\n",
       "                     lag_163  lag_164  lag_165  lag_166  lag_167  lag_168  \\\n",
       "datetime                                                                    \n",
       "2018-03-01 00:00:00      NaN      NaN      NaN      NaN      NaN      NaN   \n",
       "2018-03-01 01:00:00      NaN      NaN      NaN      NaN      NaN      NaN   \n",
       "2018-03-01 02:00:00      NaN      NaN      NaN      NaN      NaN      NaN   \n",
       "\n",
       "                     rolling_mean  \n",
       "datetime                           \n",
       "2018-03-01 00:00:00           NaN  \n",
       "2018-03-01 01:00:00           NaN  \n",
       "2018-03-01 02:00:00           NaN  \n",
       "\n",
       "[3 rows x 172 columns]"
      ]
     },
     "execution_count": 82,
     "metadata": {},
     "output_type": "execute_result"
    }
   ],
   "source": [
    "# сдвиги возьмем 24 - т.е. максимально на сутки. Среднюю возьмем за 10 дней.\n",
    "make_features(df, 168, 240)\n",
    "df.head(3)"
   ]
  },
  {
   "cell_type": "code",
   "execution_count": 83,
   "id": "919cb141",
   "metadata": {},
   "outputs": [
    {
     "data": {
      "text/html": [
       "<div>\n",
       "<style scoped>\n",
       "    .dataframe tbody tr th:only-of-type {\n",
       "        vertical-align: middle;\n",
       "    }\n",
       "\n",
       "    .dataframe tbody tr th {\n",
       "        vertical-align: top;\n",
       "    }\n",
       "\n",
       "    .dataframe thead th {\n",
       "        text-align: right;\n",
       "    }\n",
       "</style>\n",
       "<table border=\"1\" class=\"dataframe\">\n",
       "  <thead>\n",
       "    <tr style=\"text-align: right;\">\n",
       "      <th></th>\n",
       "      <th>num_orders</th>\n",
       "      <th>day</th>\n",
       "      <th>dayofweek</th>\n",
       "      <th>lag_1</th>\n",
       "      <th>lag_2</th>\n",
       "      <th>lag_3</th>\n",
       "      <th>lag_4</th>\n",
       "      <th>lag_5</th>\n",
       "      <th>lag_6</th>\n",
       "      <th>lag_7</th>\n",
       "      <th>...</th>\n",
       "      <th>lag_160</th>\n",
       "      <th>lag_161</th>\n",
       "      <th>lag_162</th>\n",
       "      <th>lag_163</th>\n",
       "      <th>lag_164</th>\n",
       "      <th>lag_165</th>\n",
       "      <th>lag_166</th>\n",
       "      <th>lag_167</th>\n",
       "      <th>lag_168</th>\n",
       "      <th>rolling_mean</th>\n",
       "    </tr>\n",
       "    <tr>\n",
       "      <th>datetime</th>\n",
       "      <th></th>\n",
       "      <th></th>\n",
       "      <th></th>\n",
       "      <th></th>\n",
       "      <th></th>\n",
       "      <th></th>\n",
       "      <th></th>\n",
       "      <th></th>\n",
       "      <th></th>\n",
       "      <th></th>\n",
       "      <th></th>\n",
       "      <th></th>\n",
       "      <th></th>\n",
       "      <th></th>\n",
       "      <th></th>\n",
       "      <th></th>\n",
       "      <th></th>\n",
       "      <th></th>\n",
       "      <th></th>\n",
       "      <th></th>\n",
       "      <th></th>\n",
       "    </tr>\n",
       "  </thead>\n",
       "  <tbody>\n",
       "    <tr>\n",
       "      <th>2018-03-11 00:00:00</th>\n",
       "      <td>81</td>\n",
       "      <td>11</td>\n",
       "      <td>6</td>\n",
       "      <td>73.0</td>\n",
       "      <td>80.0</td>\n",
       "      <td>62.0</td>\n",
       "      <td>54.0</td>\n",
       "      <td>33.0</td>\n",
       "      <td>102.0</td>\n",
       "      <td>60.0</td>\n",
       "      <td>...</td>\n",
       "      <td>39.0</td>\n",
       "      <td>12.0</td>\n",
       "      <td>11.0</td>\n",
       "      <td>22.0</td>\n",
       "      <td>27.0</td>\n",
       "      <td>42.0</td>\n",
       "      <td>26.0</td>\n",
       "      <td>60.0</td>\n",
       "      <td>75.0</td>\n",
       "      <td>54.633333</td>\n",
       "    </tr>\n",
       "    <tr>\n",
       "      <th>2018-03-11 01:00:00</th>\n",
       "      <td>83</td>\n",
       "      <td>11</td>\n",
       "      <td>6</td>\n",
       "      <td>81.0</td>\n",
       "      <td>73.0</td>\n",
       "      <td>80.0</td>\n",
       "      <td>62.0</td>\n",
       "      <td>54.0</td>\n",
       "      <td>33.0</td>\n",
       "      <td>102.0</td>\n",
       "      <td>...</td>\n",
       "      <td>39.0</td>\n",
       "      <td>39.0</td>\n",
       "      <td>12.0</td>\n",
       "      <td>11.0</td>\n",
       "      <td>22.0</td>\n",
       "      <td>27.0</td>\n",
       "      <td>42.0</td>\n",
       "      <td>26.0</td>\n",
       "      <td>60.0</td>\n",
       "      <td>54.454167</td>\n",
       "    </tr>\n",
       "    <tr>\n",
       "      <th>2018-03-11 02:00:00</th>\n",
       "      <td>36</td>\n",
       "      <td>11</td>\n",
       "      <td>6</td>\n",
       "      <td>83.0</td>\n",
       "      <td>81.0</td>\n",
       "      <td>73.0</td>\n",
       "      <td>80.0</td>\n",
       "      <td>62.0</td>\n",
       "      <td>54.0</td>\n",
       "      <td>33.0</td>\n",
       "      <td>...</td>\n",
       "      <td>19.0</td>\n",
       "      <td>39.0</td>\n",
       "      <td>39.0</td>\n",
       "      <td>12.0</td>\n",
       "      <td>11.0</td>\n",
       "      <td>22.0</td>\n",
       "      <td>27.0</td>\n",
       "      <td>42.0</td>\n",
       "      <td>26.0</td>\n",
       "      <td>54.445833</td>\n",
       "    </tr>\n",
       "  </tbody>\n",
       "</table>\n",
       "<p>3 rows × 172 columns</p>\n",
       "</div>"
      ],
      "text/plain": [
       "                     num_orders  day  dayofweek  lag_1  lag_2  lag_3  lag_4  \\\n",
       "datetime                                                                      \n",
       "2018-03-11 00:00:00          81   11          6   73.0   80.0   62.0   54.0   \n",
       "2018-03-11 01:00:00          83   11          6   81.0   73.0   80.0   62.0   \n",
       "2018-03-11 02:00:00          36   11          6   83.0   81.0   73.0   80.0   \n",
       "\n",
       "                     lag_5  lag_6  lag_7  ...  lag_160  lag_161  lag_162  \\\n",
       "datetime                                  ...                              \n",
       "2018-03-11 00:00:00   33.0  102.0   60.0  ...     39.0     12.0     11.0   \n",
       "2018-03-11 01:00:00   54.0   33.0  102.0  ...     39.0     39.0     12.0   \n",
       "2018-03-11 02:00:00   62.0   54.0   33.0  ...     19.0     39.0     39.0   \n",
       "\n",
       "                     lag_163  lag_164  lag_165  lag_166  lag_167  lag_168  \\\n",
       "datetime                                                                    \n",
       "2018-03-11 00:00:00     22.0     27.0     42.0     26.0     60.0     75.0   \n",
       "2018-03-11 01:00:00     11.0     22.0     27.0     42.0     26.0     60.0   \n",
       "2018-03-11 02:00:00     12.0     11.0     22.0     27.0     42.0     26.0   \n",
       "\n",
       "                     rolling_mean  \n",
       "datetime                           \n",
       "2018-03-11 00:00:00     54.633333  \n",
       "2018-03-11 01:00:00     54.454167  \n",
       "2018-03-11 02:00:00     54.445833  \n",
       "\n",
       "[3 rows x 172 columns]"
      ]
     },
     "execution_count": 83,
     "metadata": {},
     "output_type": "execute_result"
    }
   ],
   "source": [
    "# удалим строки с возникшими пропусками\n",
    "df.dropna(inplace=True)\n",
    "df.head(3)"
   ]
  },
  {
   "cell_type": "code",
   "execution_count": 84,
   "id": "38978787",
   "metadata": {},
   "outputs": [
    {
     "data": {
      "image/png": "[encoded data removed]",
      "text/plain": [
       "<Figure size 1850x600 with 1 Axes>"
      ]
     },
     "metadata": {},
     "output_type": "display_data"
    }
   ],
   "source": [
    "# Автокорреляция\n",
    "fig = tsaplots.plot_acf(df.num_orders,lags= 190)\n",
    "fig.set_size_inches(18.5, 6)\n",
    "plt.ylim(-.1, 1.1)\n",
    "plt.show()"
   ]
  },
  {
   "cell_type": "markdown",
   "id": "04e27f8a",
   "metadata": {},
   "source": [
    "С таргетом сильно коррелирует сдвиги, кратные 24 периода и сдвиг на 1 период (час)."
   ]
  },
  {
   "cell_type": "markdown",
   "id": "7a8101ba",
   "metadata": {},
   "source": [
    "## Подготовка данных"
   ]
  },
  {
   "cell_type": "code",
   "execution_count": 85,
   "id": "6de98d68",
   "metadata": {},
   "outputs": [],
   "source": [
    "# Определим константы\n",
    "RANDOM_STATE = 42\n",
    "\n",
    "# Определим X и y\n",
    "X = df.drop('num_orders', axis=1)\n",
    "y = df['num_orders']\n",
    "\n",
    "# Выделим тренировочную и тестовую выборки\n",
    "Х_train, X_test, y_train, y_test = train_test_split(X, y, test_size=0.1, shuffle=False)"
   ]
  },
  {
   "cell_type": "code",
   "execution_count": 86,
   "id": "c6d75e05",
   "metadata": {},
   "outputs": [
    {
     "name": "stdout",
     "output_type": "stream",
     "text": [
      "Числовые: ['lag_127', 'lag_162', 'lag_2', 'lag_128', 'lag_5', 'lag_22', 'lag_92', 'lag_119', 'lag_15', 'lag_26', 'lag_28', 'lag_89', 'lag_149', 'lag_94', 'lag_129', 'lag_45', 'lag_138', 'lag_18', 'lag_93', 'lag_103', 'lag_97', 'lag_67', 'lag_7', 'lag_61', 'lag_46', 'lag_9', 'lag_52', 'lag_80', 'lag_159', 'lag_109', 'lag_14', 'lag_98', 'lag_90', 'lag_70', 'lag_63', 'lag_60', 'lag_131', 'lag_120', 'lag_82', 'lag_104', 'lag_139', 'lag_160', 'lag_49', 'lag_121', 'lag_116', 'lag_48', 'lag_74', 'lag_47', 'lag_24', 'lag_43', 'lag_86', 'lag_85', 'lag_155', 'lag_37', 'lag_53', 'lag_13', 'lag_57', 'lag_140', 'lag_76', 'lag_35', 'lag_113', 'lag_96', 'lag_153', 'lag_168', 'lag_50', 'lag_117', 'lag_100', 'lag_136', 'lag_111', 'rolling_mean', 'lag_143', 'lag_95', 'lag_56', 'lag_72', 'lag_77', 'lag_167', 'lag_150', 'lag_166', 'lag_65', 'lag_79', 'lag_21', 'lag_122', 'lag_165', 'lag_6', 'lag_91', 'lag_132', 'lag_34', 'lag_124', 'lag_102', 'lag_12', 'lag_158', 'lag_110', 'lag_101', 'lag_66', 'lag_55', 'lag_75', 'lag_78', 'lag_44', 'lag_108', 'lag_30', 'lag_133', 'lag_31', 'lag_130', 'lag_42', 'lag_8', 'lag_83', 'lag_84', 'lag_16', 'lag_3', 'lag_146', 'lag_115', 'lag_135', 'lag_4', 'lag_20', 'lag_11', 'lag_64', 'lag_81', 'lag_38', 'lag_126', 'lag_164', 'lag_154', 'lag_33', 'lag_19', 'lag_54', 'lag_145', 'lag_157', 'lag_1', 'lag_161', 'lag_29', 'lag_152', 'lag_156', 'lag_125', 'lag_17', 'lag_40', 'lag_134', 'lag_41', 'lag_142', 'lag_23', 'lag_62', 'lag_114', 'lag_118', 'lag_39', 'lag_163', 'lag_123', 'lag_36', 'lag_58', 'lag_148', 'lag_106', 'lag_27', 'lag_69', 'lag_137', 'lag_73', 'lag_71', 'lag_151', 'lag_147', 'lag_105', 'lag_10', 'lag_112', 'lag_107', 'lag_32', 'lag_51', 'lag_88', 'lag_99', 'lag_144', 'lag_25', 'lag_141', 'lag_59', 'lag_68', 'lag_87'] \n",
      "Категориальные: ['day', 'dayofweek']\n"
     ]
    }
   ],
   "source": [
    "# создаем списки переменных\n",
    "# категориальные\n",
    "cat_col = ['day', 'dayofweek']\n",
    "# числовые\n",
    "num_col = list(set(Х_train.select_dtypes(include='number').columns) - set(cat_col))\n",
    "\n",
    "print(f'Числовые: {num_col} \\nКатегориальные: {cat_col}' )"
   ]
  },
  {
   "cell_type": "markdown",
   "id": "349f43de",
   "metadata": {},
   "source": [
    "## Обучение моделей"
   ]
  },
  {
   "cell_type": "markdown",
   "id": "64f5b9d3",
   "metadata": {},
   "source": [
    "Для решения задачи регрессии можем взять линейную регрессию как самую базовую (все параметры числовые), дерево-регрессор и модель градиентного бустинга."
   ]
  },
  {
   "cell_type": "code",
   "execution_count": 87,
   "id": "ad66d428",
   "metadata": {},
   "outputs": [],
   "source": [
    "# кодирование категориальных переменных\n",
    "ohe_pipe = Pipeline(\n",
    "    [\n",
    "        (\n",
    "            'imputer',\n",
    "            SimpleImputer(missing_values=np.nan, strategy='most_frequent')\n",
    "        ),\n",
    "        (\n",
    "            'ohe',\n",
    "            OneHotEncoder(drop='first', handle_unknown='ignore', sparse_output=False)\n",
    "        )\n",
    "    ]\n",
    ")\n",
    "\n",
    "# подготовка данных\n",
    "data_preprocessor = ColumnTransformer(\n",
    "    [\n",
    "        ('ohe', ohe_pipe, cat_col),\n",
    "        ('num', MinMaxScaler(), num_col)\n",
    "    ],\n",
    "    remainder='passthrough'\n",
    ")\n",
    "\n",
    "# подготовка данных и модель\n",
    "pipe_final = Pipeline(\n",
    "    [\n",
    "        ('preprocessor', data_preprocessor),\n",
    "        ('models', LinearRegression())\n",
    "    ]\n",
    ")\n",
    "\n",
    "param_grid = [\n",
    "    {\n",
    "        'models': [LinearRegression()],\n",
    "        'preprocessor__num': [StandardScaler(), MinMaxScaler(), 'passthrough']\n",
    "    }\n",
    "]"
   ]
  },
  {
   "cell_type": "code",
   "execution_count": 88,
   "id": "5bdee624",
   "metadata": {},
   "outputs": [
    {
     "data": {
      "text/html": [
       "<style>#sk-container-id-7 {\n",
       "  /* Definition of color scheme common for light and dark mode */\n",
       "  --sklearn-color-text: black;\n",
       "  --sklearn-color-line: gray;\n",
       "  /* Definition of color scheme for unfitted estimators */\n",
       "  --sklearn-color-unfitted-level-0: #fff5e6;\n",
       "  --sklearn-color-unfitted-level-1: #f6e4d2;\n",
       "  --sklearn-color-unfitted-level-2: #ffe0b3;\n",
       "  --sklearn-color-unfitted-level-3: chocolate;\n",
       "  /* Definition of color scheme for fitted estimators */\n",
       "  --sklearn-color-fitted-level-0: #f0f8ff;\n",
       "  --sklearn-color-fitted-level-1: #d4ebff;\n",
       "  --sklearn-color-fitted-level-2: #b3dbfd;\n",
       "  --sklearn-color-fitted-level-3: cornflowerblue;\n",
       "\n",
       "  /* Specific color for light theme */\n",
       "  --sklearn-color-text-on-default-background: var(--sg-text-color, var(--theme-code-foreground, var(--jp-content-font-color1, black)));\n",
       "  --sklearn-color-background: var(--sg-background-color, var(--theme-background, var(--jp-layout-color0, white)));\n",
       "  --sklearn-color-border-box: var(--sg-text-color, var(--theme-code-foreground, var(--jp-content-font-color1, black)));\n",
       "  --sklearn-color-icon: #696969;\n",
       "\n",
       "  @media (prefers-color-scheme: dark) {\n",
       "    /* Redefinition of color scheme for dark theme */\n",
       "    --sklearn-color-text-on-default-background: var(--sg-text-color, var(--theme-code-foreground, var(--jp-content-font-color1, white)));\n",
       "    --sklearn-color-background: var(--sg-background-color, var(--theme-background, var(--jp-layout-color0, #111)));\n",
       "    --sklearn-color-border-box: var(--sg-text-color, var(--theme-code-foreground, var(--jp-content-font-color1, white)));\n",
       "    --sklearn-color-icon: #878787;\n",
       "  }\n",
       "}\n",
       "\n",
       "#sk-container-id-7 {\n",
       "  color: var(--sklearn-color-text);\n",
       "}\n",
       "\n",
       "#sk-container-id-7 pre {\n",
       "  padding: 0;\n",
       "}\n",
       "\n",
       "#sk-container-id-7 input.sk-hidden--visually {\n",
       "  border: 0;\n",
       "  clip: rect(1px 1px 1px 1px);\n",
       "  clip: rect(1px, 1px, 1px, 1px);\n",
       "  height: 1px;\n",
       "  margin: -1px;\n",
       "  overflow: hidden;\n",
       "  padding: 0;\n",
       "  position: absolute;\n",
       "  width: 1px;\n",
       "}\n",
       "\n",
       "#sk-container-id-7 div.sk-dashed-wrapped {\n",
       "  border: 1px dashed var(--sklearn-color-line);\n",
       "  margin: 0 0.4em 0.5em 0.4em;\n",
       "  box-sizing: border-box;\n",
       "  padding-bottom: 0.4em;\n",
       "  background-color: var(--sklearn-color-background);\n",
       "}\n",
       "\n",
       "#sk-container-id-7 div.sk-container {\n",
       "  /* jupyter's `normalize.less` sets `[hidden] { display: none; }`\n",
       "     but bootstrap.min.css set `[hidden] { display: none !important; }`\n",
       "     so we also need the `!important` here to be able to override the\n",
       "     default hidden behavior on the sphinx rendered scikit-learn.org.\n",
       "     See: https://github.com/scikit-learn/scikit-learn/issues/21755 */\n",
       "  display: inline-block !important;\n",
       "  position: relative;\n",
       "}\n",
       "\n",
       "#sk-container-id-7 div.sk-text-repr-fallback {\n",
       "  display: none;\n",
       "}\n",
       "\n",
       "div.sk-parallel-item,\n",
       "div.sk-serial,\n",
       "div.sk-item {\n",
       "  /* draw centered vertical line to link estimators */\n",
       "  background-image: linear-gradient(var(--sklearn-color-text-on-default-background), var(--sklearn-color-text-on-default-background));\n",
       "  background-size: 2px 100%;\n",
       "  background-repeat: no-repeat;\n",
       "  background-position: center center;\n",
       "}\n",
       "\n",
       "/* Parallel-specific style estimator block */\n",
       "\n",
       "#sk-container-id-7 div.sk-parallel-item::after {\n",
       "  content: \"\";\n",
       "  width: 100%;\n",
       "  border-bottom: 2px solid var(--sklearn-color-text-on-default-background);\n",
       "  flex-grow: 1;\n",
       "}\n",
       "\n",
       "#sk-container-id-7 div.sk-parallel {\n",
       "  display: flex;\n",
       "  align-items: stretch;\n",
       "  justify-content: center;\n",
       "  background-color: var(--sklearn-color-background);\n",
       "  position: relative;\n",
       "}\n",
       "\n",
       "#sk-container-id-7 div.sk-parallel-item {\n",
       "  display: flex;\n",
       "  flex-direction: column;\n",
       "}\n",
       "\n",
       "#sk-container-id-7 div.sk-parallel-item:first-child::after {\n",
       "  align-self: flex-end;\n",
       "  width: 50%;\n",
       "}\n",
       "\n",
       "#sk-container-id-7 div.sk-parallel-item:last-child::after {\n",
       "  align-self: flex-start;\n",
       "  width: 50%;\n",
       "}\n",
       "\n",
       "#sk-container-id-7 div.sk-parallel-item:only-child::after {\n",
       "  width: 0;\n",
       "}\n",
       "\n",
       "/* Serial-specific style estimator block */\n",
       "\n",
       "#sk-container-id-7 div.sk-serial {\n",
       "  display: flex;\n",
       "  flex-direction: column;\n",
       "  align-items: center;\n",
       "  background-color: var(--sklearn-color-background);\n",
       "  padding-right: 1em;\n",
       "  padding-left: 1em;\n",
       "}\n",
       "\n",
       "\n",
       "/* Toggleable style: style used for estimator/Pipeline/ColumnTransformer box that is\n",
       "clickable and can be expanded/collapsed.\n",
       "- Pipeline and ColumnTransformer use this feature and define the default style\n",
       "- Estimators will overwrite some part of the style using the `sk-estimator` class\n",
       "*/\n",
       "\n",
       "/* Pipeline and ColumnTransformer style (default) */\n",
       "\n",
       "#sk-container-id-7 div.sk-toggleable {\n",
       "  /* Default theme specific background. It is overwritten whether we have a\n",
       "  specific estimator or a Pipeline/ColumnTransformer */\n",
       "  background-color: var(--sklearn-color-background);\n",
       "}\n",
       "\n",
       "/* Toggleable label */\n",
       "#sk-container-id-7 label.sk-toggleable__label {\n",
       "  cursor: pointer;\n",
       "  display: block;\n",
       "  width: 100%;\n",
       "  margin-bottom: 0;\n",
       "  padding: 0.5em;\n",
       "  box-sizing: border-box;\n",
       "  text-align: center;\n",
       "}\n",
       "\n",
       "#sk-container-id-7 label.sk-toggleable__label-arrow:before {\n",
       "  /* Arrow on the left of the label */\n",
       "  content: \"▸\";\n",
       "  float: left;\n",
       "  margin-right: 0.25em;\n",
       "  color: var(--sklearn-color-icon);\n",
       "}\n",
       "\n",
       "#sk-container-id-7 label.sk-toggleable__label-arrow:hover:before {\n",
       "  color: var(--sklearn-color-text);\n",
       "}\n",
       "\n",
       "/* Toggleable content - dropdown */\n",
       "\n",
       "#sk-container-id-7 div.sk-toggleable__content {\n",
       "  max-height: 0;\n",
       "  max-width: 0;\n",
       "  overflow: hidden;\n",
       "  text-align: left;\n",
       "  /* unfitted */\n",
       "  background-color: var(--sklearn-color-unfitted-level-0);\n",
       "}\n",
       "\n",
       "#sk-container-id-7 div.sk-toggleable__content.fitted {\n",
       "  /* fitted */\n",
       "  background-color: var(--sklearn-color-fitted-level-0);\n",
       "}\n",
       "\n",
       "#sk-container-id-7 div.sk-toggleable__content pre {\n",
       "  margin: 0.2em;\n",
       "  border-radius: 0.25em;\n",
       "  color: var(--sklearn-color-text);\n",
       "  /* unfitted */\n",
       "  background-color: var(--sklearn-color-unfitted-level-0);\n",
       "}\n",
       "\n",
       "#sk-container-id-7 div.sk-toggleable__content.fitted pre {\n",
       "  /* unfitted */\n",
       "  background-color: var(--sklearn-color-fitted-level-0);\n",
       "}\n",
       "\n",
       "#sk-container-id-7 input.sk-toggleable__control:checked~div.sk-toggleable__content {\n",
       "  /* Expand drop-down */\n",
       "  max-height: 200px;\n",
       "  max-width: 100%;\n",
       "  overflow: auto;\n",
       "}\n",
       "\n",
       "#sk-container-id-7 input.sk-toggleable__control:checked~label.sk-toggleable__label-arrow:before {\n",
       "  content: \"▾\";\n",
       "}\n",
       "\n",
       "/* Pipeline/ColumnTransformer-specific style */\n",
       "\n",
       "#sk-container-id-7 div.sk-label input.sk-toggleable__control:checked~label.sk-toggleable__label {\n",
       "  color: var(--sklearn-color-text);\n",
       "  background-color: var(--sklearn-color-unfitted-level-2);\n",
       "}\n",
       "\n",
       "#sk-container-id-7 div.sk-label.fitted input.sk-toggleable__control:checked~label.sk-toggleable__label {\n",
       "  background-color: var(--sklearn-color-fitted-level-2);\n",
       "}\n",
       "\n",
       "/* Estimator-specific style */\n",
       "\n",
       "/* Colorize estimator box */\n",
       "#sk-container-id-7 div.sk-estimator input.sk-toggleable__control:checked~label.sk-toggleable__label {\n",
       "  /* unfitted */\n",
       "  background-color: var(--sklearn-color-unfitted-level-2);\n",
       "}\n",
       "\n",
       "#sk-container-id-7 div.sk-estimator.fitted input.sk-toggleable__control:checked~label.sk-toggleable__label {\n",
       "  /* fitted */\n",
       "  background-color: var(--sklearn-color-fitted-level-2);\n",
       "}\n",
       "\n",
       "#sk-container-id-7 div.sk-label label.sk-toggleable__label,\n",
       "#sk-container-id-7 div.sk-label label {\n",
       "  /* The background is the default theme color */\n",
       "  color: var(--sklearn-color-text-on-default-background);\n",
       "}\n",
       "\n",
       "/* On hover, darken the color of the background */\n",
       "#sk-container-id-7 div.sk-label:hover label.sk-toggleable__label {\n",
       "  color: var(--sklearn-color-text);\n",
       "  background-color: var(--sklearn-color-unfitted-level-2);\n",
       "}\n",
       "\n",
       "/* Label box, darken color on hover, fitted */\n",
       "#sk-container-id-7 div.sk-label.fitted:hover label.sk-toggleable__label.fitted {\n",
       "  color: var(--sklearn-color-text);\n",
       "  background-color: var(--sklearn-color-fitted-level-2);\n",
       "}\n",
       "\n",
       "/* Estimator label */\n",
       "\n",
       "#sk-container-id-7 div.sk-label label {\n",
       "  font-family: monospace;\n",
       "  font-weight: bold;\n",
       "  display: inline-block;\n",
       "  line-height: 1.2em;\n",
       "}\n",
       "\n",
       "#sk-container-id-7 div.sk-label-container {\n",
       "  text-align: center;\n",
       "}\n",
       "\n",
       "/* Estimator-specific */\n",
       "#sk-container-id-7 div.sk-estimator {\n",
       "  font-family: monospace;\n",
       "  border: 1px dotted var(--sklearn-color-border-box);\n",
       "  border-radius: 0.25em;\n",
       "  box-sizing: border-box;\n",
       "  margin-bottom: 0.5em;\n",
       "  /* unfitted */\n",
       "  background-color: var(--sklearn-color-unfitted-level-0);\n",
       "}\n",
       "\n",
       "#sk-container-id-7 div.sk-estimator.fitted {\n",
       "  /* fitted */\n",
       "  background-color: var(--sklearn-color-fitted-level-0);\n",
       "}\n",
       "\n",
       "/* on hover */\n",
       "#sk-container-id-7 div.sk-estimator:hover {\n",
       "  /* unfitted */\n",
       "  background-color: var(--sklearn-color-unfitted-level-2);\n",
       "}\n",
       "\n",
       "#sk-container-id-7 div.sk-estimator.fitted:hover {\n",
       "  /* fitted */\n",
       "  background-color: var(--sklearn-color-fitted-level-2);\n",
       "}\n",
       "\n",
       "/* Specification for estimator info (e.g. \"i\" and \"?\") */\n",
       "\n",
       "/* Common style for \"i\" and \"?\" */\n",
       "\n",
       ".sk-estimator-doc-link,\n",
       "a:link.sk-estimator-doc-link,\n",
       "a:visited.sk-estimator-doc-link {\n",
       "  float: right;\n",
       "  font-size: smaller;\n",
       "  line-height: 1em;\n",
       "  font-family: monospace;\n",
       "  background-color: var(--sklearn-color-background);\n",
       "  border-radius: 1em;\n",
       "  height: 1em;\n",
       "  width: 1em;\n",
       "  text-decoration: none !important;\n",
       "  margin-left: 1ex;\n",
       "  /* unfitted */\n",
       "  border: var(--sklearn-color-unfitted-level-1) 1pt solid;\n",
       "  color: var(--sklearn-color-unfitted-level-1);\n",
       "}\n",
       "\n",
       ".sk-estimator-doc-link.fitted,\n",
       "a:link.sk-estimator-doc-link.fitted,\n",
       "a:visited.sk-estimator-doc-link.fitted {\n",
       "  /* fitted */\n",
       "  border: var(--sklearn-color-fitted-level-1) 1pt solid;\n",
       "  color: var(--sklearn-color-fitted-level-1);\n",
       "}\n",
       "\n",
       "/* On hover */\n",
       "div.sk-estimator:hover .sk-estimator-doc-link:hover,\n",
       ".sk-estimator-doc-link:hover,\n",
       "div.sk-label-container:hover .sk-estimator-doc-link:hover,\n",
       ".sk-estimator-doc-link:hover {\n",
       "  /* unfitted */\n",
       "  background-color: var(--sklearn-color-unfitted-level-3);\n",
       "  color: var(--sklearn-color-background);\n",
       "  text-decoration: none;\n",
       "}\n",
       "\n",
       "div.sk-estimator.fitted:hover .sk-estimator-doc-link.fitted:hover,\n",
       ".sk-estimator-doc-link.fitted:hover,\n",
       "div.sk-label-container:hover .sk-estimator-doc-link.fitted:hover,\n",
       ".sk-estimator-doc-link.fitted:hover {\n",
       "  /* fitted */\n",
       "  background-color: var(--sklearn-color-fitted-level-3);\n",
       "  color: var(--sklearn-color-background);\n",
       "  text-decoration: none;\n",
       "}\n",
       "\n",
       "/* Span, style for the box shown on hovering the info icon */\n",
       ".sk-estimator-doc-link span {\n",
       "  display: none;\n",
       "  z-index: 9999;\n",
       "  position: relative;\n",
       "  font-weight: normal;\n",
       "  right: .2ex;\n",
       "  padding: .5ex;\n",
       "  margin: .5ex;\n",
       "  width: min-content;\n",
       "  min-width: 20ex;\n",
       "  max-width: 50ex;\n",
       "  color: var(--sklearn-color-text);\n",
       "  box-shadow: 2pt 2pt 4pt #999;\n",
       "  /* unfitted */\n",
       "  background: var(--sklearn-color-unfitted-level-0);\n",
       "  border: .5pt solid var(--sklearn-color-unfitted-level-3);\n",
       "}\n",
       "\n",
       ".sk-estimator-doc-link.fitted span {\n",
       "  /* fitted */\n",
       "  background: var(--sklearn-color-fitted-level-0);\n",
       "  border: var(--sklearn-color-fitted-level-3);\n",
       "}\n",
       "\n",
       ".sk-estimator-doc-link:hover span {\n",
       "  display: block;\n",
       "}\n",
       "\n",
       "/* \"?\"-specific style due to the `<a>` HTML tag */\n",
       "\n",
       "#sk-container-id-7 a.estimator_doc_link {\n",
       "  float: right;\n",
       "  font-size: 1rem;\n",
       "  line-height: 1em;\n",
       "  font-family: monospace;\n",
       "  background-color: var(--sklearn-color-background);\n",
       "  border-radius: 1rem;\n",
       "  height: 1rem;\n",
       "  width: 1rem;\n",
       "  text-decoration: none;\n",
       "  /* unfitted */\n",
       "  color: var(--sklearn-color-unfitted-level-1);\n",
       "  border: var(--sklearn-color-unfitted-level-1) 1pt solid;\n",
       "}\n",
       "\n",
       "#sk-container-id-7 a.estimator_doc_link.fitted {\n",
       "  /* fitted */\n",
       "  border: var(--sklearn-color-fitted-level-1) 1pt solid;\n",
       "  color: var(--sklearn-color-fitted-level-1);\n",
       "}\n",
       "\n",
       "/* On hover */\n",
       "#sk-container-id-7 a.estimator_doc_link:hover {\n",
       "  /* unfitted */\n",
       "  background-color: var(--sklearn-color-unfitted-level-3);\n",
       "  color: var(--sklearn-color-background);\n",
       "  text-decoration: none;\n",
       "}\n",
       "\n",
       "#sk-container-id-7 a.estimator_doc_link.fitted:hover {\n",
       "  /* fitted */\n",
       "  background-color: var(--sklearn-color-fitted-level-3);\n",
       "}\n",
       "</style><div id=\"sk-container-id-7\" class=\"sk-top-container\"><div class=\"sk-text-repr-fallback\"><pre>RandomizedSearchCV(cv=TimeSeriesSplit(gap=0, max_train_size=None, n_splits=4, test_size=None),\n",
       "                   estimator=Pipeline(steps=[(&#x27;preprocessor&#x27;,\n",
       "                                              ColumnTransformer(remainder=&#x27;passthrough&#x27;,\n",
       "                                                                transformers=[(&#x27;ohe&#x27;,\n",
       "                                                                               Pipeline(steps=[(&#x27;imputer&#x27;,\n",
       "                                                                                                SimpleImputer(strategy=&#x27;most_frequent&#x27;)),\n",
       "                                                                                               (&#x27;ohe&#x27;,\n",
       "                                                                                                OneHotEncoder(drop=&#x27;first&#x27;,\n",
       "                                                                                                              handle_unknown=&#x27;ignore&#x27;,\n",
       "                                                                                                              sparse_output=False))]),\n",
       "                                                                               [&#x27;da...\n",
       "                                                                                &#x27;lag_138&#x27;,\n",
       "                                                                                &#x27;lag_18&#x27;,\n",
       "                                                                                &#x27;lag_93&#x27;,\n",
       "                                                                                &#x27;lag_103&#x27;,\n",
       "                                                                                &#x27;lag_97&#x27;,\n",
       "                                                                                &#x27;lag_67&#x27;,\n",
       "                                                                                &#x27;lag_7&#x27;,\n",
       "                                                                                &#x27;lag_61&#x27;,\n",
       "                                                                                &#x27;lag_46&#x27;,\n",
       "                                                                                &#x27;lag_9&#x27;,\n",
       "                                                                                &#x27;lag_52&#x27;,\n",
       "                                                                                &#x27;lag_80&#x27;,\n",
       "                                                                                &#x27;lag_159&#x27;,\n",
       "                                                                                &#x27;lag_109&#x27;, ...])])),\n",
       "                                             (&#x27;models&#x27;, LinearRegression())]),\n",
       "                   n_jobs=-1,\n",
       "                   param_distributions=[{&#x27;models&#x27;: [LinearRegression()],\n",
       "                                         &#x27;preprocessor__num&#x27;: [StandardScaler(),\n",
       "                                                               MinMaxScaler(),\n",
       "                                                               &#x27;passthrough&#x27;]}],\n",
       "                   random_state=42, scoring=&#x27;neg_root_mean_squared_error&#x27;)</pre><b>In a Jupyter environment, please rerun this cell to show the HTML representation or trust the notebook. <br />On GitHub, the HTML representation is unable to render, please try loading this page with nbviewer.org.</b></div><div class=\"sk-container\" hidden><div class=\"sk-item sk-dashed-wrapped\"><div class=\"sk-label-container\"><div class=\"sk-label fitted sk-toggleable\"><input class=\"sk-toggleable__control sk-hidden--visually\" id=\"sk-estimator-id-64\" type=\"checkbox\" ><label for=\"sk-estimator-id-64\" class=\"sk-toggleable__label fitted sk-toggleable__label-arrow fitted\">&nbsp;&nbsp;RandomizedSearchCV<a class=\"sk-estimator-doc-link fitted\" rel=\"noreferrer\" target=\"_blank\" href=\"https://scikit-learn.org/1.5/modules/generated/sklearn.model_selection.RandomizedSearchCV.html\">?<span>Documentation for RandomizedSearchCV</span></a><span class=\"sk-estimator-doc-link fitted\">i<span>Fitted</span></span></label><div class=\"sk-toggleable__content fitted\"><pre>RandomizedSearchCV(cv=TimeSeriesSplit(gap=0, max_train_size=None, n_splits=4, test_size=None),\n",
       "                   estimator=Pipeline(steps=[(&#x27;preprocessor&#x27;,\n",
       "                                              ColumnTransformer(remainder=&#x27;passthrough&#x27;,\n",
       "                                                                transformers=[(&#x27;ohe&#x27;,\n",
       "                                                                               Pipeline(steps=[(&#x27;imputer&#x27;,\n",
       "                                                                                                SimpleImputer(strategy=&#x27;most_frequent&#x27;)),\n",
       "                                                                                               (&#x27;ohe&#x27;,\n",
       "                                                                                                OneHotEncoder(drop=&#x27;first&#x27;,\n",
       "                                                                                                              handle_unknown=&#x27;ignore&#x27;,\n",
       "                                                                                                              sparse_output=False))]),\n",
       "                                                                               [&#x27;da...\n",
       "                                                                                &#x27;lag_138&#x27;,\n",
       "                                                                                &#x27;lag_18&#x27;,\n",
       "                                                                                &#x27;lag_93&#x27;,\n",
       "                                                                                &#x27;lag_103&#x27;,\n",
       "                                                                                &#x27;lag_97&#x27;,\n",
       "                                                                                &#x27;lag_67&#x27;,\n",
       "                                                                                &#x27;lag_7&#x27;,\n",
       "                                                                                &#x27;lag_61&#x27;,\n",
       "                                                                                &#x27;lag_46&#x27;,\n",
       "                                                                                &#x27;lag_9&#x27;,\n",
       "                                                                                &#x27;lag_52&#x27;,\n",
       "                                                                                &#x27;lag_80&#x27;,\n",
       "                                                                                &#x27;lag_159&#x27;,\n",
       "                                                                                &#x27;lag_109&#x27;, ...])])),\n",
       "                                             (&#x27;models&#x27;, LinearRegression())]),\n",
       "                   n_jobs=-1,\n",
       "                   param_distributions=[{&#x27;models&#x27;: [LinearRegression()],\n",
       "                                         &#x27;preprocessor__num&#x27;: [StandardScaler(),\n",
       "                                                               MinMaxScaler(),\n",
       "                                                               &#x27;passthrough&#x27;]}],\n",
       "                   random_state=42, scoring=&#x27;neg_root_mean_squared_error&#x27;)</pre></div> </div></div><div class=\"sk-parallel\"><div class=\"sk-parallel-item\"><div class=\"sk-item\"><div class=\"sk-label-container\"><div class=\"sk-label fitted sk-toggleable\"><input class=\"sk-toggleable__control sk-hidden--visually\" id=\"sk-estimator-id-65\" type=\"checkbox\" ><label for=\"sk-estimator-id-65\" class=\"sk-toggleable__label fitted sk-toggleable__label-arrow fitted\">best_estimator_: Pipeline</label><div class=\"sk-toggleable__content fitted\"><pre>Pipeline(steps=[(&#x27;preprocessor&#x27;,\n",
       "                 ColumnTransformer(remainder=&#x27;passthrough&#x27;,\n",
       "                                   transformers=[(&#x27;ohe&#x27;,\n",
       "                                                  Pipeline(steps=[(&#x27;imputer&#x27;,\n",
       "                                                                   SimpleImputer(strategy=&#x27;most_frequent&#x27;)),\n",
       "                                                                  (&#x27;ohe&#x27;,\n",
       "                                                                   OneHotEncoder(drop=&#x27;first&#x27;,\n",
       "                                                                                 handle_unknown=&#x27;ignore&#x27;,\n",
       "                                                                                 sparse_output=False))]),\n",
       "                                                  [&#x27;day&#x27;, &#x27;dayofweek&#x27;]),\n",
       "                                                 (&#x27;num&#x27;, &#x27;passthrough&#x27;,\n",
       "                                                  [&#x27;lag_127&#x27;, &#x27;lag_162&#x27;,\n",
       "                                                   &#x27;lag_2&#x27;, &#x27;lag_128&#x27;, &#x27;lag_5&#x27;,\n",
       "                                                   &#x27;lag_22&#x27;, &#x27;lag_92&#x27;,\n",
       "                                                   &#x27;lag_119&#x27;, &#x27;lag_15&#x27;,\n",
       "                                                   &#x27;lag_26&#x27;, &#x27;lag_28&#x27;, &#x27;lag_89&#x27;,\n",
       "                                                   &#x27;lag_149&#x27;, &#x27;lag_94&#x27;,\n",
       "                                                   &#x27;lag_129&#x27;, &#x27;lag_45&#x27;,\n",
       "                                                   &#x27;lag_138&#x27;, &#x27;lag_18&#x27;,\n",
       "                                                   &#x27;lag_93&#x27;, &#x27;lag_103&#x27;,\n",
       "                                                   &#x27;lag_97&#x27;, &#x27;lag_67&#x27;, &#x27;lag_7&#x27;,\n",
       "                                                   &#x27;lag_61&#x27;, &#x27;lag_46&#x27;, &#x27;lag_9&#x27;,\n",
       "                                                   &#x27;lag_52&#x27;, &#x27;lag_80&#x27;,\n",
       "                                                   &#x27;lag_159&#x27;, &#x27;lag_109&#x27;, ...])])),\n",
       "                (&#x27;models&#x27;, LinearRegression())])</pre></div> </div></div><div class=\"sk-serial\"><div class=\"sk-item\"><div class=\"sk-serial\"><div class=\"sk-item sk-dashed-wrapped\"><div class=\"sk-label-container\"><div class=\"sk-label fitted sk-toggleable\"><input class=\"sk-toggleable__control sk-hidden--visually\" id=\"sk-estimator-id-66\" type=\"checkbox\" ><label for=\"sk-estimator-id-66\" class=\"sk-toggleable__label fitted sk-toggleable__label-arrow fitted\">&nbsp;preprocessor: ColumnTransformer<a class=\"sk-estimator-doc-link fitted\" rel=\"noreferrer\" target=\"_blank\" href=\"https://scikit-learn.org/1.5/modules/generated/sklearn.compose.ColumnTransformer.html\">?<span>Documentation for preprocessor: ColumnTransformer</span></a></label><div class=\"sk-toggleable__content fitted\"><pre>ColumnTransformer(remainder=&#x27;passthrough&#x27;,\n",
       "                  transformers=[(&#x27;ohe&#x27;,\n",
       "                                 Pipeline(steps=[(&#x27;imputer&#x27;,\n",
       "                                                  SimpleImputer(strategy=&#x27;most_frequent&#x27;)),\n",
       "                                                 (&#x27;ohe&#x27;,\n",
       "                                                  OneHotEncoder(drop=&#x27;first&#x27;,\n",
       "                                                                handle_unknown=&#x27;ignore&#x27;,\n",
       "                                                                sparse_output=False))]),\n",
       "                                 [&#x27;day&#x27;, &#x27;dayofweek&#x27;]),\n",
       "                                (&#x27;num&#x27;, &#x27;passthrough&#x27;,\n",
       "                                 [&#x27;lag_127&#x27;, &#x27;lag_162&#x27;, &#x27;lag_2&#x27;, &#x27;lag_128&#x27;,\n",
       "                                  &#x27;lag_5&#x27;, &#x27;lag_22&#x27;, &#x27;lag_92&#x27;, &#x27;lag_119&#x27;,\n",
       "                                  &#x27;lag_15&#x27;, &#x27;lag_26&#x27;, &#x27;lag_28&#x27;, &#x27;lag_89&#x27;,\n",
       "                                  &#x27;lag_149&#x27;, &#x27;lag_94&#x27;, &#x27;lag_129&#x27;, &#x27;lag_45&#x27;,\n",
       "                                  &#x27;lag_138&#x27;, &#x27;lag_18&#x27;, &#x27;lag_93&#x27;, &#x27;lag_103&#x27;,\n",
       "                                  &#x27;lag_97&#x27;, &#x27;lag_67&#x27;, &#x27;lag_7&#x27;, &#x27;lag_61&#x27;,\n",
       "                                  &#x27;lag_46&#x27;, &#x27;lag_9&#x27;, &#x27;lag_52&#x27;, &#x27;lag_80&#x27;,\n",
       "                                  &#x27;lag_159&#x27;, &#x27;lag_109&#x27;, ...])])</pre></div> </div></div><div class=\"sk-parallel\"><div class=\"sk-parallel-item\"><div class=\"sk-item\"><div class=\"sk-label-container\"><div class=\"sk-label fitted sk-toggleable\"><input class=\"sk-toggleable__control sk-hidden--visually\" id=\"sk-estimator-id-67\" type=\"checkbox\" ><label for=\"sk-estimator-id-67\" class=\"sk-toggleable__label fitted sk-toggleable__label-arrow fitted\">ohe</label><div class=\"sk-toggleable__content fitted\"><pre>[&#x27;day&#x27;, &#x27;dayofweek&#x27;]</pre></div> </div></div><div class=\"sk-serial\"><div class=\"sk-item\"><div class=\"sk-serial\"><div class=\"sk-item\"><div class=\"sk-estimator fitted sk-toggleable\"><input class=\"sk-toggleable__control sk-hidden--visually\" id=\"sk-estimator-id-68\" type=\"checkbox\" ><label for=\"sk-estimator-id-68\" class=\"sk-toggleable__label fitted sk-toggleable__label-arrow fitted\">&nbsp;SimpleImputer<a class=\"sk-estimator-doc-link fitted\" rel=\"noreferrer\" target=\"_blank\" href=\"https://scikit-learn.org/1.5/modules/generated/sklearn.impute.SimpleImputer.html\">?<span>Documentation for SimpleImputer</span></a></label><div class=\"sk-toggleable__content fitted\"><pre>SimpleImputer(strategy=&#x27;most_frequent&#x27;)</pre></div> </div></div><div class=\"sk-item\"><div class=\"sk-estimator fitted sk-toggleable\"><input class=\"sk-toggleable__control sk-hidden--visually\" id=\"sk-estimator-id-69\" type=\"checkbox\" ><label for=\"sk-estimator-id-69\" class=\"sk-toggleable__label fitted sk-toggleable__label-arrow fitted\">&nbsp;OneHotEncoder<a class=\"sk-estimator-doc-link fitted\" rel=\"noreferrer\" target=\"_blank\" href=\"https://scikit-learn.org/1.5/modules/generated/sklearn.preprocessing.OneHotEncoder.html\">?<span>Documentation for OneHotEncoder</span></a></label><div class=\"sk-toggleable__content fitted\"><pre>OneHotEncoder(drop=&#x27;first&#x27;, handle_unknown=&#x27;ignore&#x27;, sparse_output=False)</pre></div> </div></div></div></div></div></div></div><div class=\"sk-parallel-item\"><div class=\"sk-item\"><div class=\"sk-label-container\"><div class=\"sk-label fitted sk-toggleable\"><input class=\"sk-toggleable__control sk-hidden--visually\" id=\"sk-estimator-id-70\" type=\"checkbox\" ><label for=\"sk-estimator-id-70\" class=\"sk-toggleable__label fitted sk-toggleable__label-arrow fitted\">num</label><div class=\"sk-toggleable__content fitted\"><pre>[&#x27;lag_127&#x27;, &#x27;lag_162&#x27;, &#x27;lag_2&#x27;, &#x27;lag_128&#x27;, &#x27;lag_5&#x27;, &#x27;lag_22&#x27;, &#x27;lag_92&#x27;, &#x27;lag_119&#x27;, &#x27;lag_15&#x27;, &#x27;lag_26&#x27;, &#x27;lag_28&#x27;, &#x27;lag_89&#x27;, &#x27;lag_149&#x27;, &#x27;lag_94&#x27;, &#x27;lag_129&#x27;, &#x27;lag_45&#x27;, &#x27;lag_138&#x27;, &#x27;lag_18&#x27;, &#x27;lag_93&#x27;, &#x27;lag_103&#x27;, &#x27;lag_97&#x27;, &#x27;lag_67&#x27;, &#x27;lag_7&#x27;, &#x27;lag_61&#x27;, &#x27;lag_46&#x27;, &#x27;lag_9&#x27;, &#x27;lag_52&#x27;, &#x27;lag_80&#x27;, &#x27;lag_159&#x27;, &#x27;lag_109&#x27;, &#x27;lag_14&#x27;, &#x27;lag_98&#x27;, &#x27;lag_90&#x27;, &#x27;lag_70&#x27;, &#x27;lag_63&#x27;, &#x27;lag_60&#x27;, &#x27;lag_131&#x27;, &#x27;lag_120&#x27;, &#x27;lag_82&#x27;, &#x27;lag_104&#x27;, &#x27;lag_139&#x27;, &#x27;lag_160&#x27;, &#x27;lag_49&#x27;, &#x27;lag_121&#x27;, &#x27;lag_116&#x27;, &#x27;lag_48&#x27;, &#x27;lag_74&#x27;, &#x27;lag_47&#x27;, &#x27;lag_24&#x27;, &#x27;lag_43&#x27;, &#x27;lag_86&#x27;, &#x27;lag_85&#x27;, &#x27;lag_155&#x27;, &#x27;lag_37&#x27;, &#x27;lag_53&#x27;, &#x27;lag_13&#x27;, &#x27;lag_57&#x27;, &#x27;lag_140&#x27;, &#x27;lag_76&#x27;, &#x27;lag_35&#x27;, &#x27;lag_113&#x27;, &#x27;lag_96&#x27;, &#x27;lag_153&#x27;, &#x27;lag_168&#x27;, &#x27;lag_50&#x27;, &#x27;lag_117&#x27;, &#x27;lag_100&#x27;, &#x27;lag_136&#x27;, &#x27;lag_111&#x27;, &#x27;rolling_mean&#x27;, &#x27;lag_143&#x27;, &#x27;lag_95&#x27;, &#x27;lag_56&#x27;, &#x27;lag_72&#x27;, &#x27;lag_77&#x27;, &#x27;lag_167&#x27;, &#x27;lag_150&#x27;, &#x27;lag_166&#x27;, &#x27;lag_65&#x27;, &#x27;lag_79&#x27;, &#x27;lag_21&#x27;, &#x27;lag_122&#x27;, &#x27;lag_165&#x27;, &#x27;lag_6&#x27;, &#x27;lag_91&#x27;, &#x27;lag_132&#x27;, &#x27;lag_34&#x27;, &#x27;lag_124&#x27;, &#x27;lag_102&#x27;, &#x27;lag_12&#x27;, &#x27;lag_158&#x27;, &#x27;lag_110&#x27;, &#x27;lag_101&#x27;, &#x27;lag_66&#x27;, &#x27;lag_55&#x27;, &#x27;lag_75&#x27;, &#x27;lag_78&#x27;, &#x27;lag_44&#x27;, &#x27;lag_108&#x27;, &#x27;lag_30&#x27;, &#x27;lag_133&#x27;, &#x27;lag_31&#x27;, &#x27;lag_130&#x27;, &#x27;lag_42&#x27;, &#x27;lag_8&#x27;, &#x27;lag_83&#x27;, &#x27;lag_84&#x27;, &#x27;lag_16&#x27;, &#x27;lag_3&#x27;, &#x27;lag_146&#x27;, &#x27;lag_115&#x27;, &#x27;lag_135&#x27;, &#x27;lag_4&#x27;, &#x27;lag_20&#x27;, &#x27;lag_11&#x27;, &#x27;lag_64&#x27;, &#x27;lag_81&#x27;, &#x27;lag_38&#x27;, &#x27;lag_126&#x27;, &#x27;lag_164&#x27;, &#x27;lag_154&#x27;, &#x27;lag_33&#x27;, &#x27;lag_19&#x27;, &#x27;lag_54&#x27;, &#x27;lag_145&#x27;, &#x27;lag_157&#x27;, &#x27;lag_1&#x27;, &#x27;lag_161&#x27;, &#x27;lag_29&#x27;, &#x27;lag_152&#x27;, &#x27;lag_156&#x27;, &#x27;lag_125&#x27;, &#x27;lag_17&#x27;, &#x27;lag_40&#x27;, &#x27;lag_134&#x27;, &#x27;lag_41&#x27;, &#x27;lag_142&#x27;, &#x27;lag_23&#x27;, &#x27;lag_62&#x27;, &#x27;lag_114&#x27;, &#x27;lag_118&#x27;, &#x27;lag_39&#x27;, &#x27;lag_163&#x27;, &#x27;lag_123&#x27;, &#x27;lag_36&#x27;, &#x27;lag_58&#x27;, &#x27;lag_148&#x27;, &#x27;lag_106&#x27;, &#x27;lag_27&#x27;, &#x27;lag_69&#x27;, &#x27;lag_137&#x27;, &#x27;lag_73&#x27;, &#x27;lag_71&#x27;, &#x27;lag_151&#x27;, &#x27;lag_147&#x27;, &#x27;lag_105&#x27;, &#x27;lag_10&#x27;, &#x27;lag_112&#x27;, &#x27;lag_107&#x27;, &#x27;lag_32&#x27;, &#x27;lag_51&#x27;, &#x27;lag_88&#x27;, &#x27;lag_99&#x27;, &#x27;lag_144&#x27;, &#x27;lag_25&#x27;, &#x27;lag_141&#x27;, &#x27;lag_59&#x27;, &#x27;lag_68&#x27;, &#x27;lag_87&#x27;]</pre></div> </div></div><div class=\"sk-serial\"><div class=\"sk-item\"><div class=\"sk-estimator fitted sk-toggleable\"><input class=\"sk-toggleable__control sk-hidden--visually\" id=\"sk-estimator-id-71\" type=\"checkbox\" ><label for=\"sk-estimator-id-71\" class=\"sk-toggleable__label fitted sk-toggleable__label-arrow fitted\">passthrough</label><div class=\"sk-toggleable__content fitted\"><pre>passthrough</pre></div> </div></div></div></div></div><div class=\"sk-parallel-item\"><div class=\"sk-item\"><div class=\"sk-label-container\"><div class=\"sk-label fitted sk-toggleable\"><input class=\"sk-toggleable__control sk-hidden--visually\" id=\"sk-estimator-id-72\" type=\"checkbox\" ><label for=\"sk-estimator-id-72\" class=\"sk-toggleable__label fitted sk-toggleable__label-arrow fitted\">remainder</label><div class=\"sk-toggleable__content fitted\"><pre>[]</pre></div> </div></div><div class=\"sk-serial\"><div class=\"sk-item\"><div class=\"sk-estimator fitted sk-toggleable\"><input class=\"sk-toggleable__control sk-hidden--visually\" id=\"sk-estimator-id-73\" type=\"checkbox\" ><label for=\"sk-estimator-id-73\" class=\"sk-toggleable__label fitted sk-toggleable__label-arrow fitted\">passthrough</label><div class=\"sk-toggleable__content fitted\"><pre>passthrough</pre></div> </div></div></div></div></div></div></div><div class=\"sk-item\"><div class=\"sk-estimator fitted sk-toggleable\"><input class=\"sk-toggleable__control sk-hidden--visually\" id=\"sk-estimator-id-74\" type=\"checkbox\" ><label for=\"sk-estimator-id-74\" class=\"sk-toggleable__label fitted sk-toggleable__label-arrow fitted\">&nbsp;LinearRegression<a class=\"sk-estimator-doc-link fitted\" rel=\"noreferrer\" target=\"_blank\" href=\"https://scikit-learn.org/1.5/modules/generated/sklearn.linear_model.LinearRegression.html\">?<span>Documentation for LinearRegression</span></a></label><div class=\"sk-toggleable__content fitted\"><pre>LinearRegression()</pre></div> </div></div></div></div></div></div></div></div></div></div></div>"
      ],
      "text/plain": [
       "RandomizedSearchCV(cv=TimeSeriesSplit(gap=0, max_train_size=None, n_splits=4, test_size=None),\n",
       "                   estimator=Pipeline(steps=[('preprocessor',\n",
       "                                              ColumnTransformer(remainder='passthrough',\n",
       "                                                                transformers=[('ohe',\n",
       "                                                                               Pipeline(steps=[('imputer',\n",
       "                                                                                                SimpleImputer(strategy='most_frequent')),\n",
       "                                                                                               ('ohe',\n",
       "                                                                                                OneHotEncoder(drop='first',\n",
       "                                                                                                              handle_unknown='ignore',\n",
       "                                                                                                              sparse_output=False))]),\n",
       "                                                                               ['da...\n",
       "                                                                                'lag_138',\n",
       "                                                                                'lag_18',\n",
       "                                                                                'lag_93',\n",
       "                                                                                'lag_103',\n",
       "                                                                                'lag_97',\n",
       "                                                                                'lag_67',\n",
       "                                                                                'lag_7',\n",
       "                                                                                'lag_61',\n",
       "                                                                                'lag_46',\n",
       "                                                                                'lag_9',\n",
       "                                                                                'lag_52',\n",
       "                                                                                'lag_80',\n",
       "                                                                                'lag_159',\n",
       "                                                                                'lag_109', ...])])),\n",
       "                                             ('models', LinearRegression())]),\n",
       "                   n_jobs=-1,\n",
       "                   param_distributions=[{'models': [LinearRegression()],\n",
       "                                         'preprocessor__num': [StandardScaler(),\n",
       "                                                               MinMaxScaler(),\n",
       "                                                               'passthrough']}],\n",
       "                   random_state=42, scoring='neg_root_mean_squared_error')"
      ]
     },
     "execution_count": 88,
     "metadata": {},
     "output_type": "execute_result"
    }
   ],
   "source": [
    "tscv = TimeSeriesSplit(n_splits=4)\n",
    "\n",
    "randomized_search = RandomizedSearchCV(\n",
    "    pipe_final,\n",
    "    param_grid,\n",
    "    cv=tscv,\n",
    "    scoring='neg_root_mean_squared_error',\n",
    "    random_state=RANDOM_STATE,\n",
    "    n_jobs=-1\n",
    ")\n",
    "\n",
    "randomized_search.fit(Х_train, y_train)"
   ]
  },
  {
   "cell_type": "code",
   "execution_count": 89,
   "id": "375c50a6",
   "metadata": {},
   "outputs": [
    {
     "name": "stdout",
     "output_type": "stream",
     "text": [
      "20.28\n"
     ]
    }
   ],
   "source": [
    "model_lr = randomized_search.best_estimator_\n",
    "print(round(root_mean_squared_error(model_lr.predict(Х_train), y_train),2))"
   ]
  },
  {
   "cell_type": "code",
   "execution_count": 90,
   "id": "3ec865e2",
   "metadata": {},
   "outputs": [],
   "source": [
    "# Дерево решений и бустинг\n",
    "# кодирование категориальных переменных\n",
    "ord_pipe = Pipeline(\n",
    "    [\n",
    "        ('imputer_before_ord',\n",
    "         SimpleImputer(missing_values=np.nan, strategy='most_frequent')\n",
    "        ),\n",
    "\n",
    "        ('ord',\n",
    "         OrdinalEncoder(\n",
    "             handle_unknown='use_encoded_value',\n",
    "             unknown_value=np.nan,\n",
    "             categories='auto'\n",
    "            )\n",
    "        ),\n",
    "        (\n",
    "            'imputer_after_ord',\n",
    "             SimpleImputer(missing_values=np.nan, strategy='most_frequent')\n",
    "        )\n",
    "    ]\n",
    "\n",
    ")\n",
    "\n",
    "# подготовка данных\n",
    "data_preprocessor = ColumnTransformer(\n",
    "    [\n",
    "        ('ord', ord_pipe, cat_col)\n",
    "    ],\n",
    "    remainder='passthrough'\n",
    ")\n",
    "\n",
    "# подготовка данных и модель\n",
    "pipe_final = Pipeline(\n",
    "    [\n",
    "        ('preprocessor', data_preprocessor),\n",
    "        ('models', DecisionTreeRegressor(random_state=RANDOM_STATE))\n",
    "    ]\n",
    ")\n",
    "\n",
    "param_grid = [\n",
    "    # словарь для дерева решений\n",
    "    {\n",
    "        'models':[DecisionTreeRegressor(random_state=RANDOM_STATE)],\n",
    "        'models__max_depth': range(2, 50),\n",
    "        'models__min_samples_leaf': range(2, 10),\n",
    "        'models__max_leaf_nodes': range(100, 500)\n",
    "    },\n",
    "\n",
    "    # словарь для бустинга\n",
    "    {\n",
    "        'models':[LGBMRegressor(random_state=RANDOM_STATE, verbose=-1)],\n",
    "        'models__n_estimators': [10, 50, 100],\n",
    "        'models__num_leaves':range(100, 500)\n",
    "    }\n",
    "]"
   ]
  },
  {
   "cell_type": "code",
   "execution_count": 91,
   "id": "7908b789",
   "metadata": {},
   "outputs": [
    {
     "data": {
      "text/html": [
       "<style>#sk-container-id-8 {\n",
       "  /* Definition of color scheme common for light and dark mode */\n",
       "  --sklearn-color-text: black;\n",
       "  --sklearn-color-line: gray;\n",
       "  /* Definition of color scheme for unfitted estimators */\n",
       "  --sklearn-color-unfitted-level-0: #fff5e6;\n",
       "  --sklearn-color-unfitted-level-1: #f6e4d2;\n",
       "  --sklearn-color-unfitted-level-2: #ffe0b3;\n",
       "  --sklearn-color-unfitted-level-3: chocolate;\n",
       "  /* Definition of color scheme for fitted estimators */\n",
       "  --sklearn-color-fitted-level-0: #f0f8ff;\n",
       "  --sklearn-color-fitted-level-1: #d4ebff;\n",
       "  --sklearn-color-fitted-level-2: #b3dbfd;\n",
       "  --sklearn-color-fitted-level-3: cornflowerblue;\n",
       "\n",
       "  /* Specific color for light theme */\n",
       "  --sklearn-color-text-on-default-background: var(--sg-text-color, var(--theme-code-foreground, var(--jp-content-font-color1, black)));\n",
       "  --sklearn-color-background: var(--sg-background-color, var(--theme-background, var(--jp-layout-color0, white)));\n",
       "  --sklearn-color-border-box: var(--sg-text-color, var(--theme-code-foreground, var(--jp-content-font-color1, black)));\n",
       "  --sklearn-color-icon: #696969;\n",
       "\n",
       "  @media (prefers-color-scheme: dark) {\n",
       "    /* Redefinition of color scheme for dark theme */\n",
       "    --sklearn-color-text-on-default-background: var(--sg-text-color, var(--theme-code-foreground, var(--jp-content-font-color1, white)));\n",
       "    --sklearn-color-background: var(--sg-background-color, var(--theme-background, var(--jp-layout-color0, #111)));\n",
       "    --sklearn-color-border-box: var(--sg-text-color, var(--theme-code-foreground, var(--jp-content-font-color1, white)));\n",
       "    --sklearn-color-icon: #878787;\n",
       "  }\n",
       "}\n",
       "\n",
       "#sk-container-id-8 {\n",
       "  color: var(--sklearn-color-text);\n",
       "}\n",
       "\n",
       "#sk-container-id-8 pre {\n",
       "  padding: 0;\n",
       "}\n",
       "\n",
       "#sk-container-id-8 input.sk-hidden--visually {\n",
       "  border: 0;\n",
       "  clip: rect(1px 1px 1px 1px);\n",
       "  clip: rect(1px, 1px, 1px, 1px);\n",
       "  height: 1px;\n",
       "  margin: -1px;\n",
       "  overflow: hidden;\n",
       "  padding: 0;\n",
       "  position: absolute;\n",
       "  width: 1px;\n",
       "}\n",
       "\n",
       "#sk-container-id-8 div.sk-dashed-wrapped {\n",
       "  border: 1px dashed var(--sklearn-color-line);\n",
       "  margin: 0 0.4em 0.5em 0.4em;\n",
       "  box-sizing: border-box;\n",
       "  padding-bottom: 0.4em;\n",
       "  background-color: var(--sklearn-color-background);\n",
       "}\n",
       "\n",
       "#sk-container-id-8 div.sk-container {\n",
       "  /* jupyter's `normalize.less` sets `[hidden] { display: none; }`\n",
       "     but bootstrap.min.css set `[hidden] { display: none !important; }`\n",
       "     so we also need the `!important` here to be able to override the\n",
       "     default hidden behavior on the sphinx rendered scikit-learn.org.\n",
       "     See: https://github.com/scikit-learn/scikit-learn/issues/21755 */\n",
       "  display: inline-block !important;\n",
       "  position: relative;\n",
       "}\n",
       "\n",
       "#sk-container-id-8 div.sk-text-repr-fallback {\n",
       "  display: none;\n",
       "}\n",
       "\n",
       "div.sk-parallel-item,\n",
       "div.sk-serial,\n",
       "div.sk-item {\n",
       "  /* draw centered vertical line to link estimators */\n",
       "  background-image: linear-gradient(var(--sklearn-color-text-on-default-background), var(--sklearn-color-text-on-default-background));\n",
       "  background-size: 2px 100%;\n",
       "  background-repeat: no-repeat;\n",
       "  background-position: center center;\n",
       "}\n",
       "\n",
       "/* Parallel-specific style estimator block */\n",
       "\n",
       "#sk-container-id-8 div.sk-parallel-item::after {\n",
       "  content: \"\";\n",
       "  width: 100%;\n",
       "  border-bottom: 2px solid var(--sklearn-color-text-on-default-background);\n",
       "  flex-grow: 1;\n",
       "}\n",
       "\n",
       "#sk-container-id-8 div.sk-parallel {\n",
       "  display: flex;\n",
       "  align-items: stretch;\n",
       "  justify-content: center;\n",
       "  background-color: var(--sklearn-color-background);\n",
       "  position: relative;\n",
       "}\n",
       "\n",
       "#sk-container-id-8 div.sk-parallel-item {\n",
       "  display: flex;\n",
       "  flex-direction: column;\n",
       "}\n",
       "\n",
       "#sk-container-id-8 div.sk-parallel-item:first-child::after {\n",
       "  align-self: flex-end;\n",
       "  width: 50%;\n",
       "}\n",
       "\n",
       "#sk-container-id-8 div.sk-parallel-item:last-child::after {\n",
       "  align-self: flex-start;\n",
       "  width: 50%;\n",
       "}\n",
       "\n",
       "#sk-container-id-8 div.sk-parallel-item:only-child::after {\n",
       "  width: 0;\n",
       "}\n",
       "\n",
       "/* Serial-specific style estimator block */\n",
       "\n",
       "#sk-container-id-8 div.sk-serial {\n",
       "  display: flex;\n",
       "  flex-direction: column;\n",
       "  align-items: center;\n",
       "  background-color: var(--sklearn-color-background);\n",
       "  padding-right: 1em;\n",
       "  padding-left: 1em;\n",
       "}\n",
       "\n",
       "\n",
       "/* Toggleable style: style used for estimator/Pipeline/ColumnTransformer box that is\n",
       "clickable and can be expanded/collapsed.\n",
       "- Pipeline and ColumnTransformer use this feature and define the default style\n",
       "- Estimators will overwrite some part of the style using the `sk-estimator` class\n",
       "*/\n",
       "\n",
       "/* Pipeline and ColumnTransformer style (default) */\n",
       "\n",
       "#sk-container-id-8 div.sk-toggleable {\n",
       "  /* Default theme specific background. It is overwritten whether we have a\n",
       "  specific estimator or a Pipeline/ColumnTransformer */\n",
       "  background-color: var(--sklearn-color-background);\n",
       "}\n",
       "\n",
       "/* Toggleable label */\n",
       "#sk-container-id-8 label.sk-toggleable__label {\n",
       "  cursor: pointer;\n",
       "  display: block;\n",
       "  width: 100%;\n",
       "  margin-bottom: 0;\n",
       "  padding: 0.5em;\n",
       "  box-sizing: border-box;\n",
       "  text-align: center;\n",
       "}\n",
       "\n",
       "#sk-container-id-8 label.sk-toggleable__label-arrow:before {\n",
       "  /* Arrow on the left of the label */\n",
       "  content: \"▸\";\n",
       "  float: left;\n",
       "  margin-right: 0.25em;\n",
       "  color: var(--sklearn-color-icon);\n",
       "}\n",
       "\n",
       "#sk-container-id-8 label.sk-toggleable__label-arrow:hover:before {\n",
       "  color: var(--sklearn-color-text);\n",
       "}\n",
       "\n",
       "/* Toggleable content - dropdown */\n",
       "\n",
       "#sk-container-id-8 div.sk-toggleable__content {\n",
       "  max-height: 0;\n",
       "  max-width: 0;\n",
       "  overflow: hidden;\n",
       "  text-align: left;\n",
       "  /* unfitted */\n",
       "  background-color: var(--sklearn-color-unfitted-level-0);\n",
       "}\n",
       "\n",
       "#sk-container-id-8 div.sk-toggleable__content.fitted {\n",
       "  /* fitted */\n",
       "  background-color: var(--sklearn-color-fitted-level-0);\n",
       "}\n",
       "\n",
       "#sk-container-id-8 div.sk-toggleable__content pre {\n",
       "  margin: 0.2em;\n",
       "  border-radius: 0.25em;\n",
       "  color: var(--sklearn-color-text);\n",
       "  /* unfitted */\n",
       "  background-color: var(--sklearn-color-unfitted-level-0);\n",
       "}\n",
       "\n",
       "#sk-container-id-8 div.sk-toggleable__content.fitted pre {\n",
       "  /* unfitted */\n",
       "  background-color: var(--sklearn-color-fitted-level-0);\n",
       "}\n",
       "\n",
       "#sk-container-id-8 input.sk-toggleable__control:checked~div.sk-toggleable__content {\n",
       "  /* Expand drop-down */\n",
       "  max-height: 200px;\n",
       "  max-width: 100%;\n",
       "  overflow: auto;\n",
       "}\n",
       "\n",
       "#sk-container-id-8 input.sk-toggleable__control:checked~label.sk-toggleable__label-arrow:before {\n",
       "  content: \"▾\";\n",
       "}\n",
       "\n",
       "/* Pipeline/ColumnTransformer-specific style */\n",
       "\n",
       "#sk-container-id-8 div.sk-label input.sk-toggleable__control:checked~label.sk-toggleable__label {\n",
       "  color: var(--sklearn-color-text);\n",
       "  background-color: var(--sklearn-color-unfitted-level-2);\n",
       "}\n",
       "\n",
       "#sk-container-id-8 div.sk-label.fitted input.sk-toggleable__control:checked~label.sk-toggleable__label {\n",
       "  background-color: var(--sklearn-color-fitted-level-2);\n",
       "}\n",
       "\n",
       "/* Estimator-specific style */\n",
       "\n",
       "/* Colorize estimator box */\n",
       "#sk-container-id-8 div.sk-estimator input.sk-toggleable__control:checked~label.sk-toggleable__label {\n",
       "  /* unfitted */\n",
       "  background-color: var(--sklearn-color-unfitted-level-2);\n",
       "}\n",
       "\n",
       "#sk-container-id-8 div.sk-estimator.fitted input.sk-toggleable__control:checked~label.sk-toggleable__label {\n",
       "  /* fitted */\n",
       "  background-color: var(--sklearn-color-fitted-level-2);\n",
       "}\n",
       "\n",
       "#sk-container-id-8 div.sk-label label.sk-toggleable__label,\n",
       "#sk-container-id-8 div.sk-label label {\n",
       "  /* The background is the default theme color */\n",
       "  color: var(--sklearn-color-text-on-default-background);\n",
       "}\n",
       "\n",
       "/* On hover, darken the color of the background */\n",
       "#sk-container-id-8 div.sk-label:hover label.sk-toggleable__label {\n",
       "  color: var(--sklearn-color-text);\n",
       "  background-color: var(--sklearn-color-unfitted-level-2);\n",
       "}\n",
       "\n",
       "/* Label box, darken color on hover, fitted */\n",
       "#sk-container-id-8 div.sk-label.fitted:hover label.sk-toggleable__label.fitted {\n",
       "  color: var(--sklearn-color-text);\n",
       "  background-color: var(--sklearn-color-fitted-level-2);\n",
       "}\n",
       "\n",
       "/* Estimator label */\n",
       "\n",
       "#sk-container-id-8 div.sk-label label {\n",
       "  font-family: monospace;\n",
       "  font-weight: bold;\n",
       "  display: inline-block;\n",
       "  line-height: 1.2em;\n",
       "}\n",
       "\n",
       "#sk-container-id-8 div.sk-label-container {\n",
       "  text-align: center;\n",
       "}\n",
       "\n",
       "/* Estimator-specific */\n",
       "#sk-container-id-8 div.sk-estimator {\n",
       "  font-family: monospace;\n",
       "  border: 1px dotted var(--sklearn-color-border-box);\n",
       "  border-radius: 0.25em;\n",
       "  box-sizing: border-box;\n",
       "  margin-bottom: 0.5em;\n",
       "  /* unfitted */\n",
       "  background-color: var(--sklearn-color-unfitted-level-0);\n",
       "}\n",
       "\n",
       "#sk-container-id-8 div.sk-estimator.fitted {\n",
       "  /* fitted */\n",
       "  background-color: var(--sklearn-color-fitted-level-0);\n",
       "}\n",
       "\n",
       "/* on hover */\n",
       "#sk-container-id-8 div.sk-estimator:hover {\n",
       "  /* unfitted */\n",
       "  background-color: var(--sklearn-color-unfitted-level-2);\n",
       "}\n",
       "\n",
       "#sk-container-id-8 div.sk-estimator.fitted:hover {\n",
       "  /* fitted */\n",
       "  background-color: var(--sklearn-color-fitted-level-2);\n",
       "}\n",
       "\n",
       "/* Specification for estimator info (e.g. \"i\" and \"?\") */\n",
       "\n",
       "/* Common style for \"i\" and \"?\" */\n",
       "\n",
       ".sk-estimator-doc-link,\n",
       "a:link.sk-estimator-doc-link,\n",
       "a:visited.sk-estimator-doc-link {\n",
       "  float: right;\n",
       "  font-size: smaller;\n",
       "  line-height: 1em;\n",
       "  font-family: monospace;\n",
       "  background-color: var(--sklearn-color-background);\n",
       "  border-radius: 1em;\n",
       "  height: 1em;\n",
       "  width: 1em;\n",
       "  text-decoration: none !important;\n",
       "  margin-left: 1ex;\n",
       "  /* unfitted */\n",
       "  border: var(--sklearn-color-unfitted-level-1) 1pt solid;\n",
       "  color: var(--sklearn-color-unfitted-level-1);\n",
       "}\n",
       "\n",
       ".sk-estimator-doc-link.fitted,\n",
       "a:link.sk-estimator-doc-link.fitted,\n",
       "a:visited.sk-estimator-doc-link.fitted {\n",
       "  /* fitted */\n",
       "  border: var(--sklearn-color-fitted-level-1) 1pt solid;\n",
       "  color: var(--sklearn-color-fitted-level-1);\n",
       "}\n",
       "\n",
       "/* On hover */\n",
       "div.sk-estimator:hover .sk-estimator-doc-link:hover,\n",
       ".sk-estimator-doc-link:hover,\n",
       "div.sk-label-container:hover .sk-estimator-doc-link:hover,\n",
       ".sk-estimator-doc-link:hover {\n",
       "  /* unfitted */\n",
       "  background-color: var(--sklearn-color-unfitted-level-3);\n",
       "  color: var(--sklearn-color-background);\n",
       "  text-decoration: none;\n",
       "}\n",
       "\n",
       "div.sk-estimator.fitted:hover .sk-estimator-doc-link.fitted:hover,\n",
       ".sk-estimator-doc-link.fitted:hover,\n",
       "div.sk-label-container:hover .sk-estimator-doc-link.fitted:hover,\n",
       ".sk-estimator-doc-link.fitted:hover {\n",
       "  /* fitted */\n",
       "  background-color: var(--sklearn-color-fitted-level-3);\n",
       "  color: var(--sklearn-color-background);\n",
       "  text-decoration: none;\n",
       "}\n",
       "\n",
       "/* Span, style for the box shown on hovering the info icon */\n",
       ".sk-estimator-doc-link span {\n",
       "  display: none;\n",
       "  z-index: 9999;\n",
       "  position: relative;\n",
       "  font-weight: normal;\n",
       "  right: .2ex;\n",
       "  padding: .5ex;\n",
       "  margin: .5ex;\n",
       "  width: min-content;\n",
       "  min-width: 20ex;\n",
       "  max-width: 50ex;\n",
       "  color: var(--sklearn-color-text);\n",
       "  box-shadow: 2pt 2pt 4pt #999;\n",
       "  /* unfitted */\n",
       "  background: var(--sklearn-color-unfitted-level-0);\n",
       "  border: .5pt solid var(--sklearn-color-unfitted-level-3);\n",
       "}\n",
       "\n",
       ".sk-estimator-doc-link.fitted span {\n",
       "  /* fitted */\n",
       "  background: var(--sklearn-color-fitted-level-0);\n",
       "  border: var(--sklearn-color-fitted-level-3);\n",
       "}\n",
       "\n",
       ".sk-estimator-doc-link:hover span {\n",
       "  display: block;\n",
       "}\n",
       "\n",
       "/* \"?\"-specific style due to the `<a>` HTML tag */\n",
       "\n",
       "#sk-container-id-8 a.estimator_doc_link {\n",
       "  float: right;\n",
       "  font-size: 1rem;\n",
       "  line-height: 1em;\n",
       "  font-family: monospace;\n",
       "  background-color: var(--sklearn-color-background);\n",
       "  border-radius: 1rem;\n",
       "  height: 1rem;\n",
       "  width: 1rem;\n",
       "  text-decoration: none;\n",
       "  /* unfitted */\n",
       "  color: var(--sklearn-color-unfitted-level-1);\n",
       "  border: var(--sklearn-color-unfitted-level-1) 1pt solid;\n",
       "}\n",
       "\n",
       "#sk-container-id-8 a.estimator_doc_link.fitted {\n",
       "  /* fitted */\n",
       "  border: var(--sklearn-color-fitted-level-1) 1pt solid;\n",
       "  color: var(--sklearn-color-fitted-level-1);\n",
       "}\n",
       "\n",
       "/* On hover */\n",
       "#sk-container-id-8 a.estimator_doc_link:hover {\n",
       "  /* unfitted */\n",
       "  background-color: var(--sklearn-color-unfitted-level-3);\n",
       "  color: var(--sklearn-color-background);\n",
       "  text-decoration: none;\n",
       "}\n",
       "\n",
       "#sk-container-id-8 a.estimator_doc_link.fitted:hover {\n",
       "  /* fitted */\n",
       "  background-color: var(--sklearn-color-fitted-level-3);\n",
       "}\n",
       "</style><div id=\"sk-container-id-8\" class=\"sk-top-container\"><div class=\"sk-text-repr-fallback\"><pre>RandomizedSearchCV(cv=TimeSeriesSplit(gap=0, max_train_size=None, n_splits=4, test_size=None),\n",
       "                   estimator=Pipeline(steps=[(&#x27;preprocessor&#x27;,\n",
       "                                              ColumnTransformer(remainder=&#x27;passthrough&#x27;,\n",
       "                                                                transformers=[(&#x27;ord&#x27;,\n",
       "                                                                               Pipeline(steps=[(&#x27;imputer_before_ord&#x27;,\n",
       "                                                                                                SimpleImputer(strategy=&#x27;most_frequent&#x27;)),\n",
       "                                                                                               (&#x27;ord&#x27;,\n",
       "                                                                                                OrdinalEncoder(handle_unknown=&#x27;use_encoded_value&#x27;,\n",
       "                                                                                                               unknown_value=nan)...\n",
       "                   param_distributions=[{&#x27;models&#x27;: [DecisionTreeRegressor(random_state=42)],\n",
       "                                         &#x27;models__max_depth&#x27;: range(2, 50),\n",
       "                                         &#x27;models__max_leaf_nodes&#x27;: range(100, 500),\n",
       "                                         &#x27;models__min_samples_leaf&#x27;: range(2, 10)},\n",
       "                                        {&#x27;models&#x27;: [LGBMRegressor(random_state=42,\n",
       "                                                                  verbose=-1)],\n",
       "                                         &#x27;models__n_estimators&#x27;: [10, 50, 100],\n",
       "                                         &#x27;models__num_leaves&#x27;: range(100, 500)}],\n",
       "                   random_state=42, scoring=&#x27;neg_root_mean_squared_error&#x27;)</pre><b>In a Jupyter environment, please rerun this cell to show the HTML representation or trust the notebook. <br />On GitHub, the HTML representation is unable to render, please try loading this page with nbviewer.org.</b></div><div class=\"sk-container\" hidden><div class=\"sk-item sk-dashed-wrapped\"><div class=\"sk-label-container\"><div class=\"sk-label fitted sk-toggleable\"><input class=\"sk-toggleable__control sk-hidden--visually\" id=\"sk-estimator-id-75\" type=\"checkbox\" ><label for=\"sk-estimator-id-75\" class=\"sk-toggleable__label fitted sk-toggleable__label-arrow fitted\">&nbsp;&nbsp;RandomizedSearchCV<a class=\"sk-estimator-doc-link fitted\" rel=\"noreferrer\" target=\"_blank\" href=\"https://scikit-learn.org/1.5/modules/generated/sklearn.model_selection.RandomizedSearchCV.html\">?<span>Documentation for RandomizedSearchCV</span></a><span class=\"sk-estimator-doc-link fitted\">i<span>Fitted</span></span></label><div class=\"sk-toggleable__content fitted\"><pre>RandomizedSearchCV(cv=TimeSeriesSplit(gap=0, max_train_size=None, n_splits=4, test_size=None),\n",
       "                   estimator=Pipeline(steps=[(&#x27;preprocessor&#x27;,\n",
       "                                              ColumnTransformer(remainder=&#x27;passthrough&#x27;,\n",
       "                                                                transformers=[(&#x27;ord&#x27;,\n",
       "                                                                               Pipeline(steps=[(&#x27;imputer_before_ord&#x27;,\n",
       "                                                                                                SimpleImputer(strategy=&#x27;most_frequent&#x27;)),\n",
       "                                                                                               (&#x27;ord&#x27;,\n",
       "                                                                                                OrdinalEncoder(handle_unknown=&#x27;use_encoded_value&#x27;,\n",
       "                                                                                                               unknown_value=nan)...\n",
       "                   param_distributions=[{&#x27;models&#x27;: [DecisionTreeRegressor(random_state=42)],\n",
       "                                         &#x27;models__max_depth&#x27;: range(2, 50),\n",
       "                                         &#x27;models__max_leaf_nodes&#x27;: range(100, 500),\n",
       "                                         &#x27;models__min_samples_leaf&#x27;: range(2, 10)},\n",
       "                                        {&#x27;models&#x27;: [LGBMRegressor(random_state=42,\n",
       "                                                                  verbose=-1)],\n",
       "                                         &#x27;models__n_estimators&#x27;: [10, 50, 100],\n",
       "                                         &#x27;models__num_leaves&#x27;: range(100, 500)}],\n",
       "                   random_state=42, scoring=&#x27;neg_root_mean_squared_error&#x27;)</pre></div> </div></div><div class=\"sk-parallel\"><div class=\"sk-parallel-item\"><div class=\"sk-item\"><div class=\"sk-label-container\"><div class=\"sk-label fitted sk-toggleable\"><input class=\"sk-toggleable__control sk-hidden--visually\" id=\"sk-estimator-id-76\" type=\"checkbox\" ><label for=\"sk-estimator-id-76\" class=\"sk-toggleable__label fitted sk-toggleable__label-arrow fitted\">best_estimator_: Pipeline</label><div class=\"sk-toggleable__content fitted\"><pre>Pipeline(steps=[(&#x27;preprocessor&#x27;,\n",
       "                 ColumnTransformer(remainder=&#x27;passthrough&#x27;,\n",
       "                                   transformers=[(&#x27;ord&#x27;,\n",
       "                                                  Pipeline(steps=[(&#x27;imputer_before_ord&#x27;,\n",
       "                                                                   SimpleImputer(strategy=&#x27;most_frequent&#x27;)),\n",
       "                                                                  (&#x27;ord&#x27;,\n",
       "                                                                   OrdinalEncoder(handle_unknown=&#x27;use_encoded_value&#x27;,\n",
       "                                                                                  unknown_value=nan)),\n",
       "                                                                  (&#x27;imputer_after_ord&#x27;,\n",
       "                                                                   SimpleImputer(strategy=&#x27;most_frequent&#x27;))]),\n",
       "                                                  [&#x27;day&#x27;, &#x27;dayofweek&#x27;])])),\n",
       "                (&#x27;models&#x27;,\n",
       "                 DecisionTreeRegressor(max_depth=37, max_leaf_nodes=190,\n",
       "                                       min_samples_leaf=9, random_state=42))])</pre></div> </div></div><div class=\"sk-serial\"><div class=\"sk-item\"><div class=\"sk-serial\"><div class=\"sk-item sk-dashed-wrapped\"><div class=\"sk-label-container\"><div class=\"sk-label fitted sk-toggleable\"><input class=\"sk-toggleable__control sk-hidden--visually\" id=\"sk-estimator-id-77\" type=\"checkbox\" ><label for=\"sk-estimator-id-77\" class=\"sk-toggleable__label fitted sk-toggleable__label-arrow fitted\">&nbsp;preprocessor: ColumnTransformer<a class=\"sk-estimator-doc-link fitted\" rel=\"noreferrer\" target=\"_blank\" href=\"https://scikit-learn.org/1.5/modules/generated/sklearn.compose.ColumnTransformer.html\">?<span>Documentation for preprocessor: ColumnTransformer</span></a></label><div class=\"sk-toggleable__content fitted\"><pre>ColumnTransformer(remainder=&#x27;passthrough&#x27;,\n",
       "                  transformers=[(&#x27;ord&#x27;,\n",
       "                                 Pipeline(steps=[(&#x27;imputer_before_ord&#x27;,\n",
       "                                                  SimpleImputer(strategy=&#x27;most_frequent&#x27;)),\n",
       "                                                 (&#x27;ord&#x27;,\n",
       "                                                  OrdinalEncoder(handle_unknown=&#x27;use_encoded_value&#x27;,\n",
       "                                                                 unknown_value=nan)),\n",
       "                                                 (&#x27;imputer_after_ord&#x27;,\n",
       "                                                  SimpleImputer(strategy=&#x27;most_frequent&#x27;))]),\n",
       "                                 [&#x27;day&#x27;, &#x27;dayofweek&#x27;])])</pre></div> </div></div><div class=\"sk-parallel\"><div class=\"sk-parallel-item\"><div class=\"sk-item\"><div class=\"sk-label-container\"><div class=\"sk-label fitted sk-toggleable\"><input class=\"sk-toggleable__control sk-hidden--visually\" id=\"sk-estimator-id-78\" type=\"checkbox\" ><label for=\"sk-estimator-id-78\" class=\"sk-toggleable__label fitted sk-toggleable__label-arrow fitted\">ord</label><div class=\"sk-toggleable__content fitted\"><pre>[&#x27;day&#x27;, &#x27;dayofweek&#x27;]</pre></div> </div></div><div class=\"sk-serial\"><div class=\"sk-item\"><div class=\"sk-serial\"><div class=\"sk-item\"><div class=\"sk-estimator fitted sk-toggleable\"><input class=\"sk-toggleable__control sk-hidden--visually\" id=\"sk-estimator-id-79\" type=\"checkbox\" ><label for=\"sk-estimator-id-79\" class=\"sk-toggleable__label fitted sk-toggleable__label-arrow fitted\">&nbsp;SimpleImputer<a class=\"sk-estimator-doc-link fitted\" rel=\"noreferrer\" target=\"_blank\" href=\"https://scikit-learn.org/1.5/modules/generated/sklearn.impute.SimpleImputer.html\">?<span>Documentation for SimpleImputer</span></a></label><div class=\"sk-toggleable__content fitted\"><pre>SimpleImputer(strategy=&#x27;most_frequent&#x27;)</pre></div> </div></div><div class=\"sk-item\"><div class=\"sk-estimator fitted sk-toggleable\"><input class=\"sk-toggleable__control sk-hidden--visually\" id=\"sk-estimator-id-80\" type=\"checkbox\" ><label for=\"sk-estimator-id-80\" class=\"sk-toggleable__label fitted sk-toggleable__label-arrow fitted\">&nbsp;OrdinalEncoder<a class=\"sk-estimator-doc-link fitted\" rel=\"noreferrer\" target=\"_blank\" href=\"https://scikit-learn.org/1.5/modules/generated/sklearn.preprocessing.OrdinalEncoder.html\">?<span>Documentation for OrdinalEncoder</span></a></label><div class=\"sk-toggleable__content fitted\"><pre>OrdinalEncoder(handle_unknown=&#x27;use_encoded_value&#x27;, unknown_value=nan)</pre></div> </div></div><div class=\"sk-item\"><div class=\"sk-estimator fitted sk-toggleable\"><input class=\"sk-toggleable__control sk-hidden--visually\" id=\"sk-estimator-id-81\" type=\"checkbox\" ><label for=\"sk-estimator-id-81\" class=\"sk-toggleable__label fitted sk-toggleable__label-arrow fitted\">&nbsp;SimpleImputer<a class=\"sk-estimator-doc-link fitted\" rel=\"noreferrer\" target=\"_blank\" href=\"https://scikit-learn.org/1.5/modules/generated/sklearn.impute.SimpleImputer.html\">?<span>Documentation for SimpleImputer</span></a></label><div class=\"sk-toggleable__content fitted\"><pre>SimpleImputer(strategy=&#x27;most_frequent&#x27;)</pre></div> </div></div></div></div></div></div></div><div class=\"sk-parallel-item\"><div class=\"sk-item\"><div class=\"sk-label-container\"><div class=\"sk-label fitted sk-toggleable\"><input class=\"sk-toggleable__control sk-hidden--visually\" id=\"sk-estimator-id-82\" type=\"checkbox\" ><label for=\"sk-estimator-id-82\" class=\"sk-toggleable__label fitted sk-toggleable__label-arrow fitted\">remainder</label><div class=\"sk-toggleable__content fitted\"><pre>[&#x27;lag_1&#x27;, &#x27;lag_2&#x27;, &#x27;lag_3&#x27;, &#x27;lag_4&#x27;, &#x27;lag_5&#x27;, &#x27;lag_6&#x27;, &#x27;lag_7&#x27;, &#x27;lag_8&#x27;, &#x27;lag_9&#x27;, &#x27;lag_10&#x27;, &#x27;lag_11&#x27;, &#x27;lag_12&#x27;, &#x27;lag_13&#x27;, &#x27;lag_14&#x27;, &#x27;lag_15&#x27;, &#x27;lag_16&#x27;, &#x27;lag_17&#x27;, &#x27;lag_18&#x27;, &#x27;lag_19&#x27;, &#x27;lag_20&#x27;, &#x27;lag_21&#x27;, &#x27;lag_22&#x27;, &#x27;lag_23&#x27;, &#x27;lag_24&#x27;, &#x27;lag_25&#x27;, &#x27;lag_26&#x27;, &#x27;lag_27&#x27;, &#x27;lag_28&#x27;, &#x27;lag_29&#x27;, &#x27;lag_30&#x27;, &#x27;lag_31&#x27;, &#x27;lag_32&#x27;, &#x27;lag_33&#x27;, &#x27;lag_34&#x27;, &#x27;lag_35&#x27;, &#x27;lag_36&#x27;, &#x27;lag_37&#x27;, &#x27;lag_38&#x27;, &#x27;lag_39&#x27;, &#x27;lag_40&#x27;, &#x27;lag_41&#x27;, &#x27;lag_42&#x27;, &#x27;lag_43&#x27;, &#x27;lag_44&#x27;, &#x27;lag_45&#x27;, &#x27;lag_46&#x27;, &#x27;lag_47&#x27;, &#x27;lag_48&#x27;, &#x27;lag_49&#x27;, &#x27;lag_50&#x27;, &#x27;lag_51&#x27;, &#x27;lag_52&#x27;, &#x27;lag_53&#x27;, &#x27;lag_54&#x27;, &#x27;lag_55&#x27;, &#x27;lag_56&#x27;, &#x27;lag_57&#x27;, &#x27;lag_58&#x27;, &#x27;lag_59&#x27;, &#x27;lag_60&#x27;, &#x27;lag_61&#x27;, &#x27;lag_62&#x27;, &#x27;lag_63&#x27;, &#x27;lag_64&#x27;, &#x27;lag_65&#x27;, &#x27;lag_66&#x27;, &#x27;lag_67&#x27;, &#x27;lag_68&#x27;, &#x27;lag_69&#x27;, &#x27;lag_70&#x27;, &#x27;lag_71&#x27;, &#x27;lag_72&#x27;, &#x27;lag_73&#x27;, &#x27;lag_74&#x27;, &#x27;lag_75&#x27;, &#x27;lag_76&#x27;, &#x27;lag_77&#x27;, &#x27;lag_78&#x27;, &#x27;lag_79&#x27;, &#x27;lag_80&#x27;, &#x27;lag_81&#x27;, &#x27;lag_82&#x27;, &#x27;lag_83&#x27;, &#x27;lag_84&#x27;, &#x27;lag_85&#x27;, &#x27;lag_86&#x27;, &#x27;lag_87&#x27;, &#x27;lag_88&#x27;, &#x27;lag_89&#x27;, &#x27;lag_90&#x27;, &#x27;lag_91&#x27;, &#x27;lag_92&#x27;, &#x27;lag_93&#x27;, &#x27;lag_94&#x27;, &#x27;lag_95&#x27;, &#x27;lag_96&#x27;, &#x27;lag_97&#x27;, &#x27;lag_98&#x27;, &#x27;lag_99&#x27;, &#x27;lag_100&#x27;, &#x27;lag_101&#x27;, &#x27;lag_102&#x27;, &#x27;lag_103&#x27;, &#x27;lag_104&#x27;, &#x27;lag_105&#x27;, &#x27;lag_106&#x27;, &#x27;lag_107&#x27;, &#x27;lag_108&#x27;, &#x27;lag_109&#x27;, &#x27;lag_110&#x27;, &#x27;lag_111&#x27;, &#x27;lag_112&#x27;, &#x27;lag_113&#x27;, &#x27;lag_114&#x27;, &#x27;lag_115&#x27;, &#x27;lag_116&#x27;, &#x27;lag_117&#x27;, &#x27;lag_118&#x27;, &#x27;lag_119&#x27;, &#x27;lag_120&#x27;, &#x27;lag_121&#x27;, &#x27;lag_122&#x27;, &#x27;lag_123&#x27;, &#x27;lag_124&#x27;, &#x27;lag_125&#x27;, &#x27;lag_126&#x27;, &#x27;lag_127&#x27;, &#x27;lag_128&#x27;, &#x27;lag_129&#x27;, &#x27;lag_130&#x27;, &#x27;lag_131&#x27;, &#x27;lag_132&#x27;, &#x27;lag_133&#x27;, &#x27;lag_134&#x27;, &#x27;lag_135&#x27;, &#x27;lag_136&#x27;, &#x27;lag_137&#x27;, &#x27;lag_138&#x27;, &#x27;lag_139&#x27;, &#x27;lag_140&#x27;, &#x27;lag_141&#x27;, &#x27;lag_142&#x27;, &#x27;lag_143&#x27;, &#x27;lag_144&#x27;, &#x27;lag_145&#x27;, &#x27;lag_146&#x27;, &#x27;lag_147&#x27;, &#x27;lag_148&#x27;, &#x27;lag_149&#x27;, &#x27;lag_150&#x27;, &#x27;lag_151&#x27;, &#x27;lag_152&#x27;, &#x27;lag_153&#x27;, &#x27;lag_154&#x27;, &#x27;lag_155&#x27;, &#x27;lag_156&#x27;, &#x27;lag_157&#x27;, &#x27;lag_158&#x27;, &#x27;lag_159&#x27;, &#x27;lag_160&#x27;, &#x27;lag_161&#x27;, &#x27;lag_162&#x27;, &#x27;lag_163&#x27;, &#x27;lag_164&#x27;, &#x27;lag_165&#x27;, &#x27;lag_166&#x27;, &#x27;lag_167&#x27;, &#x27;lag_168&#x27;, &#x27;rolling_mean&#x27;]</pre></div> </div></div><div class=\"sk-serial\"><div class=\"sk-item\"><div class=\"sk-estimator fitted sk-toggleable\"><input class=\"sk-toggleable__control sk-hidden--visually\" id=\"sk-estimator-id-83\" type=\"checkbox\" ><label for=\"sk-estimator-id-83\" class=\"sk-toggleable__label fitted sk-toggleable__label-arrow fitted\">passthrough</label><div class=\"sk-toggleable__content fitted\"><pre>passthrough</pre></div> </div></div></div></div></div></div></div><div class=\"sk-item\"><div class=\"sk-estimator fitted sk-toggleable\"><input class=\"sk-toggleable__control sk-hidden--visually\" id=\"sk-estimator-id-84\" type=\"checkbox\" ><label for=\"sk-estimator-id-84\" class=\"sk-toggleable__label fitted sk-toggleable__label-arrow fitted\">&nbsp;DecisionTreeRegressor<a class=\"sk-estimator-doc-link fitted\" rel=\"noreferrer\" target=\"_blank\" href=\"https://scikit-learn.org/1.5/modules/generated/sklearn.tree.DecisionTreeRegressor.html\">?<span>Documentation for DecisionTreeRegressor</span></a></label><div class=\"sk-toggleable__content fitted\"><pre>DecisionTreeRegressor(max_depth=37, max_leaf_nodes=190, min_samples_leaf=9,\n",
       "                      random_state=42)</pre></div> </div></div></div></div></div></div></div></div></div></div></div>"
      ],
      "text/plain": [
       "RandomizedSearchCV(cv=TimeSeriesSplit(gap=0, max_train_size=None, n_splits=4, test_size=None),\n",
       "                   estimator=Pipeline(steps=[('preprocessor',\n",
       "                                              ColumnTransformer(remainder='passthrough',\n",
       "                                                                transformers=[('ord',\n",
       "                                                                               Pipeline(steps=[('imputer_before_ord',\n",
       "                                                                                                SimpleImputer(strategy='most_frequent')),\n",
       "                                                                                               ('ord',\n",
       "                                                                                                OrdinalEncoder(handle_unknown='use_encoded_value',\n",
       "                                                                                                               unknown_value=nan)...\n",
       "                   param_distributions=[{'models': [DecisionTreeRegressor(random_state=42)],\n",
       "                                         'models__max_depth': range(2, 50),\n",
       "                                         'models__max_leaf_nodes': range(100, 500),\n",
       "                                         'models__min_samples_leaf': range(2, 10)},\n",
       "                                        {'models': [LGBMRegressor(random_state=42,\n",
       "                                                                  verbose=-1)],\n",
       "                                         'models__n_estimators': [10, 50, 100],\n",
       "                                         'models__num_leaves': range(100, 500)}],\n",
       "                   random_state=42, scoring='neg_root_mean_squared_error')"
      ]
     },
     "execution_count": 91,
     "metadata": {},
     "output_type": "execute_result"
    }
   ],
   "source": [
    "randomized_search = RandomizedSearchCV(\n",
    "    pipe_final,\n",
    "    param_grid,\n",
    "    cv=tscv,\n",
    "    scoring='neg_root_mean_squared_error',\n",
    "    random_state=RANDOM_STATE,\n",
    "    n_jobs=-1\n",
    ")\n",
    "\n",
    "randomized_search.fit(Х_train, y_train)"
   ]
  },
  {
   "cell_type": "code",
   "execution_count": 92,
   "id": "43153e69",
   "metadata": {},
   "outputs": [
    {
     "name": "stdout",
     "output_type": "stream",
     "text": [
      "16.16\n"
     ]
    }
   ],
   "source": [
    "model = randomized_search.best_estimator_\n",
    "print(round(root_mean_squared_error(model.predict(Х_train), y_train),2))"
   ]
  },
  {
   "cell_type": "markdown",
   "id": "353039f9",
   "metadata": {},
   "source": [
    "И линейная регрессия, и дерево удовлетворяют критерию rmse<48. Возмьем линейную регрессию, как более простую и надежную, и, кроме того, способную предсказывать за пределами диапазона обучающих данных."
   ]
  },
  {
   "cell_type": "markdown",
   "id": "82520112",
   "metadata": {},
   "source": [
    "## Тестирование лучшей модели и формулирование выводов."
   ]
  },
  {
   "cell_type": "code",
   "execution_count": 93,
   "id": "f96298dd",
   "metadata": {},
   "outputs": [
    {
     "name": "stdout",
     "output_type": "stream",
     "text": [
      "rmse на константной модели  59 \n",
      "rmse на модели линейной регрессии (тестовая выборка) 35\n"
     ]
    }
   ],
   "source": [
    "pred_model_const = y_test.shift(1, fill_value=0)\n",
    "print('rmse на константной модели ', round(root_mean_squared_error(pred_model_const, y_test)),\n",
    "      '\\nrmse на модели линейной регрессии (тестовая выборка)', round(root_mean_squared_error(model_lr.predict(X_test), y_test)))"
   ]
  },
  {
   "cell_type": "markdown",
   "id": "a30df6d8",
   "metadata": {},
   "source": [
    "На тестовой выборке rmse по-прежнему менее порогового 48. В сравнении с константой моделью точность нашей модели очевидно выше. Цель достигнута."
   ]
  },
  {
   "cell_type": "markdown",
   "id": "b5b1ea79",
   "metadata": {},
   "source": [
    "## Выводы\n",
    "Обучены модели линейной регрессии, дерево решений, градиентный бустинг (LGBM). Выбрана модель на основе линейной регрессии как более простая и надежная, а также способная предсказывать за пределами диапазона обучающих данных. Модель показала метрику качества на тестовой выборке RMSE=35, что соответствует требованию заказчика. Эффективность модели также доказана сравнением с константной моделью."
   ]
  },
  {
   "cell_type": "markdown",
   "id": "8a5b316e",
   "metadata": {},
   "source": []
  }
 ],
 "metadata": {
  "ExecuteTimeLog": [
   {
    "duration": 1014,
    "start_time": "2024-05-04T19:05:32.650Z"
   },
   {
    "duration": 2895,
    "start_time": "2024-05-04T19:05:39.558Z"
   },
   {
    "duration": 1357,
    "start_time": "2024-05-04T19:05:42.456Z"
   },
   {
    "duration": 0,
    "start_time": "2024-05-04T19:05:43.814Z"
   },
   {
    "duration": 0,
    "start_time": "2024-05-04T19:05:43.815Z"
   },
   {
    "duration": 0,
    "start_time": "2024-05-04T19:05:43.817Z"
   },
   {
    "duration": 0,
    "start_time": "2024-05-04T19:05:43.818Z"
   },
   {
    "duration": 0,
    "start_time": "2024-05-04T19:05:43.819Z"
   },
   {
    "duration": 2654,
    "start_time": "2024-05-04T19:06:55.475Z"
   },
   {
    "duration": 319,
    "start_time": "2024-05-04T19:09:52.521Z"
   },
   {
    "duration": 2954,
    "start_time": "2024-05-05T06:16:44.567Z"
   },
   {
    "duration": 1892,
    "start_time": "2024-05-05T06:16:47.524Z"
   },
   {
    "duration": 0,
    "start_time": "2024-05-05T06:16:49.420Z"
   },
   {
    "duration": 0,
    "start_time": "2024-05-05T06:16:49.421Z"
   },
   {
    "duration": 0,
    "start_time": "2024-05-05T06:16:49.423Z"
   },
   {
    "duration": 1,
    "start_time": "2024-05-05T06:16:49.424Z"
   },
   {
    "duration": 0,
    "start_time": "2024-05-05T06:16:49.426Z"
   },
   {
    "duration": 0,
    "start_time": "2024-05-05T06:16:49.428Z"
   },
   {
    "duration": 0,
    "start_time": "2024-05-05T06:16:49.429Z"
   },
   {
    "duration": 0,
    "start_time": "2024-05-05T06:16:49.430Z"
   },
   {
    "duration": 0,
    "start_time": "2024-05-05T06:16:49.431Z"
   },
   {
    "duration": 0,
    "start_time": "2024-05-05T06:16:49.432Z"
   },
   {
    "duration": 0,
    "start_time": "2024-05-05T06:16:49.433Z"
   },
   {
    "duration": 0,
    "start_time": "2024-05-05T06:16:49.434Z"
   },
   {
    "duration": 0,
    "start_time": "2024-05-05T06:16:49.435Z"
   },
   {
    "duration": 0,
    "start_time": "2024-05-05T06:16:49.436Z"
   },
   {
    "duration": 0,
    "start_time": "2024-05-05T06:16:49.438Z"
   },
   {
    "duration": 0,
    "start_time": "2024-05-05T06:16:49.439Z"
   },
   {
    "duration": 0,
    "start_time": "2024-05-05T06:16:49.440Z"
   },
   {
    "duration": 0,
    "start_time": "2024-05-05T06:16:49.480Z"
   },
   {
    "duration": 0,
    "start_time": "2024-05-05T06:16:49.482Z"
   },
   {
    "duration": 0,
    "start_time": "2024-05-05T06:16:49.483Z"
   },
   {
    "duration": 0,
    "start_time": "2024-05-05T06:16:49.483Z"
   },
   {
    "duration": 0,
    "start_time": "2024-05-05T06:16:49.485Z"
   },
   {
    "duration": 76,
    "start_time": "2024-05-05T06:19:22.426Z"
   },
   {
    "duration": 63,
    "start_time": "2024-05-05T06:20:35.509Z"
   },
   {
    "duration": 2561,
    "start_time": "2024-05-05T06:21:09.513Z"
   },
   {
    "duration": 7202,
    "start_time": "2024-05-05T06:23:00.423Z"
   },
   {
    "duration": 3185,
    "start_time": "2024-05-05T06:23:16.073Z"
   },
   {
    "duration": 2607,
    "start_time": "2024-05-05T06:23:51.909Z"
   },
   {
    "duration": 3133,
    "start_time": "2024-05-05T06:23:54.518Z"
   },
   {
    "duration": 1437,
    "start_time": "2024-05-05T06:23:57.653Z"
   },
   {
    "duration": 165,
    "start_time": "2024-05-05T06:23:59.092Z"
   },
   {
    "duration": 0,
    "start_time": "2024-05-05T06:23:59.259Z"
   },
   {
    "duration": 0,
    "start_time": "2024-05-05T06:23:59.261Z"
   },
   {
    "duration": 0,
    "start_time": "2024-05-05T06:23:59.262Z"
   },
   {
    "duration": 0,
    "start_time": "2024-05-05T06:23:59.263Z"
   },
   {
    "duration": 0,
    "start_time": "2024-05-05T06:23:59.264Z"
   },
   {
    "duration": 0,
    "start_time": "2024-05-05T06:23:59.265Z"
   },
   {
    "duration": 0,
    "start_time": "2024-05-05T06:23:59.266Z"
   },
   {
    "duration": 0,
    "start_time": "2024-05-05T06:23:59.280Z"
   },
   {
    "duration": 0,
    "start_time": "2024-05-05T06:23:59.281Z"
   },
   {
    "duration": 0,
    "start_time": "2024-05-05T06:23:59.283Z"
   },
   {
    "duration": 0,
    "start_time": "2024-05-05T06:23:59.284Z"
   },
   {
    "duration": 0,
    "start_time": "2024-05-05T06:23:59.286Z"
   },
   {
    "duration": 0,
    "start_time": "2024-05-05T06:23:59.287Z"
   },
   {
    "duration": 0,
    "start_time": "2024-05-05T06:23:59.288Z"
   },
   {
    "duration": 0,
    "start_time": "2024-05-05T06:23:59.290Z"
   },
   {
    "duration": 0,
    "start_time": "2024-05-05T06:23:59.291Z"
   },
   {
    "duration": 0,
    "start_time": "2024-05-05T06:23:59.291Z"
   },
   {
    "duration": 0,
    "start_time": "2024-05-05T06:23:59.293Z"
   },
   {
    "duration": 0,
    "start_time": "2024-05-05T06:23:59.294Z"
   },
   {
    "duration": 0,
    "start_time": "2024-05-05T06:23:59.295Z"
   },
   {
    "duration": 0,
    "start_time": "2024-05-05T06:23:59.296Z"
   },
   {
    "duration": 61,
    "start_time": "2024-05-05T06:26:11.247Z"
   },
   {
    "duration": 2503,
    "start_time": "2024-05-05T06:26:35.187Z"
   },
   {
    "duration": 3101,
    "start_time": "2024-05-05T06:26:37.692Z"
   },
   {
    "duration": 1311,
    "start_time": "2024-05-05T06:26:40.795Z"
   },
   {
    "duration": 186,
    "start_time": "2024-05-05T06:26:42.108Z"
   },
   {
    "duration": 0,
    "start_time": "2024-05-05T06:26:42.297Z"
   },
   {
    "duration": 0,
    "start_time": "2024-05-05T06:26:42.298Z"
   },
   {
    "duration": 0,
    "start_time": "2024-05-05T06:26:42.299Z"
   },
   {
    "duration": 0,
    "start_time": "2024-05-05T06:26:42.300Z"
   },
   {
    "duration": 0,
    "start_time": "2024-05-05T06:26:42.301Z"
   },
   {
    "duration": 0,
    "start_time": "2024-05-05T06:26:42.302Z"
   },
   {
    "duration": 0,
    "start_time": "2024-05-05T06:26:42.303Z"
   },
   {
    "duration": 0,
    "start_time": "2024-05-05T06:26:42.304Z"
   },
   {
    "duration": 0,
    "start_time": "2024-05-05T06:26:42.305Z"
   },
   {
    "duration": 0,
    "start_time": "2024-05-05T06:26:42.306Z"
   },
   {
    "duration": 0,
    "start_time": "2024-05-05T06:26:42.307Z"
   },
   {
    "duration": 0,
    "start_time": "2024-05-05T06:26:42.308Z"
   },
   {
    "duration": 0,
    "start_time": "2024-05-05T06:26:42.310Z"
   },
   {
    "duration": 0,
    "start_time": "2024-05-05T06:26:42.311Z"
   },
   {
    "duration": 0,
    "start_time": "2024-05-05T06:26:42.312Z"
   },
   {
    "duration": 0,
    "start_time": "2024-05-05T06:26:42.313Z"
   },
   {
    "duration": 0,
    "start_time": "2024-05-05T06:26:42.314Z"
   },
   {
    "duration": 0,
    "start_time": "2024-05-05T06:26:42.315Z"
   },
   {
    "duration": 0,
    "start_time": "2024-05-05T06:26:42.317Z"
   },
   {
    "duration": 0,
    "start_time": "2024-05-05T06:26:42.318Z"
   },
   {
    "duration": 0,
    "start_time": "2024-05-05T06:26:42.319Z"
   },
   {
    "duration": 2252,
    "start_time": "2024-05-05T06:28:39.509Z"
   },
   {
    "duration": 126,
    "start_time": "2024-05-05T06:29:07.426Z"
   },
   {
    "duration": 54,
    "start_time": "2024-05-05T06:35:54.340Z"
   },
   {
    "duration": 50,
    "start_time": "2024-05-05T06:36:16.937Z"
   },
   {
    "duration": 65,
    "start_time": "2024-05-05T06:37:47.766Z"
   },
   {
    "duration": 47,
    "start_time": "2024-05-05T06:38:05.493Z"
   },
   {
    "duration": 121,
    "start_time": "2024-05-05T06:38:45.883Z"
   },
   {
    "duration": 136,
    "start_time": "2024-05-05T06:39:11.689Z"
   },
   {
    "duration": 128,
    "start_time": "2024-05-05T06:39:32.196Z"
   },
   {
    "duration": 2577,
    "start_time": "2024-05-05T06:39:41.111Z"
   },
   {
    "duration": 2959,
    "start_time": "2024-05-05T06:39:43.690Z"
   },
   {
    "duration": 1410,
    "start_time": "2024-05-05T06:39:46.651Z"
   },
   {
    "duration": 124,
    "start_time": "2024-05-05T06:39:48.063Z"
   },
   {
    "duration": 4,
    "start_time": "2024-05-05T06:39:48.189Z"
   },
   {
    "duration": 20,
    "start_time": "2024-05-05T06:39:48.194Z"
   },
   {
    "duration": 306,
    "start_time": "2024-05-05T06:39:48.216Z"
   },
   {
    "duration": 2357,
    "start_time": "2024-05-05T06:39:48.524Z"
   },
   {
    "duration": 97,
    "start_time": "2024-05-05T06:39:50.884Z"
   },
   {
    "duration": 209,
    "start_time": "2024-05-05T06:39:50.983Z"
   },
   {
    "duration": 261,
    "start_time": "2024-05-05T06:39:51.195Z"
   },
   {
    "duration": 4,
    "start_time": "2024-05-05T06:39:51.458Z"
   },
   {
    "duration": 54,
    "start_time": "2024-05-05T06:39:51.463Z"
   },
   {
    "duration": 362,
    "start_time": "2024-05-05T06:39:51.521Z"
   },
   {
    "duration": 29,
    "start_time": "2024-05-05T06:39:51.884Z"
   },
   {
    "duration": 2597,
    "start_time": "2024-05-05T06:39:51.915Z"
   },
   {
    "duration": 7,
    "start_time": "2024-05-05T06:39:54.514Z"
   },
   {
    "duration": 20,
    "start_time": "2024-05-05T06:39:54.523Z"
   },
   {
    "duration": 5,
    "start_time": "2024-05-05T06:39:54.545Z"
   },
   {
    "duration": 4011,
    "start_time": "2024-05-05T06:39:54.552Z"
   },
   {
    "duration": 16,
    "start_time": "2024-05-05T06:39:58.579Z"
   },
   {
    "duration": 83,
    "start_time": "2024-05-05T06:39:58.598Z"
   },
   {
    "duration": 2206,
    "start_time": "2024-05-05T06:39:58.684Z"
   },
   {
    "duration": 11,
    "start_time": "2024-05-05T06:40:00.892Z"
   },
   {
    "duration": 70,
    "start_time": "2024-05-05T06:40:00.905Z"
   },
   {
    "duration": 121,
    "start_time": "2024-05-05T06:42:52.244Z"
   },
   {
    "duration": 12,
    "start_time": "2024-05-05T06:44:33.822Z"
   },
   {
    "duration": 2008,
    "start_time": "2024-05-05T06:45:17.673Z"
   },
   {
    "duration": 1788,
    "start_time": "2024-05-05T06:45:33.193Z"
   },
   {
    "duration": 1885,
    "start_time": "2024-05-05T06:46:07.800Z"
   },
   {
    "duration": 1786,
    "start_time": "2024-05-05T06:49:29.104Z"
   },
   {
    "duration": 1899,
    "start_time": "2024-05-05T06:49:33.581Z"
   },
   {
    "duration": 2047,
    "start_time": "2024-05-05T06:56:24.034Z"
   },
   {
    "duration": 1851,
    "start_time": "2024-05-05T06:56:41.235Z"
   },
   {
    "duration": 1815,
    "start_time": "2024-05-05T07:10:10.470Z"
   },
   {
    "duration": 2040,
    "start_time": "2024-05-05T07:25:48.856Z"
   },
   {
    "duration": 2289,
    "start_time": "2024-05-05T07:33:13.699Z"
   },
   {
    "duration": 274,
    "start_time": "2024-05-05T07:35:25.868Z"
   },
   {
    "duration": 262,
    "start_time": "2024-05-05T07:35:51.740Z"
   },
   {
    "duration": 68,
    "start_time": "2024-05-05T07:37:29.426Z"
   },
   {
    "duration": 229,
    "start_time": "2024-05-05T07:41:57.712Z"
   },
   {
    "duration": 354,
    "start_time": "2024-05-05T07:42:06.840Z"
   },
   {
    "duration": 2680,
    "start_time": "2024-05-05T07:42:14.997Z"
   },
   {
    "duration": 3200,
    "start_time": "2024-05-05T07:42:17.680Z"
   },
   {
    "duration": 1460,
    "start_time": "2024-05-05T07:42:20.883Z"
   },
   {
    "duration": 260,
    "start_time": "2024-05-05T07:42:22.345Z"
   },
   {
    "duration": 4,
    "start_time": "2024-05-05T07:42:22.607Z"
   },
   {
    "duration": 67,
    "start_time": "2024-05-05T07:42:22.613Z"
   },
   {
    "duration": 325,
    "start_time": "2024-05-05T07:42:22.682Z"
   },
   {
    "duration": 3975,
    "start_time": "2024-05-05T07:42:23.009Z"
   },
   {
    "duration": 2088,
    "start_time": "2024-05-05T07:42:26.991Z"
   },
   {
    "duration": 11,
    "start_time": "2024-05-05T07:42:29.084Z"
   },
   {
    "duration": 268,
    "start_time": "2024-05-05T07:42:29.097Z"
   },
   {
    "duration": 289,
    "start_time": "2024-05-05T07:42:29.367Z"
   },
   {
    "duration": 212,
    "start_time": "2024-05-05T07:42:29.658Z"
   },
   {
    "duration": 8,
    "start_time": "2024-05-05T07:42:29.872Z"
   },
   {
    "duration": 56,
    "start_time": "2024-05-05T07:42:29.882Z"
   },
   {
    "duration": 349,
    "start_time": "2024-05-05T07:42:29.940Z"
   },
   {
    "duration": 32,
    "start_time": "2024-05-05T07:42:30.291Z"
   },
   {
    "duration": 2916,
    "start_time": "2024-05-05T07:42:30.325Z"
   },
   {
    "duration": 9,
    "start_time": "2024-05-05T07:42:33.242Z"
   },
   {
    "duration": 7,
    "start_time": "2024-05-05T07:42:33.254Z"
   },
   {
    "duration": 19,
    "start_time": "2024-05-05T07:42:33.263Z"
   },
   {
    "duration": 4596,
    "start_time": "2024-05-05T07:42:33.284Z"
   },
   {
    "duration": 103,
    "start_time": "2024-05-05T07:42:37.882Z"
   },
   {
    "duration": 96,
    "start_time": "2024-05-05T07:42:37.987Z"
   },
   {
    "duration": 2220,
    "start_time": "2024-05-05T07:42:38.085Z"
   },
   {
    "duration": 11,
    "start_time": "2024-05-05T07:42:40.307Z"
   },
   {
    "duration": 15,
    "start_time": "2024-05-05T07:42:40.320Z"
   },
   {
    "duration": 2621,
    "start_time": "2024-05-05T07:47:35.700Z"
   },
   {
    "duration": 3277,
    "start_time": "2024-05-05T07:47:38.323Z"
   },
   {
    "duration": 1455,
    "start_time": "2024-05-05T07:47:41.602Z"
   },
   {
    "duration": 137,
    "start_time": "2024-05-05T07:47:43.060Z"
   },
   {
    "duration": 3,
    "start_time": "2024-05-05T07:47:43.199Z"
   },
   {
    "duration": 18,
    "start_time": "2024-05-05T07:47:43.203Z"
   },
   {
    "duration": 313,
    "start_time": "2024-05-05T07:47:43.222Z"
   },
   {
    "duration": 3254,
    "start_time": "2024-05-05T07:47:43.537Z"
   },
   {
    "duration": 2011,
    "start_time": "2024-05-05T07:47:46.880Z"
   },
   {
    "duration": 94,
    "start_time": "2024-05-05T07:47:48.895Z"
   },
   {
    "duration": 188,
    "start_time": "2024-05-05T07:47:49.081Z"
   },
   {
    "duration": 305,
    "start_time": "2024-05-05T07:47:49.270Z"
   },
   {
    "duration": 196,
    "start_time": "2024-05-05T07:47:49.580Z"
   },
   {
    "duration": 4,
    "start_time": "2024-05-05T07:47:49.779Z"
   },
   {
    "duration": 147,
    "start_time": "2024-05-05T07:47:49.785Z"
   },
   {
    "duration": 349,
    "start_time": "2024-05-05T07:47:49.934Z"
   },
   {
    "duration": 44,
    "start_time": "2024-05-05T07:47:50.285Z"
   },
   {
    "duration": 70471,
    "start_time": "2024-05-05T07:47:50.331Z"
   },
   {
    "duration": 14,
    "start_time": "2024-05-05T07:49:00.804Z"
   },
   {
    "duration": 109,
    "start_time": "2024-05-05T07:49:00.820Z"
   },
   {
    "duration": 45,
    "start_time": "2024-05-05T07:49:00.931Z"
   },
   {
    "duration": 7119,
    "start_time": "2024-05-05T07:49:00.978Z"
   },
   {
    "duration": 24,
    "start_time": "2024-05-05T07:49:08.099Z"
   },
   {
    "duration": 96,
    "start_time": "2024-05-05T07:49:08.186Z"
   },
   {
    "duration": 9699,
    "start_time": "2024-05-05T07:49:08.284Z"
   },
   {
    "duration": 14,
    "start_time": "2024-05-05T07:49:17.985Z"
   },
   {
    "duration": 82,
    "start_time": "2024-05-05T07:49:18.000Z"
   },
   {
    "duration": 65,
    "start_time": "2024-05-05T08:00:43.010Z"
   },
   {
    "duration": 142,
    "start_time": "2024-05-05T08:10:24.030Z"
   },
   {
    "duration": 21,
    "start_time": "2024-05-05T08:11:01.852Z"
   },
   {
    "duration": 24,
    "start_time": "2024-05-05T08:12:05.290Z"
   },
   {
    "duration": 16,
    "start_time": "2024-05-05T08:12:18.702Z"
   },
   {
    "duration": 73,
    "start_time": "2024-05-05T08:13:55.650Z"
   },
   {
    "duration": 97,
    "start_time": "2024-05-05T08:14:45.345Z"
   },
   {
    "duration": 2742,
    "start_time": "2024-05-05T08:21:37.362Z"
   },
   {
    "duration": 3263,
    "start_time": "2024-05-05T08:21:40.108Z"
   },
   {
    "duration": 1571,
    "start_time": "2024-05-05T08:21:43.374Z"
   },
   {
    "duration": 123,
    "start_time": "2024-05-05T08:21:44.946Z"
   },
   {
    "duration": 5,
    "start_time": "2024-05-05T08:21:45.071Z"
   },
   {
    "duration": 37,
    "start_time": "2024-05-05T08:21:45.077Z"
   },
   {
    "duration": 289,
    "start_time": "2024-05-05T08:21:45.115Z"
   },
   {
    "duration": 4083,
    "start_time": "2024-05-05T08:21:45.407Z"
   },
   {
    "duration": 2388,
    "start_time": "2024-05-05T08:21:49.493Z"
   },
   {
    "duration": 98,
    "start_time": "2024-05-05T08:21:51.884Z"
   },
   {
    "duration": 208,
    "start_time": "2024-05-05T08:21:51.983Z"
   },
   {
    "duration": 253,
    "start_time": "2024-05-05T08:21:52.192Z"
   },
   {
    "duration": 209,
    "start_time": "2024-05-05T08:21:52.447Z"
   },
   {
    "duration": 3,
    "start_time": "2024-05-05T08:21:52.660Z"
   },
   {
    "duration": 142,
    "start_time": "2024-05-05T08:21:52.666Z"
   },
   {
    "duration": 379,
    "start_time": "2024-05-05T08:21:52.810Z"
   },
   {
    "duration": 49,
    "start_time": "2024-05-05T08:21:53.191Z"
   },
   {
    "duration": 16,
    "start_time": "2024-05-05T08:21:53.242Z"
   },
   {
    "duration": 9,
    "start_time": "2024-05-05T08:21:53.280Z"
   },
   {
    "duration": 5,
    "start_time": "2024-05-05T08:21:53.291Z"
   },
   {
    "duration": 7405,
    "start_time": "2024-05-05T08:21:53.297Z"
   },
   {
    "duration": 19,
    "start_time": "2024-05-05T08:22:00.703Z"
   },
   {
    "duration": 200,
    "start_time": "2024-05-05T08:22:00.725Z"
   },
   {
    "duration": 9933,
    "start_time": "2024-05-05T08:22:00.927Z"
   },
   {
    "duration": 23,
    "start_time": "2024-05-05T08:22:10.862Z"
   },
   {
    "duration": 24,
    "start_time": "2024-05-05T08:22:10.887Z"
   },
   {
    "duration": 2743,
    "start_time": "2024-05-05T08:23:56.963Z"
   },
   {
    "duration": 3564,
    "start_time": "2024-05-05T08:23:59.708Z"
   },
   {
    "duration": 1507,
    "start_time": "2024-05-05T08:24:03.274Z"
   },
   {
    "duration": 138,
    "start_time": "2024-05-05T08:24:04.784Z"
   },
   {
    "duration": 5,
    "start_time": "2024-05-05T08:24:04.923Z"
   },
   {
    "duration": 25,
    "start_time": "2024-05-05T08:24:04.930Z"
   },
   {
    "duration": 335,
    "start_time": "2024-05-05T08:24:04.958Z"
   },
   {
    "duration": 2484,
    "start_time": "2024-05-05T08:24:05.296Z"
   },
   {
    "duration": 1904,
    "start_time": "2024-05-05T08:24:07.783Z"
   },
   {
    "duration": 188,
    "start_time": "2024-05-05T08:24:09.693Z"
   },
   {
    "duration": 198,
    "start_time": "2024-05-05T08:24:09.883Z"
   },
   {
    "duration": 254,
    "start_time": "2024-05-05T08:24:10.082Z"
   },
   {
    "duration": 210,
    "start_time": "2024-05-05T08:24:10.338Z"
   },
   {
    "duration": 3,
    "start_time": "2024-05-05T08:24:10.550Z"
   },
   {
    "duration": 156,
    "start_time": "2024-05-05T08:24:10.555Z"
   },
   {
    "duration": 367,
    "start_time": "2024-05-05T08:24:10.713Z"
   },
   {
    "duration": 56,
    "start_time": "2024-05-05T08:24:11.083Z"
   },
   {
    "duration": 13,
    "start_time": "2024-05-05T08:24:11.141Z"
   },
   {
    "duration": 31,
    "start_time": "2024-05-05T08:24:11.156Z"
   },
   {
    "duration": 7,
    "start_time": "2024-05-05T08:24:11.189Z"
   },
   {
    "duration": 7393,
    "start_time": "2024-05-05T08:24:11.197Z"
   },
   {
    "duration": 19,
    "start_time": "2024-05-05T08:24:18.592Z"
   },
   {
    "duration": 70,
    "start_time": "2024-05-05T08:24:18.616Z"
   },
   {
    "duration": 9957,
    "start_time": "2024-05-05T08:24:18.688Z"
   },
   {
    "duration": 18,
    "start_time": "2024-05-05T08:24:28.647Z"
   },
   {
    "duration": 28,
    "start_time": "2024-05-05T08:24:28.667Z"
   },
   {
    "duration": 50,
    "start_time": "2024-05-05T14:15:32.398Z"
   },
   {
    "duration": 1869,
    "start_time": "2024-05-05T14:15:37.083Z"
   },
   {
    "duration": 6578,
    "start_time": "2024-05-05T14:15:42.289Z"
   },
   {
    "duration": 17,
    "start_time": "2024-05-05T14:15:48.870Z"
   },
   {
    "duration": 16,
    "start_time": "2024-05-05T14:16:00.758Z"
   },
   {
    "duration": 14,
    "start_time": "2024-05-05T14:16:06.696Z"
   },
   {
    "duration": 1402,
    "start_time": "2024-05-05T14:16:20.374Z"
   },
   {
    "duration": 189,
    "start_time": "2024-05-05T14:16:23.715Z"
   }
  ],
  "kernelspec": {
   "display_name": "Python 3 (ipykernel)",
   "language": "python",
   "name": "python3"
  },
  "language_info": {
   "codemirror_mode": {
    "name": "ipython",
    "version": 3
   },
   "file_extension": ".py",
   "mimetype": "text/x-python",
   "name": "python",
   "nbconvert_exporter": "python",
   "pygments_lexer": "ipython3",
   "version": "3.11.5"
  },
  "toc": {
   "base_numbering": 1,
   "nav_menu": {},
   "number_sections": true,
   "sideBar": true,
   "skip_h1_title": true,
   "title_cell": "Table of Contents",
   "title_sidebar": "Contents",
   "toc_cell": false,
   "toc_position": {},
   "toc_section_display": true,
   "toc_window_display": false
  }
 },
 "nbformat": 4,
 "nbformat_minor": 5
}
