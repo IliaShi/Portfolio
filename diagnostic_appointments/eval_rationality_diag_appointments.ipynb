{
 "cells": [
  {
   "cell_type": "markdown",
   "metadata": {},
   "source": [
    "# Разработка модели для выявления нерациональных диагностических направлений\n",
    "\n",
    "## Бизнес-задача\n",
    "Задача от Службы внутреннего аудита поликлиники: выявлять случаи нерационального назначения медицинских исследований врачом пациенту. Из тысяч врачебных назначений модель должна отбирать потенциально нерациональные, которые на следующем этапе анализует врач-эксперт. Таким образом, модель помогает сфокусировать внимание эксперта и сэкономить его время.  \n",
    "В качестве метрики оценки качества модели выбрана f1-мера, целевой уровень 0.88 и выше.\n",
    "Предоставлен датасет за 6 месяцев (>200 тыс. наблюдений), размечен врачами-экспертами.  \n",
    "\n",
    "## Цель\n",
    "Разработать модель для выявления нерациональных диагностических назначений. Задача бинарной классификации. \n",
    "\n",
    "## План работы.\n",
    "1. Загрузка, предобработка и анализ данных.  \n",
    "2. Подготовка данных\n",
    "3. Построение моделей и выбор лучшей.\n",
    "4. Проверка лучшей модели на тестовой выборке.\n",
    "5. Формулирование выводов. "
   ]
  },
  {
   "cell_type": "markdown",
   "metadata": {},
   "source": [
    "## Технический блок"
   ]
  },
  {
   "cell_type": "markdown",
   "metadata": {},
   "source": [
    "### Импорты библиотек"
   ]
  },
  {
   "cell_type": "code",
   "execution_count": 126,
   "metadata": {},
   "outputs": [],
   "source": [
    "import pandas as pd\n",
    "from pandas.api.types import is_numeric_dtype\n",
    "import numpy as np\n",
    "import matplotlib.pyplot as plt\n",
    "import seaborn as sns\n",
    "import joblib\n",
    "import phik\n",
    "\n",
    "from catboost import CatBoostClassifier, Pool\n",
    "from tensorflow import keras\n",
    "from tensorflow.keras.optimizers import Adam\n",
    "\n",
    "from sklearn.model_selection import train_test_split\n",
    "from sklearn.preprocessing import OneHotEncoder, MinMaxScaler\n",
    "from sklearn.metrics import f1_score, precision_score, recall_score\n",
    "from sklearn.base import BaseEstimator, TransformerMixin\n",
    "from sklearn.pipeline import Pipeline\n",
    "\n",
    "\n",
    "import warnings\n",
    "warnings.filterwarnings('ignore')"
   ]
  },
  {
   "cell_type": "markdown",
   "metadata": {},
   "source": [
    "### Собственные функции"
   ]
  },
  {
   "cell_type": "code",
   "execution_count": 127,
   "metadata": {},
   "outputs": [],
   "source": [
    "def data_review(df_):\n",
    "    \"\"\" Функция для первичного обзора данных\n",
    "    Args:\n",
    "        df_ - датасет\n",
    "    Returns:\n",
    "        Возвращаемых значений нет.\n",
    "        Функция выводит следующие сведения:\n",
    "        Кол-во строк\n",
    "        Кол-во столбцов\n",
    "        Кол-во явных дубликатов\n",
    "        Пример датасета\n",
    "        Таблицу с данными по каждому столбцу (тип данных, уникальных значений, кол-во пропусков, долю пропусков)\n",
    "    \"\"\"\n",
    "    res_dupl = df.duplicated().sum()\n",
    "    print('Строк:', df.shape[0],\n",
    "            '\\nСтолбцов:', df.shape[1],\n",
    "            '\\nКоличество явных дубликатов:', res_dupl,\n",
    "            '\\n\\nПример датасета:')\n",
    "    display(df.sample(5))\n",
    "\n",
    "    # Обзорная информация о датасете\n",
    "    print('Обзорная информация о датасете:')\n",
    "    res = pd.DataFrame(columns=['Имя столбца','Тип данных','Уникальных значений','Число пропусков','Доля пропусков'])\n",
    "    k=0\n",
    "    for i in df_.columns:\n",
    "        k += 1\n",
    "        res.loc[k] = [i,\n",
    "                    df_.dtypes[i],\n",
    "                    len(df_[i].unique()),\n",
    "                    df_[i].isna().sum(),\n",
    "                    round(df_[i].isna().mean() * 100, 3)\n",
    "                    ]\n",
    "    display(res)"
   ]
  },
  {
   "cell_type": "code",
   "execution_count": 128,
   "metadata": {},
   "outputs": [],
   "source": [
    "def research_data_analysis_plots (dataframe, bins=40, include_col=''):\n",
    "    \"\"\" Функция рисует график для одного параметра датафрейма\n",
    "    Args\n",
    "        data(DataFrame) - датафрейм с данными\n",
    "        bins(int)=40 - кол-во корзин гистограммы\n",
    "        include_col([str]) - столбец, требующий\n",
    "    Returns\n",
    "        нет возвращаемых значений\n",
    "    \"\"\"\n",
    "\n",
    "    # сброс индекса в датафрейме для boxplot\n",
    "    dataframe_ri = pd.DataFrame()\n",
    "    dataframe_ri = dataframe.reset_index(drop=True)\n",
    "\n",
    "    # Отрисовка графиков числовых переменных\n",
    "    if is_numeric_dtype(dataframe[include_col]):\n",
    "        fig, axes = plt.subplots(nrows=2, ncols=1, figsize=(6,10))\n",
    "        sns.histplot(data=dataframe[include_col], bins=bins, kde=False, ax=axes[0])  \\\n",
    "            .set_title('Числовой параметр: ' + include_col, fontdict={'fontsize':16})\n",
    "        sns.boxplot(data=dataframe_ri, x=include_col, orient='h', ax=axes[1])\n",
    "        plt.show\n",
    "\n",
    "    # Отрисовка графиков категориальных переменных\n",
    "    elif dataframe.dtypes[include_col] in ['object','bool']:\n",
    "        data_x = dataframe.groupby(include_col)[include_col].count().index\n",
    "        data_y = dataframe.groupby(include_col)[include_col].count().values\n",
    "        sns.barplot(y=data_x, x=data_y, orient='h')\n",
    "        plt.title('Категориальный параметр: ' + include_col, fontdict={'fontsize':16})\n",
    "        plt.xlabel('Кол-во наблюдений')\n",
    "        plt.ylabel('Значение параметра')\n",
    "        plt.show\n",
    "\n",
    "    # Если другой тип данных\n",
    "    else:\n",
    "        print ('Тип данных не поддерживается функцией research_data_analysis_plots')"
   ]
  },
  {
   "cell_type": "markdown",
   "metadata": {},
   "source": [
    "## Загрузка, предобработка и анализ данных."
   ]
  },
  {
   "cell_type": "code",
   "execution_count": 129,
   "metadata": {},
   "outputs": [
    {
     "data": {
      "text/html": [
       "<div>\n",
       "<style scoped>\n",
       "    .dataframe tbody tr th:only-of-type {\n",
       "        vertical-align: middle;\n",
       "    }\n",
       "\n",
       "    .dataframe tbody tr th {\n",
       "        vertical-align: top;\n",
       "    }\n",
       "\n",
       "    .dataframe thead th {\n",
       "        text-align: right;\n",
       "    }\n",
       "</style>\n",
       "<table border=\"1\" class=\"dataframe\">\n",
       "  <thead>\n",
       "    <tr style=\"text-align: right;\">\n",
       "      <th></th>\n",
       "      <th>Unnamed: 0</th>\n",
       "      <th>test_code</th>\n",
       "      <th>test_name</th>\n",
       "      <th>appeal_reason</th>\n",
       "      <th>diagnose</th>\n",
       "      <th>price</th>\n",
       "      <th>target</th>\n",
       "      <th>age</th>\n",
       "    </tr>\n",
       "  </thead>\n",
       "  <tbody>\n",
       "    <tr>\n",
       "      <th>0</th>\n",
       "      <td>0</td>\n",
       "      <td>B01</td>\n",
       "      <td>Иследование общего анализа мочи на анализаторе...</td>\n",
       "      <td>Острое заболевание (состояние)/Обострение хрон...</td>\n",
       "      <td>N15.8  Другие уточненные тубулоинтерстициальны...</td>\n",
       "      <td>555.32</td>\n",
       "      <td>0</td>\n",
       "      <td>53</td>\n",
       "    </tr>\n",
       "    <tr>\n",
       "      <th>1</th>\n",
       "      <td>1</td>\n",
       "      <td>B02</td>\n",
       "      <td>Общий анализ крови на анализаторе с дифференци...</td>\n",
       "      <td>Острое заболевание (состояние)/Обострение хрон...</td>\n",
       "      <td>N15.8  Другие уточненные тубулоинтерстициальны...</td>\n",
       "      <td>1687.40</td>\n",
       "      <td>0</td>\n",
       "      <td>53</td>\n",
       "    </tr>\n",
       "    <tr>\n",
       "      <th>2</th>\n",
       "      <td>2</td>\n",
       "      <td>B01</td>\n",
       "      <td>Исследование кала (копрограмма) общеклиническо...</td>\n",
       "      <td>Острое заболевание (состояние)/Обострение хрон...</td>\n",
       "      <td>B18.1  Хронический вирусный гепатит в  без дел...</td>\n",
       "      <td>707.78</td>\n",
       "      <td>0</td>\n",
       "      <td>38</td>\n",
       "    </tr>\n",
       "  </tbody>\n",
       "</table>\n",
       "</div>"
      ],
      "text/plain": [
       "   Unnamed: 0 test_code                                          test_name  \\\n",
       "0           0       B01  Иследование общего анализа мочи на анализаторе...   \n",
       "1           1       B02  Общий анализ крови на анализаторе с дифференци...   \n",
       "2           2       B01  Исследование кала (копрограмма) общеклиническо...   \n",
       "\n",
       "                                       appeal_reason  \\\n",
       "0  Острое заболевание (состояние)/Обострение хрон...   \n",
       "1  Острое заболевание (состояние)/Обострение хрон...   \n",
       "2  Острое заболевание (состояние)/Обострение хрон...   \n",
       "\n",
       "                                            diagnose    price  target  age  \n",
       "0  N15.8  Другие уточненные тубулоинтерстициальны...   555.32       0   53  \n",
       "1  N15.8  Другие уточненные тубулоинтерстициальны...  1687.40       0   53  \n",
       "2  B18.1  Хронический вирусный гепатит в  без дел...   707.78       0   38  "
      ]
     },
     "execution_count": 129,
     "metadata": {},
     "output_type": "execute_result"
    }
   ],
   "source": [
    "# Загрузка датафрейма\n",
    "df = pd.read_csv('data/data.csv', decimal='.')\n",
    "df.head(3)"
   ]
  },
  {
   "cell_type": "code",
   "execution_count": 130,
   "metadata": {},
   "outputs": [],
   "source": [
    "# Сохраним копию исходного датафрейма. Все эксперименты и преобразования проводим с df\n",
    "df_init = df.copy()"
   ]
  },
  {
   "cell_type": "code",
   "execution_count": 131,
   "metadata": {},
   "outputs": [
    {
     "name": "stdout",
     "output_type": "stream",
     "text": [
      "Строк: 200644 \n",
      "Столбцов: 8 \n",
      "Количество явных дубликатов: 0 \n",
      "\n",
      "Пример датасета:\n"
     ]
    },
    {
     "data": {
      "text/html": [
       "<div>\n",
       "<style scoped>\n",
       "    .dataframe tbody tr th:only-of-type {\n",
       "        vertical-align: middle;\n",
       "    }\n",
       "\n",
       "    .dataframe tbody tr th {\n",
       "        vertical-align: top;\n",
       "    }\n",
       "\n",
       "    .dataframe thead th {\n",
       "        text-align: right;\n",
       "    }\n",
       "</style>\n",
       "<table border=\"1\" class=\"dataframe\">\n",
       "  <thead>\n",
       "    <tr style=\"text-align: right;\">\n",
       "      <th></th>\n",
       "      <th>Unnamed: 0</th>\n",
       "      <th>test_code</th>\n",
       "      <th>test_name</th>\n",
       "      <th>appeal_reason</th>\n",
       "      <th>diagnose</th>\n",
       "      <th>price</th>\n",
       "      <th>target</th>\n",
       "      <th>age</th>\n",
       "    </tr>\n",
       "  </thead>\n",
       "  <tbody>\n",
       "    <tr>\n",
       "      <th>124017</th>\n",
       "      <td>137850</td>\n",
       "      <td>B06</td>\n",
       "      <td>Определение суммарных антител к вирусу гепатит...</td>\n",
       "      <td>Острое заболевание (состояние)/Обострение хрон...</td>\n",
       "      <td>C50.4  Злокачественное новообразование верхне-...</td>\n",
       "      <td>2602.59</td>\n",
       "      <td>0</td>\n",
       "      <td>56</td>\n",
       "    </tr>\n",
       "    <tr>\n",
       "      <th>75480</th>\n",
       "      <td>83973</td>\n",
       "      <td>B03</td>\n",
       "      <td>Определение креатинина в сыворотке крови на ан...</td>\n",
       "      <td>Острое заболевание (состояние)/Обострение хрон...</td>\n",
       "      <td>M42.9  Остеохондроз позвоночника неуточненный</td>\n",
       "      <td>82.39</td>\n",
       "      <td>0</td>\n",
       "      <td>52</td>\n",
       "    </tr>\n",
       "    <tr>\n",
       "      <th>163924</th>\n",
       "      <td>182163</td>\n",
       "      <td>B09</td>\n",
       "      <td>Обнаружение РНК вируса гепатита C в биологичес...</td>\n",
       "      <td>Скрининг (профосмотр)</td>\n",
       "      <td>Z11.5  Специальное скрининговое обследование с...</td>\n",
       "      <td>7261.93</td>\n",
       "      <td>0</td>\n",
       "      <td>32</td>\n",
       "    </tr>\n",
       "    <tr>\n",
       "      <th>92210</th>\n",
       "      <td>102543</td>\n",
       "      <td>B01</td>\n",
       "      <td>Иследование общего анализа мочи на анализаторе...</td>\n",
       "      <td>Обращение с профилактической целью (кроме скри...</td>\n",
       "      <td>Z00.0  Общий медицинский осмотр</td>\n",
       "      <td>555.32</td>\n",
       "      <td>0</td>\n",
       "      <td>7</td>\n",
       "    </tr>\n",
       "    <tr>\n",
       "      <th>25911</th>\n",
       "      <td>28883</td>\n",
       "      <td>B01</td>\n",
       "      <td>Иследование общего анализа мочи на анализаторе...</td>\n",
       "      <td>Острое заболевание (состояние)/Обострение хрон...</td>\n",
       "      <td>A07.1  Жиардиаз (лямблиоз)</td>\n",
       "      <td>555.32</td>\n",
       "      <td>0</td>\n",
       "      <td>8</td>\n",
       "    </tr>\n",
       "  </tbody>\n",
       "</table>\n",
       "</div>"
      ],
      "text/plain": [
       "        Unnamed: 0 test_code  \\\n",
       "124017      137850       B06   \n",
       "75480        83973       B03   \n",
       "163924      182163       B09   \n",
       "92210       102543       B01   \n",
       "25911        28883       B01   \n",
       "\n",
       "                                                test_name  \\\n",
       "124017  Определение суммарных антител к вирусу гепатит...   \n",
       "75480   Определение креатинина в сыворотке крови на ан...   \n",
       "163924  Обнаружение РНК вируса гепатита C в биологичес...   \n",
       "92210   Иследование общего анализа мочи на анализаторе...   \n",
       "25911   Иследование общего анализа мочи на анализаторе...   \n",
       "\n",
       "                                            appeal_reason  \\\n",
       "124017  Острое заболевание (состояние)/Обострение хрон...   \n",
       "75480   Острое заболевание (состояние)/Обострение хрон...   \n",
       "163924                              Скрининг (профосмотр)   \n",
       "92210   Обращение с профилактической целью (кроме скри...   \n",
       "25911   Острое заболевание (состояние)/Обострение хрон...   \n",
       "\n",
       "                                                 diagnose    price  target  \\\n",
       "124017  C50.4  Злокачественное новообразование верхне-...  2602.59       0   \n",
       "75480       M42.9  Остеохондроз позвоночника неуточненный    82.39       0   \n",
       "163924  Z11.5  Специальное скрининговое обследование с...  7261.93       0   \n",
       "92210                     Z00.0  Общий медицинский осмотр   555.32       0   \n",
       "25911                          A07.1  Жиардиаз (лямблиоз)   555.32       0   \n",
       "\n",
       "        age  \n",
       "124017   56  \n",
       "75480    52  \n",
       "163924   32  \n",
       "92210     7  \n",
       "25911     8  "
      ]
     },
     "metadata": {},
     "output_type": "display_data"
    },
    {
     "name": "stdout",
     "output_type": "stream",
     "text": [
      "Обзорная информация о датасете:\n"
     ]
    },
    {
     "data": {
      "text/html": [
       "<div>\n",
       "<style scoped>\n",
       "    .dataframe tbody tr th:only-of-type {\n",
       "        vertical-align: middle;\n",
       "    }\n",
       "\n",
       "    .dataframe tbody tr th {\n",
       "        vertical-align: top;\n",
       "    }\n",
       "\n",
       "    .dataframe thead th {\n",
       "        text-align: right;\n",
       "    }\n",
       "</style>\n",
       "<table border=\"1\" class=\"dataframe\">\n",
       "  <thead>\n",
       "    <tr style=\"text-align: right;\">\n",
       "      <th></th>\n",
       "      <th>Имя столбца</th>\n",
       "      <th>Тип данных</th>\n",
       "      <th>Уникальных значений</th>\n",
       "      <th>Число пропусков</th>\n",
       "      <th>Доля пропусков</th>\n",
       "    </tr>\n",
       "  </thead>\n",
       "  <tbody>\n",
       "    <tr>\n",
       "      <th>1</th>\n",
       "      <td>Unnamed: 0</td>\n",
       "      <td>int64</td>\n",
       "      <td>200644</td>\n",
       "      <td>0</td>\n",
       "      <td>0.0</td>\n",
       "    </tr>\n",
       "    <tr>\n",
       "      <th>2</th>\n",
       "      <td>test_code</td>\n",
       "      <td>object</td>\n",
       "      <td>8</td>\n",
       "      <td>0</td>\n",
       "      <td>0.0</td>\n",
       "    </tr>\n",
       "    <tr>\n",
       "      <th>3</th>\n",
       "      <td>test_name</td>\n",
       "      <td>object</td>\n",
       "      <td>463</td>\n",
       "      <td>0</td>\n",
       "      <td>0.0</td>\n",
       "    </tr>\n",
       "    <tr>\n",
       "      <th>4</th>\n",
       "      <td>appeal_reason</td>\n",
       "      <td>object</td>\n",
       "      <td>20</td>\n",
       "      <td>0</td>\n",
       "      <td>0.0</td>\n",
       "    </tr>\n",
       "    <tr>\n",
       "      <th>5</th>\n",
       "      <td>diagnose</td>\n",
       "      <td>object</td>\n",
       "      <td>2030</td>\n",
       "      <td>0</td>\n",
       "      <td>0.0</td>\n",
       "    </tr>\n",
       "    <tr>\n",
       "      <th>6</th>\n",
       "      <td>price</td>\n",
       "      <td>float64</td>\n",
       "      <td>359</td>\n",
       "      <td>0</td>\n",
       "      <td>0.0</td>\n",
       "    </tr>\n",
       "    <tr>\n",
       "      <th>7</th>\n",
       "      <td>target</td>\n",
       "      <td>int64</td>\n",
       "      <td>2</td>\n",
       "      <td>0</td>\n",
       "      <td>0.0</td>\n",
       "    </tr>\n",
       "    <tr>\n",
       "      <th>8</th>\n",
       "      <td>age</td>\n",
       "      <td>int64</td>\n",
       "      <td>93</td>\n",
       "      <td>0</td>\n",
       "      <td>0.0</td>\n",
       "    </tr>\n",
       "  </tbody>\n",
       "</table>\n",
       "</div>"
      ],
      "text/plain": [
       "     Имя столбца Тип данных  Уникальных значений  Число пропусков  \\\n",
       "1     Unnamed: 0      int64               200644                0   \n",
       "2      test_code     object                    8                0   \n",
       "3      test_name     object                  463                0   \n",
       "4  appeal_reason     object                   20                0   \n",
       "5       diagnose     object                 2030                0   \n",
       "6          price    float64                  359                0   \n",
       "7         target      int64                    2                0   \n",
       "8            age      int64                   93                0   \n",
       "\n",
       "   Доля пропусков  \n",
       "1             0.0  \n",
       "2             0.0  \n",
       "3             0.0  \n",
       "4             0.0  \n",
       "5             0.0  \n",
       "6             0.0  \n",
       "7             0.0  \n",
       "8             0.0  "
      ]
     },
     "metadata": {},
     "output_type": "display_data"
    }
   ],
   "source": [
    "# Обзор данных с помощью собственной функкции\n",
    "data_review(df)"
   ]
  },
  {
   "cell_type": "markdown",
   "metadata": {},
   "source": [
    "Датасет содержит более 200 тыс.строк, 8 столбцов. Явные дубликаты отсутствуют. Пропуски данных не выявлены.  \n",
    "'Unnamed: 0' - неинформативный столбец, удаляем.  \n",
    "Изучим каждый из столбцов внимательно."
   ]
  },
  {
   "cell_type": "code",
   "execution_count": 132,
   "metadata": {},
   "outputs": [
    {
     "data": {
      "text/html": [
       "<div>\n",
       "<style scoped>\n",
       "    .dataframe tbody tr th:only-of-type {\n",
       "        vertical-align: middle;\n",
       "    }\n",
       "\n",
       "    .dataframe tbody tr th {\n",
       "        vertical-align: top;\n",
       "    }\n",
       "\n",
       "    .dataframe thead th {\n",
       "        text-align: right;\n",
       "    }\n",
       "</style>\n",
       "<table border=\"1\" class=\"dataframe\">\n",
       "  <thead>\n",
       "    <tr style=\"text-align: right;\">\n",
       "      <th></th>\n",
       "      <th>test_code</th>\n",
       "      <th>test_name</th>\n",
       "      <th>appeal_reason</th>\n",
       "      <th>diagnose</th>\n",
       "      <th>price</th>\n",
       "      <th>target</th>\n",
       "      <th>age</th>\n",
       "    </tr>\n",
       "  </thead>\n",
       "  <tbody>\n",
       "    <tr>\n",
       "      <th>0</th>\n",
       "      <td>B01</td>\n",
       "      <td>Иследование общего анализа мочи на анализаторе...</td>\n",
       "      <td>Острое заболевание (состояние)/Обострение хрон...</td>\n",
       "      <td>N15.8  Другие уточненные тубулоинтерстициальны...</td>\n",
       "      <td>555.32</td>\n",
       "      <td>0</td>\n",
       "      <td>53</td>\n",
       "    </tr>\n",
       "    <tr>\n",
       "      <th>1</th>\n",
       "      <td>B02</td>\n",
       "      <td>Общий анализ крови на анализаторе с дифференци...</td>\n",
       "      <td>Острое заболевание (состояние)/Обострение хрон...</td>\n",
       "      <td>N15.8  Другие уточненные тубулоинтерстициальны...</td>\n",
       "      <td>1687.40</td>\n",
       "      <td>0</td>\n",
       "      <td>53</td>\n",
       "    </tr>\n",
       "    <tr>\n",
       "      <th>2</th>\n",
       "      <td>B01</td>\n",
       "      <td>Исследование кала (копрограмма) общеклиническо...</td>\n",
       "      <td>Острое заболевание (состояние)/Обострение хрон...</td>\n",
       "      <td>B18.1  Хронический вирусный гепатит в  без дел...</td>\n",
       "      <td>707.78</td>\n",
       "      <td>0</td>\n",
       "      <td>38</td>\n",
       "    </tr>\n",
       "  </tbody>\n",
       "</table>\n",
       "</div>"
      ],
      "text/plain": [
       "  test_code                                          test_name  \\\n",
       "0       B01  Иследование общего анализа мочи на анализаторе...   \n",
       "1       B02  Общий анализ крови на анализаторе с дифференци...   \n",
       "2       B01  Исследование кала (копрограмма) общеклиническо...   \n",
       "\n",
       "                                       appeal_reason  \\\n",
       "0  Острое заболевание (состояние)/Обострение хрон...   \n",
       "1  Острое заболевание (состояние)/Обострение хрон...   \n",
       "2  Острое заболевание (состояние)/Обострение хрон...   \n",
       "\n",
       "                                            diagnose    price  target  age  \n",
       "0  N15.8  Другие уточненные тубулоинтерстициальны...   555.32       0   53  \n",
       "1  N15.8  Другие уточненные тубулоинтерстициальны...  1687.40       0   53  \n",
       "2  B18.1  Хронический вирусный гепатит в  без дел...   707.78       0   38  "
      ]
     },
     "execution_count": 132,
     "metadata": {},
     "output_type": "execute_result"
    }
   ],
   "source": [
    "# Unnamed: 0 - удаление\n",
    "df.drop(columns=['Unnamed: 0'], inplace=True)\n",
    "df.head(3)"
   ]
  },
  {
   "cell_type": "code",
   "execution_count": 133,
   "metadata": {},
   "outputs": [
    {
     "data": {
      "image/png": "[encoded data removed]",
      "text/plain": [
       "<Figure size 640x480 with 1 Axes>"
      ]
     },
     "metadata": {},
     "output_type": "display_data"
    }
   ],
   "source": [
    "# Работа со столбцом 'test_code'\n",
    "research_data_analysis_plots(df, include_col='test_code')"
   ]
  },
  {
   "cell_type": "code",
   "execution_count": 134,
   "metadata": {},
   "outputs": [
    {
     "data": {
      "text/plain": [
       "test_code\n",
       "B03    0.35\n",
       "B02    0.19\n",
       "B06    0.16\n",
       "B01    0.15\n",
       "B04    0.08\n",
       "B08    0.03\n",
       "B09    0.03\n",
       "B05    0.01\n",
       "Name: count, dtype: float64"
      ]
     },
     "execution_count": 134,
     "metadata": {},
     "output_type": "execute_result"
    }
   ],
   "source": [
    "# Оценим долю для каждого значения test_code\n",
    "df.test_code.value_counts().apply(lambda x: round(x/df.shape[0], 2))"
   ]
  },
  {
   "cell_type": "markdown",
   "metadata": {},
   "source": [
    "test_code - групповой код исследования, 8 уникальных значений.  \n",
    "В05, В08 и В09 - редко назначаемые (1-3% наблюдений), можно было объединить в одну категорию. Но пока оставлю как есть."
   ]
  },
  {
   "cell_type": "code",
   "execution_count": 135,
   "metadata": {},
   "outputs": [
    {
     "name": "stdout",
     "output_type": "stream",
     "text": [
      "Всего разных услуг: 463\n"
     ]
    }
   ],
   "source": [
    "# Работа со столбцом 'test_name'\n",
    "print('Всего разных услуг:', df.test_name.nunique())"
   ]
  },
  {
   "cell_type": "code",
   "execution_count": 136,
   "metadata": {},
   "outputs": [
    {
     "name": "stdout",
     "output_type": "stream",
     "text": [
      "Редкие услуги: 150\n"
     ]
    }
   ],
   "source": [
    "# Редкие значения (встречаются 3 раза и реже в датасете) в столбце test_name заменяем на 'rare'\n",
    "df_rare = pd.DataFrame(df.test_name.value_counts() < 4)\n",
    "list_rare_test_name = df_rare[df_rare['count'] == True].index\n",
    "print('Редкие услуги:', len(list_rare_test_name))"
   ]
  },
  {
   "cell_type": "code",
   "execution_count": 137,
   "metadata": {},
   "outputs": [
    {
     "data": {
      "text/plain": [
       "test_name\n",
       "Иследование общего анализа мочи на анализаторе (физико-химические свойства с подсчетом количества клеточных элементов мочевого осадка)    20450\n",
       "Общий анализ крови на анализаторе с дифференцировкой 5 классов клеток                                                                     19482\n",
       "Измерение скорости оседания эритроцитов (СОЭ) в крови на анализаторе                                                                      13195\n",
       "Определение глюкозы в сыворотке крови на анализаторе                                                                                       9451\n",
       "Определение аланинаминотрансферазы (АЛаТ) в сыворотке крови на анализаторе                                                                 7744\n",
       "                                                                                                                                          ...  \n",
       "Определение опухолевого антигена (СА 72-4) в сыворотке крови методом иммунохемилюминесценции                                                  4\n",
       "Подсчет тромбоцитов в крови ручным методом                                                                                                    4\n",
       "Бактериологическое исследование кала на дисбактериоз на анализаторе                                                                           4\n",
       "Определение антиэритроцитарных антител в непрямом тесте Кумбса в ID-картах (качественный тест)                                                4\n",
       "Определение антинейтрофильных цитоплазматических Ig G (ANCA combi) в сыворотке крови ИФА-методом                                              4\n",
       "Name: count, Length: 314, dtype: int64"
      ]
     },
     "execution_count": 137,
     "metadata": {},
     "output_type": "execute_result"
    }
   ],
   "source": [
    "# 150 видов редких исследований заменяем на 'rare'\n",
    "df.loc[df.test_name.isin(list_rare_test_name), 'test_name'] = 'rare'\n",
    "df.test_name.value_counts()"
   ]
  },
  {
   "cell_type": "code",
   "execution_count": 138,
   "metadata": {},
   "outputs": [
    {
     "data": {
      "image/png": "[encoded data removed]",
      "text/plain": [
       "<Figure size 640x480 with 1 Axes>"
      ]
     },
     "metadata": {},
     "output_type": "display_data"
    }
   ],
   "source": [
    "# Работа со столбцом 'appeal_reason'\n",
    "research_data_analysis_plots(df, include_col='appeal_reason')"
   ]
  },
  {
   "cell_type": "code",
   "execution_count": 139,
   "metadata": {},
   "outputs": [
    {
     "data": {
      "text/plain": [
       "array(['Острое заболевание (состояние)/Обострение хронического заболевания',\n",
       "       'Динамическое наблюдение с хроническими заболеваниями (в том числе ПУЗ)',\n",
       "       'Оформление документов на медико-социальную экспертизу',\n",
       "       'Скрининг (профосмотр)', 'Прием при антенатальном наблюдении',\n",
       "       'Подозрение на социально-значимое заболевание',\n",
       "       'Обращение с профилактической целью (кроме скрининга)',\n",
       "       'Динамическое наблюдение с социально-значимыми заболеваниями',\n",
       "       'Административный', 'Последствия травмы (АПО)',\n",
       "       'Прием при постнатальном наблюдении',\n",
       "       'Услуги по вопросам планирования семьи, безопасного прерывания беременности, охране репродуктивного здоровья',\n",
       "       'Динамическое наблюдение с хроническими заболеваниями, подлежащих наблюдению профильными специалистами',\n",
       "       'Острая травма (Травмпункт, АПО)', 'Иммунопрофилактика',\n",
       "       'Мероприятия по здоровому образу жизни',\n",
       "       'Плановая стом. помощь (дети и берем.)',\n",
       "       'Медико-социальная поддержка', 'Медицинская реабилитация (3 этап)',\n",
       "       'Экстренная стом.помощь'], dtype=object)"
      ]
     },
     "execution_count": 139,
     "metadata": {},
     "output_type": "execute_result"
    }
   ],
   "source": [
    "df.appeal_reason.unique()"
   ]
  },
  {
   "cell_type": "code",
   "execution_count": 140,
   "metadata": {},
   "outputs": [],
   "source": [
    "# Объединяем все подвиды динамического наблюдения в одну категорию \"динамическое наблюдение\"\n",
    "list_dinamic_monitoring = ['Динамическое наблюдение с хроническими заболеваниями (в том числе ПУЗ)',\n",
    "        'Динамическое наблюдение с социально-значимыми заболеваниями',\n",
    "        'Динамическое наблюдение с хроническими заболеваниями, подлежащих наблюдению профильными специалистами']\n",
    "df.loc[df.appeal_reason.isin(list_dinamic_monitoring),'appeal_reason'] = 'Динамическое наблюдение'"
   ]
  },
  {
   "cell_type": "code",
   "execution_count": 141,
   "metadata": {},
   "outputs": [
    {
     "data": {
      "text/plain": [
       "appeal_reason\n",
       "Острое заболевание (состояние)/Обострение хронического заболевания                                             0.668\n",
       "Прием при антенатальном наблюдении                                                                             0.199\n",
       "Скрининг (профосмотр)                                                                                          0.062\n",
       "Динамическое наблюдение                                                                                        0.045\n",
       "Обращение с профилактической целью (кроме скрининга)                                                           0.008\n",
       "Подозрение на социально-значимое заболевание                                                                   0.007\n",
       "Прием при постнатальном наблюдении                                                                             0.005\n",
       "Услуги по вопросам планирования семьи, безопасного прерывания беременности, охране репродуктивного здоровья    0.003\n",
       "Последствия травмы (АПО)                                                                                       0.001\n",
       "Оформление документов на медико-социальную экспертизу                                                          0.001\n",
       "Административный                                                                                               0.001\n",
       "Острая травма (Травмпункт, АПО)                                                                                0.000\n",
       "Иммунопрофилактика                                                                                             0.000\n",
       "Плановая стом. помощь (дети и берем.)                                                                          0.000\n",
       "Мероприятия по здоровому образу жизни                                                                          0.000\n",
       "Экстренная стом.помощь                                                                                         0.000\n",
       "Медицинская реабилитация (3 этап)                                                                              0.000\n",
       "Медико-социальная поддержка                                                                                    0.000\n",
       "Name: count, dtype: float64"
      ]
     },
     "execution_count": 141,
     "metadata": {},
     "output_type": "execute_result"
    }
   ],
   "source": [
    "# Оценим долю для каждого значения appeal_reason\n",
    "appeal_reason_list = df.appeal_reason.value_counts().apply(lambda x: round(x/df.shape[0], 3))\n",
    "appeal_reason_list"
   ]
  },
  {
   "cell_type": "code",
   "execution_count": 142,
   "metadata": {},
   "outputs": [
    {
     "data": {
      "text/plain": [
       "Index(['Острое заболевание (состояние)/Обострение хронического заболевания',\n",
       "       'Прием при антенатальном наблюдении', 'Скрининг (профосмотр)',\n",
       "       'Динамическое наблюдение'],\n",
       "      dtype='object', name='appeal_reason')"
      ]
     },
     "execution_count": 142,
     "metadata": {},
     "output_type": "execute_result"
    }
   ],
   "source": [
    "# Выделим поводы обращения, встречающиеся чаще, чем в 1% случаев\n",
    "appeal_reason_frequent = appeal_reason_list.loc[appeal_reason_list > 0.01].index\n",
    "appeal_reason_frequent"
   ]
  },
  {
   "cell_type": "code",
   "execution_count": 143,
   "metadata": {},
   "outputs": [
    {
     "data": {
      "text/plain": [
       "array(['Острое заболевание (состояние)/Обострение хронического заболевания',\n",
       "       'Динамическое наблюдение', 'другое', 'Скрининг (профосмотр)',\n",
       "       'Прием при антенатальном наблюдении'], dtype=object)"
      ]
     },
     "execution_count": 143,
     "metadata": {},
     "output_type": "execute_result"
    }
   ],
   "source": [
    "# Все остальные значения (реже 1%), объединяем в категорию \"другое\"\n",
    "df.loc[~ df.appeal_reason.isin(appeal_reason_frequent),'appeal_reason'] = 'другое'\n",
    "df.appeal_reason.unique()"
   ]
  },
  {
   "cell_type": "code",
   "execution_count": 144,
   "metadata": {},
   "outputs": [
    {
     "name": "stdout",
     "output_type": "stream",
     "text": [
      "Всего разных диагнозов: 2030\n",
      "Редкие диагнозы: 475\n"
     ]
    }
   ],
   "source": [
    "# Работа со столбцом 'diagnose'\n",
    "print('Всего разных диагнозов:', len(df.diagnose.unique()) )\n",
    "# Редкие значения (встречаются 3 раза и реже в датасете) заменяем на 'rare'\n",
    "df_rare = pd.DataFrame(df.diagnose.value_counts() < 4)\n",
    "list_rare_diagnoses = df_rare[df_rare['count'] == True].index\n",
    "print('Редкие диагнозы:', len(list_rare_diagnoses))"
   ]
  },
  {
   "cell_type": "code",
   "execution_count": 145,
   "metadata": {},
   "outputs": [
    {
     "data": {
      "text/plain": [
       "diagnose\n",
       "O26.8  Другие уточненные состояния, связанные с беременностью                                                                     23777\n",
       "O28.8  Другие отклонения от нормы , выявленные при антенатальном обследовании матери                                              11516\n",
       "Z11.5  Специальное скрининговое обследование с целью выявления других вирусных болезней                                            7128\n",
       "I11.9  Гипертензивная (гипертоническая) болезнь с преимущественным поражением сердца без (застойной) сердечной недостаточности     6367\n",
       "D50.9  Железодефицитная анемия неуточненная                                                                                        3726\n",
       "                                                                                                                                  ...  \n",
       "D51.3  Другие витамин-B12-дефицитные анемии, связанные с питанием                                                                     4\n",
       "K07.6  Болезни височно-нижнечелюстного сустава                                                                                        4\n",
       "I23.8  Другие текущие осложнения острого инфаркта миокарда                                                                            4\n",
       "G12.8  Другие спинальные мышечные атрофии и родственные синдромы                                                                      4\n",
       "K00.9  Нарушение развития зубов неуточненное                                                                                          4\n",
       "Name: count, Length: 1556, dtype: int64"
      ]
     },
     "execution_count": 145,
     "metadata": {},
     "output_type": "execute_result"
    }
   ],
   "source": [
    "# 475 названий редких диагнозов заменяем на 'rare'\n",
    "df.loc[df['diagnose'].isin(list_rare_diagnoses), 'diagnose'] = 'rare'\n",
    "df.diagnose.value_counts()"
   ]
  },
  {
   "cell_type": "code",
   "execution_count": 146,
   "metadata": {},
   "outputs": [
    {
     "data": {
      "text/html": [
       "<div>\n",
       "<style scoped>\n",
       "    .dataframe tbody tr th:only-of-type {\n",
       "        vertical-align: middle;\n",
       "    }\n",
       "\n",
       "    .dataframe tbody tr th {\n",
       "        vertical-align: top;\n",
       "    }\n",
       "\n",
       "    .dataframe thead th {\n",
       "        text-align: right;\n",
       "    }\n",
       "</style>\n",
       "<table border=\"1\" class=\"dataframe\">\n",
       "  <thead>\n",
       "    <tr style=\"text-align: right;\">\n",
       "      <th></th>\n",
       "      <th>test_code</th>\n",
       "      <th>test_name</th>\n",
       "      <th>appeal_reason</th>\n",
       "      <th>diagnose</th>\n",
       "      <th>price</th>\n",
       "      <th>target</th>\n",
       "      <th>age</th>\n",
       "    </tr>\n",
       "  </thead>\n",
       "  <tbody>\n",
       "    <tr>\n",
       "      <th>0</th>\n",
       "      <td>B01</td>\n",
       "      <td>Иследование общего анализа мочи на анализаторе...</td>\n",
       "      <td>Острое заболевание (состояние)/Обострение хрон...</td>\n",
       "      <td>N15.8</td>\n",
       "      <td>555.32</td>\n",
       "      <td>0</td>\n",
       "      <td>53</td>\n",
       "    </tr>\n",
       "    <tr>\n",
       "      <th>1</th>\n",
       "      <td>B02</td>\n",
       "      <td>Общий анализ крови на анализаторе с дифференци...</td>\n",
       "      <td>Острое заболевание (состояние)/Обострение хрон...</td>\n",
       "      <td>N15.8</td>\n",
       "      <td>1687.40</td>\n",
       "      <td>0</td>\n",
       "      <td>53</td>\n",
       "    </tr>\n",
       "    <tr>\n",
       "      <th>2</th>\n",
       "      <td>B01</td>\n",
       "      <td>Исследование кала (копрограмма) общеклиническо...</td>\n",
       "      <td>Острое заболевание (состояние)/Обострение хрон...</td>\n",
       "      <td>B18.1</td>\n",
       "      <td>707.78</td>\n",
       "      <td>0</td>\n",
       "      <td>38</td>\n",
       "    </tr>\n",
       "  </tbody>\n",
       "</table>\n",
       "</div>"
      ],
      "text/plain": [
       "  test_code                                          test_name  \\\n",
       "0       B01  Иследование общего анализа мочи на анализаторе...   \n",
       "1       B02  Общий анализ крови на анализаторе с дифференци...   \n",
       "2       B01  Исследование кала (копрограмма) общеклиническо...   \n",
       "\n",
       "                                       appeal_reason diagnose    price  \\\n",
       "0  Острое заболевание (состояние)/Обострение хрон...    N15.8   555.32   \n",
       "1  Острое заболевание (состояние)/Обострение хрон...    N15.8  1687.40   \n",
       "2  Острое заболевание (состояние)/Обострение хрон...    B18.1   707.78   \n",
       "\n",
       "   target  age  \n",
       "0       0   53  \n",
       "1       0   53  \n",
       "2       0   38  "
      ]
     },
     "execution_count": 146,
     "metadata": {},
     "output_type": "execute_result"
    }
   ],
   "source": [
    "# Убираем текст диагноза, оставляем только код МКБ (уникальный)\n",
    "df.diagnose = df.diagnose.apply(lambda x: x[:5])\n",
    "df.head(3)"
   ]
  },
  {
   "cell_type": "code",
   "execution_count": 147,
   "metadata": {},
   "outputs": [
    {
     "data": {
      "text/html": [
       "<div>\n",
       "<style scoped>\n",
       "    .dataframe tbody tr th:only-of-type {\n",
       "        vertical-align: middle;\n",
       "    }\n",
       "\n",
       "    .dataframe tbody tr th {\n",
       "        vertical-align: top;\n",
       "    }\n",
       "\n",
       "    .dataframe thead th {\n",
       "        text-align: right;\n",
       "    }\n",
       "</style>\n",
       "<table border=\"1\" class=\"dataframe\">\n",
       "  <thead>\n",
       "    <tr style=\"text-align: right;\">\n",
       "      <th></th>\n",
       "      <th>test_code</th>\n",
       "      <th>test_name</th>\n",
       "      <th>appeal_reason</th>\n",
       "      <th>diagnose</th>\n",
       "      <th>price</th>\n",
       "      <th>target</th>\n",
       "      <th>age</th>\n",
       "      <th>diagnose_group</th>\n",
       "    </tr>\n",
       "  </thead>\n",
       "  <tbody>\n",
       "    <tr>\n",
       "      <th>0</th>\n",
       "      <td>B01</td>\n",
       "      <td>Иследование общего анализа мочи на анализаторе...</td>\n",
       "      <td>Острое заболевание (состояние)/Обострение хрон...</td>\n",
       "      <td>N15.8</td>\n",
       "      <td>555.32</td>\n",
       "      <td>0</td>\n",
       "      <td>53</td>\n",
       "      <td>N15</td>\n",
       "    </tr>\n",
       "    <tr>\n",
       "      <th>1</th>\n",
       "      <td>B02</td>\n",
       "      <td>Общий анализ крови на анализаторе с дифференци...</td>\n",
       "      <td>Острое заболевание (состояние)/Обострение хрон...</td>\n",
       "      <td>N15.8</td>\n",
       "      <td>1687.40</td>\n",
       "      <td>0</td>\n",
       "      <td>53</td>\n",
       "      <td>N15</td>\n",
       "    </tr>\n",
       "    <tr>\n",
       "      <th>2</th>\n",
       "      <td>B01</td>\n",
       "      <td>Исследование кала (копрограмма) общеклиническо...</td>\n",
       "      <td>Острое заболевание (состояние)/Обострение хрон...</td>\n",
       "      <td>B18.1</td>\n",
       "      <td>707.78</td>\n",
       "      <td>0</td>\n",
       "      <td>38</td>\n",
       "      <td>B18</td>\n",
       "    </tr>\n",
       "  </tbody>\n",
       "</table>\n",
       "</div>"
      ],
      "text/plain": [
       "  test_code                                          test_name  \\\n",
       "0       B01  Иследование общего анализа мочи на анализаторе...   \n",
       "1       B02  Общий анализ крови на анализаторе с дифференци...   \n",
       "2       B01  Исследование кала (копрограмма) общеклиническо...   \n",
       "\n",
       "                                       appeal_reason diagnose    price  \\\n",
       "0  Острое заболевание (состояние)/Обострение хрон...    N15.8   555.32   \n",
       "1  Острое заболевание (состояние)/Обострение хрон...    N15.8  1687.40   \n",
       "2  Острое заболевание (состояние)/Обострение хрон...    B18.1   707.78   \n",
       "\n",
       "   target  age diagnose_group  \n",
       "0       0   53            N15  \n",
       "1       0   53            N15  \n",
       "2       0   38            B18  "
      ]
     },
     "execution_count": 147,
     "metadata": {},
     "output_type": "execute_result"
    }
   ],
   "source": [
    "# Новая фича: групповой код МКБ - выделяем из diagnose\n",
    "df['diagnose_group'] = df.diagnose.apply(lambda x: x[:3])\n",
    "df.head(3)"
   ]
  },
  {
   "cell_type": "code",
   "execution_count": 148,
   "metadata": {},
   "outputs": [
    {
     "data": {
      "image/png": "[encoded data removed]",
      "text/plain": [
       "<Figure size 600x1000 with 2 Axes>"
      ]
     },
     "metadata": {},
     "output_type": "display_data"
    }
   ],
   "source": [
    "# Работа со столбцом 'price'\n",
    "research_data_analysis_plots(df, include_col='price')"
   ]
  },
  {
   "cell_type": "code",
   "execution_count": 149,
   "metadata": {},
   "outputs": [
    {
     "data": {
      "image/png": "[encoded data removed]",
      "text/plain": [
       "<Figure size 600x1000 with 2 Axes>"
      ]
     },
     "metadata": {},
     "output_type": "display_data"
    }
   ],
   "source": [
    "# Удаляем выбросы\n",
    "df.drop(axis=0, index=df[df.price > 6000].index, inplace=True)\n",
    "research_data_analysis_plots(df, include_col='price')"
   ]
  },
  {
   "cell_type": "code",
   "execution_count": 150,
   "metadata": {},
   "outputs": [
    {
     "data": {
      "text/plain": [
       "target\n",
       "0    0.959\n",
       "1    0.041\n",
       "Name: count, dtype: float64"
      ]
     },
     "execution_count": 150,
     "metadata": {},
     "output_type": "execute_result"
    }
   ],
   "source": [
    "# Работа со столбцом 'target'.\n",
    "df.target.value_counts().apply(lambda x: round(x/df.shape[0], 3))"
   ]
  },
  {
   "cell_type": "markdown",
   "metadata": {},
   "source": [
    "target: имеем сильный дисбаланс классов. Положительный класс - 4%\n"
   ]
  },
  {
   "cell_type": "code",
   "execution_count": 151,
   "metadata": {},
   "outputs": [
    {
     "data": {
      "image/png": "[encoded data removed]",
      "text/plain": [
       "<Figure size 600x1000 with 2 Axes>"
      ]
     },
     "metadata": {},
     "output_type": "display_data"
    }
   ],
   "source": [
    "# Работа со столбцом 'age'.\n",
    "research_data_analysis_plots(df, include_col='age')"
   ]
  },
  {
   "cell_type": "code",
   "execution_count": 152,
   "metadata": {},
   "outputs": [
    {
     "data": {
      "text/plain": [
       "101443"
      ]
     },
     "execution_count": 152,
     "metadata": {},
     "output_type": "execute_result"
    }
   ],
   "source": [
    "# Оценим дубликаты\n",
    "df.duplicated().sum()"
   ]
  },
  {
   "cell_type": "code",
   "execution_count": 153,
   "metadata": {},
   "outputs": [
    {
     "data": {
      "text/plain": [
       "(95648, 8)"
      ]
     },
     "execution_count": 153,
     "metadata": {},
     "output_type": "execute_result"
    }
   ],
   "source": [
    "# После преобразований повилось 101 тыс. дубликтов. Удаляем.\n",
    "df.drop_duplicates(inplace=True)\n",
    "df.shape"
   ]
  },
  {
   "cell_type": "markdown",
   "metadata": {},
   "source": [
    "Заключение по исследовательскому анализу и предобработке.\n",
    "1. Удалены неинформативные столбцы.\n",
    "2. Удалены дубликаты. Пропусков нет.\n",
    "3. Обработаны категориальные переменные (объединение близких категорий, объединение редких категорий).\n",
    "4. Удалены выбросы\n",
    "5. Преобразованы данные по диагнозу, выделена дополнительная фича - групповой диагноз.\n",
    "\n",
    "По итогу имеем датасет с 95 тыс. наблюдений.  \n",
    "Доля положительного таргета 4,8 %, существеный дисбаланс классов.  "
   ]
  },
  {
   "cell_type": "markdown",
   "metadata": {},
   "source": [
    "### Корреляционный анализ"
   ]
  },
  {
   "cell_type": "code",
   "execution_count": 154,
   "metadata": {},
   "outputs": [
    {
     "name": "stdout",
     "output_type": "stream",
     "text": [
      "interval_cols: ['price' 'target' 'age']\n"
     ]
    },
    {
     "data": {
      "image/png": "[encoded data removed]",
      "text/plain": [
       "<Figure size 1000x1000 with 2 Axes>"
      ]
     },
     "metadata": {},
     "output_type": "display_data"
    }
   ],
   "source": [
    "# Проведем корреляционный анализ\n",
    "interv_col = df.select_dtypes(include='number').columns.values\n",
    "print('interval_cols:', interv_col)\n",
    "matr_corr_phik = df.phik_matrix(interval_cols=interv_col)\n",
    "mask = np.triu(np.ones_like(df.phik_matrix(interval_cols=interv_col)))\n",
    "sns.set(font_scale=0.8)\n",
    "fig, ax = plt.subplots(figsize=(10, 10))\n",
    "heatmap = sns.heatmap(matr_corr_phik,\n",
    "                        vmin=-1,\n",
    "                        vmax=1,\n",
    "                        annot=True,\n",
    "                        fmt='.2f',\n",
    "                        cmap=\"BrBG\",\n",
    "                        mask=mask)\n",
    "heatmap.set_title('Матрица корреляций phik.', fontdict={'fontsize':12}, pad=12);"
   ]
  },
  {
   "cell_type": "markdown",
   "metadata": {},
   "source": [
    "Видим, что target имеет очень сильную корреляюцию с test_name, умеренную корреляцию с price, test_code и diagnose.  \n",
    "Также видим очень сильную корреляцию между признаками:\n",
    "* diagnose с diagnose_group, test_name, appeal_reason\n",
    "* test_name с test_code, price и diagnose  \n",
    "\n",
    "Удалим высокоскоррелированные параметры: test_code, price, diagnose_group"
   ]
  },
  {
   "cell_type": "code",
   "execution_count": 155,
   "metadata": {},
   "outputs": [],
   "source": [
    "# удаляем столбцы\n",
    "df.drop(columns=['test_code', 'price', 'diagnose_group'], inplace=True)"
   ]
  },
  {
   "cell_type": "code",
   "execution_count": 156,
   "metadata": {},
   "outputs": [
    {
     "data": {
      "text/plain": [
       "17"
      ]
     },
     "execution_count": 156,
     "metadata": {},
     "output_type": "execute_result"
    }
   ],
   "source": [
    "# Оценим дубликаты\n",
    "df.duplicated().sum()"
   ]
  },
  {
   "cell_type": "code",
   "execution_count": 157,
   "metadata": {},
   "outputs": [
    {
     "data": {
      "text/plain": [
       "(95631, 5)"
      ]
     },
     "execution_count": 157,
     "metadata": {},
     "output_type": "execute_result"
    }
   ],
   "source": [
    "# Удалим образовавшиеся дубликаты\n",
    "df.drop_duplicates(inplace=True)\n",
    "df.shape"
   ]
  },
  {
   "cell_type": "markdown",
   "metadata": {},
   "source": [
    "### Пайплайн для предобработки данных"
   ]
  },
  {
   "cell_type": "code",
   "execution_count": 158,
   "metadata": {},
   "outputs": [],
   "source": [
    "# Обработка колонки \"test_name\"\n",
    "class TestNameProcessor(BaseEstimator, TransformerMixin):\n",
    "    def fit(self, X, y=None):\n",
    "        return self\n",
    "\n",
    "    def transform(self, X):\n",
    "        X.loc[X.test_name.isin(list_rare_test_name), 'test_name'] = 'rare'\n",
    "        return X\n",
    "\n",
    "# Обработка колонки \"diagnose\"\n",
    "class DiagnoseProcessor(BaseEstimator, TransformerMixin):\n",
    "    def fit(self, X, y=None):\n",
    "        return self\n",
    "\n",
    "    def transform(self, X):\n",
    "        X.loc[X.diagnose.isin(list_rare_diagnoses), 'diagnose'] = 'rare'\n",
    "        X.diagnose = X.diagnose.apply(lambda x: x[:5])\n",
    "        X['diagnose_group'] = X.diagnose.apply(lambda x: x[:3])\n",
    "        return X\n",
    "\n",
    "# Обработка колонки \"appeal_reason\"\n",
    "class AppealReasonProcessor(BaseEstimator, TransformerMixin):\n",
    "    def fit(self, X, y=None):\n",
    "        return self\n",
    "\n",
    "    def transform(self, X):\n",
    "        X.loc[X.appeal_reason.isin(list_dinamic_monitoring),'appeal_reason'] = 'Динамическое наблюдение'\n",
    "        X.loc[~ X.appeal_reason.isin(appeal_reason_frequent),'appeal_reason'] = 'другое'\n",
    "        return X\n",
    "\n",
    "# Обработка колонки \"price\"\n",
    "class PriceProcessor(BaseEstimator, TransformerMixin):\n",
    "    def fit(self, X, y=None):\n",
    "        return self\n",
    "\n",
    "    def transform(self, X):\n",
    "         return X.drop(axis=0, index=X[X.price > 6000].index)\n",
    "\n",
    "# Удаление колонок\n",
    "class FeatureDropper(BaseEstimator, TransformerMixin):\n",
    "    def fit(self, X, y=None):\n",
    "        return self\n",
    "\n",
    "    def transform(self, X):\n",
    "        return X.drop(['Unnamed: 0', 'test_code', 'price', 'diagnose_group'], axis=1, errors='ignore')\n",
    "\n",
    "# Общие преобразования\n",
    "class GeneralProcessor(BaseEstimator, TransformerMixin):\n",
    "    def fit(self, X, y=None):\n",
    "        return self\n",
    "\n",
    "    def transform(self, X):\n",
    "        return X.drop_duplicates()"
   ]
  },
  {
   "cell_type": "code",
   "execution_count": 159,
   "metadata": {},
   "outputs": [],
   "source": [
    "pipeline_feature_prep = Pipeline([\n",
    "    ('test_name_processor', TestNameProcessor()),\n",
    "    ('diagnos_processor', DiagnoseProcessor()),\n",
    "    ('appeal_reason_processor', AppealReasonProcessor()),\n",
    "    ('price_processor', PriceProcessor()),\n",
    "    ('feature_droper', FeatureDropper()),\n",
    "    ('general_processor', GeneralProcessor())\n",
    "])"
   ]
  },
  {
   "cell_type": "code",
   "execution_count": 160,
   "metadata": {},
   "outputs": [
    {
     "name": "stdout",
     "output_type": "stream",
     "text": [
      "df_final: (95631, 5) \n",
      "df: (95631, 5)\n"
     ]
    },
    {
     "data": {
      "text/html": [
       "<div>\n",
       "<style scoped>\n",
       "    .dataframe tbody tr th:only-of-type {\n",
       "        vertical-align: middle;\n",
       "    }\n",
       "\n",
       "    .dataframe tbody tr th {\n",
       "        vertical-align: top;\n",
       "    }\n",
       "\n",
       "    .dataframe thead th {\n",
       "        text-align: right;\n",
       "    }\n",
       "</style>\n",
       "<table border=\"1\" class=\"dataframe\">\n",
       "  <thead>\n",
       "    <tr style=\"text-align: right;\">\n",
       "      <th></th>\n",
       "      <th>test_name</th>\n",
       "      <th>appeal_reason</th>\n",
       "      <th>diagnose</th>\n",
       "      <th>target</th>\n",
       "      <th>age</th>\n",
       "    </tr>\n",
       "  </thead>\n",
       "  <tbody>\n",
       "    <tr>\n",
       "      <th>0</th>\n",
       "      <td>Иследование общего анализа мочи на анализаторе...</td>\n",
       "      <td>Острое заболевание (состояние)/Обострение хрон...</td>\n",
       "      <td>N15.8</td>\n",
       "      <td>0</td>\n",
       "      <td>53</td>\n",
       "    </tr>\n",
       "    <tr>\n",
       "      <th>1</th>\n",
       "      <td>Общий анализ крови на анализаторе с дифференци...</td>\n",
       "      <td>Острое заболевание (состояние)/Обострение хрон...</td>\n",
       "      <td>N15.8</td>\n",
       "      <td>0</td>\n",
       "      <td>53</td>\n",
       "    </tr>\n",
       "    <tr>\n",
       "      <th>2</th>\n",
       "      <td>Исследование кала (копрограмма) общеклиническо...</td>\n",
       "      <td>Острое заболевание (состояние)/Обострение хрон...</td>\n",
       "      <td>B18.1</td>\n",
       "      <td>0</td>\n",
       "      <td>38</td>\n",
       "    </tr>\n",
       "  </tbody>\n",
       "</table>\n",
       "</div>"
      ],
      "text/plain": [
       "                                           test_name  \\\n",
       "0  Иследование общего анализа мочи на анализаторе...   \n",
       "1  Общий анализ крови на анализаторе с дифференци...   \n",
       "2  Исследование кала (копрограмма) общеклиническо...   \n",
       "\n",
       "                                       appeal_reason diagnose  target  age  \n",
       "0  Острое заболевание (состояние)/Обострение хрон...    N15.8       0   53  \n",
       "1  Острое заболевание (состояние)/Обострение хрон...    N15.8       0   53  \n",
       "2  Острое заболевание (состояние)/Обострение хрон...    B18.1       0   38  "
      ]
     },
     "metadata": {},
     "output_type": "display_data"
    },
    {
     "data": {
      "text/html": [
       "<div>\n",
       "<style scoped>\n",
       "    .dataframe tbody tr th:only-of-type {\n",
       "        vertical-align: middle;\n",
       "    }\n",
       "\n",
       "    .dataframe tbody tr th {\n",
       "        vertical-align: top;\n",
       "    }\n",
       "\n",
       "    .dataframe thead th {\n",
       "        text-align: right;\n",
       "    }\n",
       "</style>\n",
       "<table border=\"1\" class=\"dataframe\">\n",
       "  <thead>\n",
       "    <tr style=\"text-align: right;\">\n",
       "      <th></th>\n",
       "      <th>test_name</th>\n",
       "      <th>appeal_reason</th>\n",
       "      <th>diagnose</th>\n",
       "      <th>target</th>\n",
       "      <th>age</th>\n",
       "    </tr>\n",
       "  </thead>\n",
       "  <tbody>\n",
       "    <tr>\n",
       "      <th>0</th>\n",
       "      <td>Иследование общего анализа мочи на анализаторе...</td>\n",
       "      <td>Острое заболевание (состояние)/Обострение хрон...</td>\n",
       "      <td>N15.8</td>\n",
       "      <td>0</td>\n",
       "      <td>53</td>\n",
       "    </tr>\n",
       "    <tr>\n",
       "      <th>1</th>\n",
       "      <td>Общий анализ крови на анализаторе с дифференци...</td>\n",
       "      <td>Острое заболевание (состояние)/Обострение хрон...</td>\n",
       "      <td>N15.8</td>\n",
       "      <td>0</td>\n",
       "      <td>53</td>\n",
       "    </tr>\n",
       "    <tr>\n",
       "      <th>2</th>\n",
       "      <td>Исследование кала (копрограмма) общеклиническо...</td>\n",
       "      <td>Острое заболевание (состояние)/Обострение хрон...</td>\n",
       "      <td>B18.1</td>\n",
       "      <td>0</td>\n",
       "      <td>38</td>\n",
       "    </tr>\n",
       "  </tbody>\n",
       "</table>\n",
       "</div>"
      ],
      "text/plain": [
       "                                           test_name  \\\n",
       "0  Иследование общего анализа мочи на анализаторе...   \n",
       "1  Общий анализ крови на анализаторе с дифференци...   \n",
       "2  Исследование кала (копрограмма) общеклиническо...   \n",
       "\n",
       "                                       appeal_reason diagnose  target  age  \n",
       "0  Острое заболевание (состояние)/Обострение хрон...    N15.8       0   53  \n",
       "1  Острое заболевание (состояние)/Обострение хрон...    N15.8       0   53  \n",
       "2  Острое заболевание (состояние)/Обострение хрон...    B18.1       0   38  "
      ]
     },
     "execution_count": 160,
     "metadata": {},
     "output_type": "execute_result"
    }
   ],
   "source": [
    "# Проконтролируем корректность работы пайплайна предобработки\n",
    "df_final = pipeline_feature_prep.fit_transform(df_init)\n",
    "print('df_final:', df_final.shape, '\\ndf:', df.shape)\n",
    "display(df.head(3))\n",
    "df_final.head(3)"
   ]
  },
  {
   "cell_type": "markdown",
   "metadata": {},
   "source": [
    "## Подготовка данных"
   ]
  },
  {
   "cell_type": "code",
   "execution_count": 161,
   "metadata": {},
   "outputs": [
    {
     "name": "stdout",
     "output_type": "stream",
     "text": [
      "X_train:  (76504, 4) \n",
      "y_train: (76504,) \n",
      "X_val: (19127, 4) \n",
      "y_val: (19127,)\n"
     ]
    }
   ],
   "source": [
    "# Определим константы\n",
    "RANDOM_STATE = 42\n",
    "\n",
    "# Определим X и y\n",
    "X = df_final.drop('target', axis=1)\n",
    "y = df_final.target\n",
    "\n",
    "# Выделим валидационную выборку для сравнения моделей\n",
    "X_train, X_val, y_train, y_val = train_test_split(X, y, test_size=0.2, random_state=RANDOM_STATE, stratify=y)\n",
    "\n",
    "print('X_train: ', X_train.shape, '\\ny_train:', y_train.shape,\n",
    "      '\\nX_val:', X_val.shape, '\\ny_val:', y_val.shape)"
   ]
  },
  {
   "cell_type": "code",
   "execution_count": 162,
   "metadata": {},
   "outputs": [
    {
     "name": "stdout",
     "output_type": "stream",
     "text": [
      "Числовые: ['age'] \n",
      "Номинальные: ['test_name', 'appeal_reason', 'diagnose']\n"
     ]
    }
   ],
   "source": [
    "# Создаем списки переменных\n",
    "# числовые\n",
    "num_col = X_train.select_dtypes(include='number').columns.tolist()\n",
    "# категориальные\n",
    "cat_col = X_train.select_dtypes(exclude='number').columns.tolist()\n",
    "\n",
    "print(f'Числовые: {num_col} \\nНоминальные: {cat_col}' )"
   ]
  },
  {
   "cell_type": "code",
   "execution_count": 163,
   "metadata": {},
   "outputs": [
    {
     "data": {
      "text/html": [
       "<div>\n",
       "<style scoped>\n",
       "    .dataframe tbody tr th:only-of-type {\n",
       "        vertical-align: middle;\n",
       "    }\n",
       "\n",
       "    .dataframe tbody tr th {\n",
       "        vertical-align: top;\n",
       "    }\n",
       "\n",
       "    .dataframe thead th {\n",
       "        text-align: right;\n",
       "    }\n",
       "</style>\n",
       "<table border=\"1\" class=\"dataframe\">\n",
       "  <thead>\n",
       "    <tr style=\"text-align: right;\">\n",
       "      <th></th>\n",
       "      <th>CatBoost</th>\n",
       "      <th>Network</th>\n",
       "    </tr>\n",
       "  </thead>\n",
       "  <tbody>\n",
       "    <tr>\n",
       "      <th>f1</th>\n",
       "      <td>NaN</td>\n",
       "      <td>NaN</td>\n",
       "    </tr>\n",
       "    <tr>\n",
       "      <th>precision</th>\n",
       "      <td>NaN</td>\n",
       "      <td>NaN</td>\n",
       "    </tr>\n",
       "    <tr>\n",
       "      <th>recall</th>\n",
       "      <td>NaN</td>\n",
       "      <td>NaN</td>\n",
       "    </tr>\n",
       "  </tbody>\n",
       "</table>\n",
       "</div>"
      ],
      "text/plain": [
       "          CatBoost Network\n",
       "f1             NaN     NaN\n",
       "precision      NaN     NaN\n",
       "recall         NaN     NaN"
      ]
     },
     "execution_count": 163,
     "metadata": {},
     "output_type": "execute_result"
    }
   ],
   "source": [
    "# Таблица для метрик\n",
    "df_metrics = pd.DataFrame(columns=['CatBoost', 'Network'],\n",
    "                          index=['f1', 'precision', 'recall'])\n",
    "df_metrics"
   ]
  },
  {
   "cell_type": "markdown",
   "metadata": {},
   "source": [
    "## Обучение моделей"
   ]
  },
  {
   "cell_type": "markdown",
   "metadata": {},
   "source": [
    "В данных преобладают категориальные переменные с большим количеством уникальных значений.  \n",
    "Для обучения возьмем CatBoost и нейросетевой вариант"
   ]
  },
  {
   "cell_type": "markdown",
   "metadata": {},
   "source": [
    "### CatBoost"
   ]
  },
  {
   "cell_type": "code",
   "execution_count": 164,
   "metadata": {},
   "outputs": [],
   "source": [
    "# Переводим данные в формат CatBoost\n",
    "train_pool = Pool(X_train, y_train, cat_features=cat_col)"
   ]
  },
  {
   "cell_type": "code",
   "execution_count": 165,
   "metadata": {},
   "outputs": [
    {
     "data": {
      "application/vnd.jupyter.widget-view+json": {
       "model_id": "087cf96aa0d14e4487df51acfecf2728",
       "version_major": 2,
       "version_minor": 0
      },
      "text/plain": [
       "MetricVisualizer(layout=Layout(align_self='stretch', height='500px'))"
      ]
     },
     "metadata": {},
     "output_type": "display_data"
    },
    {
     "name": "stdout",
     "output_type": "stream",
     "text": [
      "0:\tloss: 0.9687664\tbest: 0.9687664 (0)\ttotal: 7.34s\tremaining: 1m 6s\n",
      "9:\tloss: 0.9908938\tbest: 0.9933525 (4)\ttotal: 2m 44s\tremaining: 0us\n",
      "Estimating final quality...\n"
     ]
    }
   ],
   "source": [
    "# Обучаем модель, используем кросс-валидацию и перебор гиперпараметров\n",
    "model_cb = CatBoostClassifier(loss_function='Logloss',\n",
    "                              auto_class_weights='Balanced',\n",
    "                              eval_metric='F1',\n",
    "                              logging_level='Silent')\n",
    "grid_cb = {\n",
    "    'iterations': [150, 200, 250],\n",
    "    'learning_rate': [0.05, 0.1],\n",
    "    'depth':[6, 8, 10],\n",
    "    'l2_leaf_reg':[0.2, 0.5, 1, 3]\n",
    "}\n",
    "\n",
    "_ = model_cb.randomized_search(grid_cb,\n",
    "                               train_pool,\n",
    "                               cv=5,\n",
    "                               plot=True,\n",
    "                               verbose=50)"
   ]
  },
  {
   "cell_type": "code",
   "execution_count": 166,
   "metadata": {},
   "outputs": [
    {
     "data": {
      "text/plain": [
       "{'loss_function': 'Logloss',\n",
       " 'logging_level': 'Silent',\n",
       " 'auto_class_weights': 'Balanced',\n",
       " 'eval_metric': 'F1',\n",
       " 'depth': 8,\n",
       " 'learning_rate': 0.1,\n",
       " 'l2_leaf_reg': 1,\n",
       " 'iterations': 250}"
      ]
     },
     "execution_count": 166,
     "metadata": {},
     "output_type": "execute_result"
    }
   ],
   "source": [
    "# Модель с лучшими гиперпараметрами\n",
    "model_cb.get_params()"
   ]
  },
  {
   "cell_type": "code",
   "execution_count": 167,
   "metadata": {},
   "outputs": [
    {
     "data": {
      "image/png": "[encoded data removed]",
      "text/plain": [
       "<Figure size 640x480 with 1 Axes>"
      ]
     },
     "metadata": {},
     "output_type": "display_data"
    }
   ],
   "source": [
    "# Оцениваем значимость параметров\n",
    "%matplotlib inline\n",
    "pd.Series(index=model_cb.feature_names_, data=model_cb.feature_importances_)  \\\n",
    "        .sort_values()  \\\n",
    "        .plot(kind='barh')\n",
    "_ = plt.title('Значимость признаков')\n",
    "plt.show()"
   ]
  },
  {
   "cell_type": "markdown",
   "metadata": {},
   "source": [
    "Весьма ожидаемо, что модель учитывает, прежде всего, название теста и диагноз. Свой вклад также вносят возраст и повод обращения."
   ]
  },
  {
   "cell_type": "code",
   "execution_count": 168,
   "metadata": {},
   "outputs": [
    {
     "data": {
      "text/html": [
       "<div>\n",
       "<style scoped>\n",
       "    .dataframe tbody tr th:only-of-type {\n",
       "        vertical-align: middle;\n",
       "    }\n",
       "\n",
       "    .dataframe tbody tr th {\n",
       "        vertical-align: top;\n",
       "    }\n",
       "\n",
       "    .dataframe thead th {\n",
       "        text-align: right;\n",
       "    }\n",
       "</style>\n",
       "<table border=\"1\" class=\"dataframe\">\n",
       "  <thead>\n",
       "    <tr style=\"text-align: right;\">\n",
       "      <th></th>\n",
       "      <th>CatBoost</th>\n",
       "      <th>Network</th>\n",
       "    </tr>\n",
       "  </thead>\n",
       "  <tbody>\n",
       "    <tr>\n",
       "      <th>f1</th>\n",
       "      <td>0.912</td>\n",
       "      <td>NaN</td>\n",
       "    </tr>\n",
       "    <tr>\n",
       "      <th>precision</th>\n",
       "      <td>0.853</td>\n",
       "      <td>NaN</td>\n",
       "    </tr>\n",
       "    <tr>\n",
       "      <th>recall</th>\n",
       "      <td>0.98</td>\n",
       "      <td>NaN</td>\n",
       "    </tr>\n",
       "  </tbody>\n",
       "</table>\n",
       "</div>"
      ],
      "text/plain": [
       "          CatBoost Network\n",
       "f1           0.912     NaN\n",
       "precision    0.853     NaN\n",
       "recall        0.98     NaN"
      ]
     },
     "execution_count": 168,
     "metadata": {},
     "output_type": "execute_result"
    }
   ],
   "source": [
    "# Фиксируем метрики\n",
    "df_metrics.loc['f1', 'CatBoost'] = round(f1_score(y_val, model_cb.predict(X_val)), 3)\n",
    "df_metrics.loc['precision', 'CatBoost'] = round(precision_score(y_val, model_cb.predict(X_val)), 3)\n",
    "df_metrics.loc['recall', 'CatBoost'] = round(recall_score(y_val, model_cb.predict(X_val)), 3)\n",
    "df_metrics"
   ]
  },
  {
   "cell_type": "markdown",
   "metadata": {},
   "source": [
    "### Нейросетевой подход"
   ]
  },
  {
   "cell_type": "code",
   "execution_count": 169,
   "metadata": {},
   "outputs": [
    {
     "data": {
      "text/plain": [
       "(76504, 1848)"
      ]
     },
     "execution_count": 169,
     "metadata": {},
     "output_type": "execute_result"
    }
   ],
   "source": [
    "# Кодироваание категориальных данных\n",
    "encoder = OneHotEncoder(drop='first', handle_unknown='infrequent_if_exist', sparse_output=False)\n",
    "X_train_ohe = pd.DataFrame(encoder.fit_transform(X_train[cat_col]))\n",
    "X_val_ohe = pd.DataFrame(encoder.transform(X_val[cat_col]))\n",
    "X_train_ohe.shape"
   ]
  },
  {
   "cell_type": "code",
   "execution_count": 170,
   "metadata": {},
   "outputs": [
    {
     "data": {
      "text/plain": [
       "(76504, 1)"
      ]
     },
     "execution_count": 170,
     "metadata": {},
     "output_type": "execute_result"
    }
   ],
   "source": [
    "# Нормализация числовых данных\n",
    "scaler = MinMaxScaler()\n",
    "X_train_scaled = pd.DataFrame(scaler.fit_transform(X_train[num_col]))\n",
    "X_val_scaled = pd.DataFrame(scaler.transform(X_val[num_col]))\n",
    "X_train_scaled.shape"
   ]
  },
  {
   "cell_type": "code",
   "execution_count": 171,
   "metadata": {},
   "outputs": [
    {
     "data": {
      "text/plain": [
       "(76504, 1849)"
      ]
     },
     "execution_count": 171,
     "metadata": {},
     "output_type": "execute_result"
    }
   ],
   "source": [
    "# Объединение числовых и категориальных данных (тренировочная выборка)\n",
    "X_train_final = pd.concat([X_train_scaled, X_train_ohe], axis=1)\n",
    "X_train_final.shape"
   ]
  },
  {
   "cell_type": "code",
   "execution_count": 172,
   "metadata": {},
   "outputs": [
    {
     "data": {
      "text/plain": [
       "(19127, 1849)"
      ]
     },
     "execution_count": 172,
     "metadata": {},
     "output_type": "execute_result"
    }
   ],
   "source": [
    "# Объединение числовых и категориальных данных (валидационная выборка)\n",
    "X_val_final = pd.concat([X_val_scaled, X_val_ohe], axis=1)\n",
    "X_val_final.shape"
   ]
  },
  {
   "cell_type": "code",
   "execution_count": 173,
   "metadata": {},
   "outputs": [
    {
     "name": "stdout",
     "output_type": "stream",
     "text": [
      "Epoch 1/20\n",
      "\u001b[1m2391/2391\u001b[0m \u001b[32m━━━━━━━━━━━━━━━━━━━━\u001b[0m\u001b[37m\u001b[0m \u001b[1m19s\u001b[0m 8ms/step - acc: 0.9723 - loss: 0.0671 - val_acc: 0.9917 - val_loss: 0.0216\n",
      "Epoch 2/20\n",
      "\u001b[1m2391/2391\u001b[0m \u001b[32m━━━━━━━━━━━━━━━━━━━━\u001b[0m\u001b[37m\u001b[0m \u001b[1m16s\u001b[0m 7ms/step - acc: 0.9957 - loss: 0.0113 - val_acc: 0.9924 - val_loss: 0.0189\n",
      "Epoch 3/20\n",
      "\u001b[1m2391/2391\u001b[0m \u001b[32m━━━━━━━━━━━━━━━━━━━━\u001b[0m\u001b[37m\u001b[0m \u001b[1m16s\u001b[0m 7ms/step - acc: 0.9981 - loss: 0.0050 - val_acc: 0.9939 - val_loss: 0.0189\n",
      "Epoch 4/20\n",
      "\u001b[1m2391/2391\u001b[0m \u001b[32m━━━━━━━━━━━━━━━━━━━━\u001b[0m\u001b[37m\u001b[0m \u001b[1m17s\u001b[0m 7ms/step - acc: 0.9992 - loss: 0.0025 - val_acc: 0.9936 - val_loss: 0.0272\n",
      "Epoch 5/20\n",
      "\u001b[1m2391/2391\u001b[0m \u001b[32m━━━━━━━━━━━━━━━━━━━━\u001b[0m\u001b[37m\u001b[0m \u001b[1m17s\u001b[0m 7ms/step - acc: 0.9993 - loss: 0.0015 - val_acc: 0.9931 - val_loss: 0.0380\n",
      "Epoch 6/20\n",
      "\u001b[1m2391/2391\u001b[0m \u001b[32m━━━━━━━━━━━━━━━━━━━━\u001b[0m\u001b[37m\u001b[0m \u001b[1m17s\u001b[0m 7ms/step - acc: 0.9994 - loss: 0.0019 - val_acc: 0.9938 - val_loss: 0.0250\n",
      "Epoch 7/20\n",
      "\u001b[1m2391/2391\u001b[0m \u001b[32m━━━━━━━━━━━━━━━━━━━━\u001b[0m\u001b[37m\u001b[0m \u001b[1m17s\u001b[0m 7ms/step - acc: 0.9993 - loss: 0.0018 - val_acc: 0.9941 - val_loss: 0.0311\n",
      "Epoch 8/20\n",
      "\u001b[1m2391/2391\u001b[0m \u001b[32m━━━━━━━━━━━━━━━━━━━━\u001b[0m\u001b[37m\u001b[0m \u001b[1m16s\u001b[0m 7ms/step - acc: 0.9997 - loss: 9.3552e-04 - val_acc: 0.9941 - val_loss: 0.0306\n",
      "Epoch 9/20\n",
      "\u001b[1m2391/2391\u001b[0m \u001b[32m━━━━━━━━━━━━━━━━━━━━\u001b[0m\u001b[37m\u001b[0m \u001b[1m17s\u001b[0m 7ms/step - acc: 0.9997 - loss: 7.1630e-04 - val_acc: 0.9930 - val_loss: 0.0635\n",
      "Epoch 10/20\n",
      "\u001b[1m2391/2391\u001b[0m \u001b[32m━━━━━━━━━━━━━━━━━━━━\u001b[0m\u001b[37m\u001b[0m \u001b[1m17s\u001b[0m 7ms/step - acc: 0.9997 - loss: 0.0015 - val_acc: 0.9946 - val_loss: 0.0246\n",
      "Epoch 11/20\n",
      "\u001b[1m2391/2391\u001b[0m \u001b[32m━━━━━━━━━━━━━━━━━━━━\u001b[0m\u001b[37m\u001b[0m \u001b[1m17s\u001b[0m 7ms/step - acc: 0.9995 - loss: 0.0011 - val_acc: 0.9947 - val_loss: 0.0306\n",
      "Epoch 12/20\n",
      "\u001b[1m2391/2391\u001b[0m \u001b[32m━━━━━━━━━━━━━━━━━━━━\u001b[0m\u001b[37m\u001b[0m \u001b[1m16s\u001b[0m 7ms/step - acc: 0.9996 - loss: 8.9241e-04 - val_acc: 0.9944 - val_loss: 0.0467\n",
      "Epoch 13/20\n",
      "\u001b[1m2391/2391\u001b[0m \u001b[32m━━━━━━━━━━━━━━━━━━━━\u001b[0m\u001b[37m\u001b[0m \u001b[1m16s\u001b[0m 7ms/step - acc: 0.9996 - loss: 8.3053e-04 - val_acc: 0.9947 - val_loss: 0.0511\n"
     ]
    }
   ],
   "source": [
    "# Обучение модели\n",
    "optimizer = Adam(learning_rate=0.003)\n",
    "model_nw = keras.Sequential([\n",
    "    keras.layers.Dense(500, input_shape=(X_train_final.shape[1],), activation='relu'),\n",
    "    keras.layers.Dense(120, activation='relu'),\n",
    "    keras.layers.Dense(1, activation='sigmoid')\n",
    "    ])\n",
    "model_nw.compile(optimizer=optimizer,\n",
    "                 loss='binary_crossentropy',\n",
    "                 metrics=['acc'])\n",
    "\n",
    "# Параметры ранней остановки\n",
    "early_stopping = keras.callbacks.EarlyStopping(\n",
    "    monitor='val_loss',\n",
    "    patience=10,\n",
    "    mode='min',\n",
    "    restore_best_weights=True\n",
    ")\n",
    "history = model_nw.fit(X_train_final, y_train, epochs=20, validation_data=(X_val_final, y_val), callbacks=[early_stopping])"
   ]
  },
  {
   "cell_type": "code",
   "execution_count": 174,
   "metadata": {},
   "outputs": [
    {
     "name": "stdout",
     "output_type": "stream",
     "text": [
      "\u001b[1m2391/2391\u001b[0m \u001b[32m━━━━━━━━━━━━━━━━━━━━\u001b[0m\u001b[37m\u001b[0m \u001b[1m2s\u001b[0m 734us/step\n",
      "\u001b[1m598/598\u001b[0m \u001b[32m━━━━━━━━━━━━━━━━━━━━\u001b[0m\u001b[37m\u001b[0m \u001b[1m0s\u001b[0m 719us/step\n",
      "f1 на трейне: 0.991\n",
      "f1 на валидации: 0.937\n"
     ]
    }
   ],
   "source": [
    "# Бинаризируем выводы модели\n",
    "prediction_train = [1 if prob > 0.5 else 0 for prob in model_nw.predict(X_train_final)]\n",
    "prediction_val = [1 if prob > 0.5 else 0 for prob in model_nw.predict(X_val_final)]\n",
    "\n",
    "print('f1 на трейне:', round(f1_score(y_train, prediction_train), 3))\n",
    "print('f1 на валидации:', round(f1_score(y_val, prediction_val), 3))"
   ]
  },
  {
   "cell_type": "code",
   "execution_count": 175,
   "metadata": {},
   "outputs": [
    {
     "data": {
      "text/html": [
       "<div>\n",
       "<style scoped>\n",
       "    .dataframe tbody tr th:only-of-type {\n",
       "        vertical-align: middle;\n",
       "    }\n",
       "\n",
       "    .dataframe tbody tr th {\n",
       "        vertical-align: top;\n",
       "    }\n",
       "\n",
       "    .dataframe thead th {\n",
       "        text-align: right;\n",
       "    }\n",
       "</style>\n",
       "<table border=\"1\" class=\"dataframe\">\n",
       "  <thead>\n",
       "    <tr style=\"text-align: right;\">\n",
       "      <th></th>\n",
       "      <th>CatBoost</th>\n",
       "      <th>Network</th>\n",
       "    </tr>\n",
       "  </thead>\n",
       "  <tbody>\n",
       "    <tr>\n",
       "      <th>f1</th>\n",
       "      <td>0.912</td>\n",
       "      <td>0.937</td>\n",
       "    </tr>\n",
       "    <tr>\n",
       "      <th>precision</th>\n",
       "      <td>0.853</td>\n",
       "      <td>0.936</td>\n",
       "    </tr>\n",
       "    <tr>\n",
       "      <th>recall</th>\n",
       "      <td>0.98</td>\n",
       "      <td>0.938</td>\n",
       "    </tr>\n",
       "  </tbody>\n",
       "</table>\n",
       "</div>"
      ],
      "text/plain": [
       "          CatBoost Network\n",
       "f1           0.912   0.937\n",
       "precision    0.853   0.936\n",
       "recall        0.98   0.938"
      ]
     },
     "execution_count": 175,
     "metadata": {},
     "output_type": "execute_result"
    }
   ],
   "source": [
    "# Фиксируем метрики\n",
    "df_metrics.loc['f1', 'Network'] = round(f1_score(y_val, prediction_val), 3)\n",
    "df_metrics.loc['precision', 'Network'] = round(precision_score(y_val, prediction_val), 3)\n",
    "df_metrics.loc['recall', 'Network'] = round(recall_score(y_val, prediction_val), 3)\n",
    "df_metrics"
   ]
  },
  {
   "cell_type": "markdown",
   "metadata": {},
   "source": [
    "### Выводы по обучению моделей и выбор лучшей модели.\n",
    "Обе модели показали очень хорошие значения метрик, удовлетворяющие техзаданию. f1-мера на валидационной выборке для CatBoost 0.91, для нейросети - 0.93.  \n",
    "На основании лучшей метрики выбираем нейросетевой подход."
   ]
  },
  {
   "cell_type": "markdown",
   "metadata": {},
   "source": [
    "# Проверка лучшей модели на тестовой выборке"
   ]
  },
  {
   "cell_type": "code",
   "execution_count": 176,
   "metadata": {},
   "outputs": [
    {
     "name": "stdout",
     "output_type": "stream",
     "text": [
      "(22294, 8)\n"
     ]
    },
    {
     "data": {
      "text/html": [
       "<div>\n",
       "<style scoped>\n",
       "    .dataframe tbody tr th:only-of-type {\n",
       "        vertical-align: middle;\n",
       "    }\n",
       "\n",
       "    .dataframe tbody tr th {\n",
       "        vertical-align: top;\n",
       "    }\n",
       "\n",
       "    .dataframe thead th {\n",
       "        text-align: right;\n",
       "    }\n",
       "</style>\n",
       "<table border=\"1\" class=\"dataframe\">\n",
       "  <thead>\n",
       "    <tr style=\"text-align: right;\">\n",
       "      <th></th>\n",
       "      <th>Unnamed: 0</th>\n",
       "      <th>test_code</th>\n",
       "      <th>test_name</th>\n",
       "      <th>appeal_reason</th>\n",
       "      <th>diagnose</th>\n",
       "      <th>price</th>\n",
       "      <th>target</th>\n",
       "      <th>age</th>\n",
       "    </tr>\n",
       "  </thead>\n",
       "  <tbody>\n",
       "    <tr>\n",
       "      <th>0</th>\n",
       "      <td>153437</td>\n",
       "      <td>B06</td>\n",
       "      <td>Определение резус-фактора крови</td>\n",
       "      <td>Прием при антенатальном наблюдении</td>\n",
       "      <td>O26.8  Другие уточненные состояния, связанные ...</td>\n",
       "      <td>1548.68</td>\n",
       "      <td>0</td>\n",
       "      <td>36</td>\n",
       "    </tr>\n",
       "    <tr>\n",
       "      <th>1</th>\n",
       "      <td>125988</td>\n",
       "      <td>B03</td>\n",
       "      <td>Определение гаммаглютамилтранспептидазы (ГГТП)...</td>\n",
       "      <td>Острое заболевание (состояние)/Обострение хрон...</td>\n",
       "      <td>K59.9  Функциональное нарушение кишечника неут...</td>\n",
       "      <td>106.53</td>\n",
       "      <td>0</td>\n",
       "      <td>3</td>\n",
       "    </tr>\n",
       "    <tr>\n",
       "      <th>2</th>\n",
       "      <td>190423</td>\n",
       "      <td>B03</td>\n",
       "      <td>Определение общего белка в сыворотке крови на ...</td>\n",
       "      <td>Прием при антенатальном наблюдении</td>\n",
       "      <td>O26.8  Другие уточненные состояния, связанные ...</td>\n",
       "      <td>90.83</td>\n",
       "      <td>0</td>\n",
       "      <td>30</td>\n",
       "    </tr>\n",
       "  </tbody>\n",
       "</table>\n",
       "</div>"
      ],
      "text/plain": [
       "   Unnamed: 0 test_code                                          test_name  \\\n",
       "0      153437       B06                    Определение резус-фактора крови   \n",
       "1      125988       B03  Определение гаммаглютамилтранспептидазы (ГГТП)...   \n",
       "2      190423       B03  Определение общего белка в сыворотке крови на ...   \n",
       "\n",
       "                                       appeal_reason  \\\n",
       "0                 Прием при антенатальном наблюдении   \n",
       "1  Острое заболевание (состояние)/Обострение хрон...   \n",
       "2                 Прием при антенатальном наблюдении   \n",
       "\n",
       "                                            diagnose    price  target  age  \n",
       "0  O26.8  Другие уточненные состояния, связанные ...  1548.68       0   36  \n",
       "1  K59.9  Функциональное нарушение кишечника неут...   106.53       0    3  \n",
       "2  O26.8  Другие уточненные состояния, связанные ...    90.83       0   30  "
      ]
     },
     "execution_count": 176,
     "metadata": {},
     "output_type": "execute_result"
    }
   ],
   "source": [
    "# Загрузка тестового датасета\n",
    "df_test = pd.read_csv('data/data_test.csv')\n",
    "print(df_test.shape)\n",
    "df_test.head(3)"
   ]
  },
  {
   "cell_type": "code",
   "execution_count": 177,
   "metadata": {},
   "outputs": [
    {
     "name": "stdout",
     "output_type": "stream",
     "text": [
      "(16289, 5)\n"
     ]
    },
    {
     "data": {
      "text/html": [
       "<div>\n",
       "<style scoped>\n",
       "    .dataframe tbody tr th:only-of-type {\n",
       "        vertical-align: middle;\n",
       "    }\n",
       "\n",
       "    .dataframe tbody tr th {\n",
       "        vertical-align: top;\n",
       "    }\n",
       "\n",
       "    .dataframe thead th {\n",
       "        text-align: right;\n",
       "    }\n",
       "</style>\n",
       "<table border=\"1\" class=\"dataframe\">\n",
       "  <thead>\n",
       "    <tr style=\"text-align: right;\">\n",
       "      <th></th>\n",
       "      <th>test_name</th>\n",
       "      <th>appeal_reason</th>\n",
       "      <th>diagnose</th>\n",
       "      <th>target</th>\n",
       "      <th>age</th>\n",
       "    </tr>\n",
       "  </thead>\n",
       "  <tbody>\n",
       "    <tr>\n",
       "      <th>0</th>\n",
       "      <td>Определение резус-фактора крови</td>\n",
       "      <td>Прием при антенатальном наблюдении</td>\n",
       "      <td>O26.8</td>\n",
       "      <td>0</td>\n",
       "      <td>36</td>\n",
       "    </tr>\n",
       "    <tr>\n",
       "      <th>1</th>\n",
       "      <td>Определение гаммаглютамилтранспептидазы (ГГТП)...</td>\n",
       "      <td>Острое заболевание (состояние)/Обострение хрон...</td>\n",
       "      <td>K59.9</td>\n",
       "      <td>0</td>\n",
       "      <td>3</td>\n",
       "    </tr>\n",
       "    <tr>\n",
       "      <th>2</th>\n",
       "      <td>Определение общего белка в сыворотке крови на ...</td>\n",
       "      <td>Прием при антенатальном наблюдении</td>\n",
       "      <td>O26.8</td>\n",
       "      <td>0</td>\n",
       "      <td>30</td>\n",
       "    </tr>\n",
       "  </tbody>\n",
       "</table>\n",
       "</div>"
      ],
      "text/plain": [
       "                                           test_name  \\\n",
       "0                    Определение резус-фактора крови   \n",
       "1  Определение гаммаглютамилтранспептидазы (ГГТП)...   \n",
       "2  Определение общего белка в сыворотке крови на ...   \n",
       "\n",
       "                                       appeal_reason diagnose  target  age  \n",
       "0                 Прием при антенатальном наблюдении    O26.8       0   36  \n",
       "1  Острое заболевание (состояние)/Обострение хрон...    K59.9       0    3  \n",
       "2                 Прием при антенатальном наблюдении    O26.8       0   30  "
      ]
     },
     "execution_count": 177,
     "metadata": {},
     "output_type": "execute_result"
    }
   ],
   "source": [
    "# Прогоняем тестовый датафрейм через пайплайн предобработки\n",
    "df_test_final = pipeline_feature_prep.fit_transform(df_test)\n",
    "print(df_test_final.shape)\n",
    "df_test_final.head(3)"
   ]
  },
  {
   "cell_type": "code",
   "execution_count": 178,
   "metadata": {},
   "outputs": [
    {
     "name": "stdout",
     "output_type": "stream",
     "text": [
      "(16289, 4) (16289,)\n"
     ]
    }
   ],
   "source": [
    "# Определим X и y\n",
    "X_test = df_test_final.drop('target', axis=1)\n",
    "y_test = df_test_final.target\n",
    "\n",
    "print(X_test.shape, y_test.shape)"
   ]
  },
  {
   "cell_type": "code",
   "execution_count": 179,
   "metadata": {},
   "outputs": [
    {
     "data": {
      "text/plain": [
       "(16289, 1849)"
      ]
     },
     "execution_count": 179,
     "metadata": {},
     "output_type": "execute_result"
    }
   ],
   "source": [
    "# Кодироваание, нормализация, объединение\n",
    "X_test_ohe = pd.DataFrame(encoder.transform(X_test[cat_col]))\n",
    "X_test_scaled = pd.DataFrame(scaler.transform(X_test[num_col]))\n",
    "X_test_final = pd.concat([X_test_scaled, X_test_ohe], axis=1)\n",
    "X_test_final.shape"
   ]
  },
  {
   "cell_type": "code",
   "execution_count": 180,
   "metadata": {},
   "outputs": [
    {
     "name": "stdout",
     "output_type": "stream",
     "text": [
      "\u001b[1m510/510\u001b[0m \u001b[32m━━━━━━━━━━━━━━━━━━━━\u001b[0m\u001b[37m\u001b[0m \u001b[1m0s\u001b[0m 755us/step\n",
      "f1 на тестовой выборке: 0.957\n"
     ]
    }
   ],
   "source": [
    "prediction_test = [1 if prob > 0.5 else 0 for prob in model_nw.predict(X_test_final)]\n",
    "print('f1 на тестовой выборке:', round(f1_score(y_test, prediction_test), 3))"
   ]
  },
  {
   "attachments": {
    "image-2.png": {
     "image/png": "[encoded data removed]"
    }
   },
   "cell_type": "markdown",
   "metadata": {},
   "source": [
    "# Выводы\n",
    "1. Целью проекта было обучение модели для выявления нерациональных диагностических назначений врачей. Предоставлен датасет с данными за 6 месяцев, более 200 тыс. наблюдений.\n",
    "2. На этапе исследовательского анализа и предобработки:\n",
    "* изучено распределение данных\n",
    "* удалены дубликаты\n",
    "* обработаны категориальные переменные\n",
    "* удалены выбросы\n",
    "* создан новый параметр\n",
    "Этапы предобработки реализованы в форме пайплайна.\n",
    "3. По итогу корреляционного анализа удалены несколько высокоскоррелированных параметров\n",
    "4. Обучены две модели - CatBoost и нейросеть. f1-мера на валидационной выборке: CatBoost - 0.91 и нейросеть - 0.94.  \n",
    "![image-2.png](attachment:image-2.png)  \n",
    "Выбрана модель на базе нейросети как более точная. На тестовых данных модель показала точность 0.95, что удовлетворяет требованиям заказчика.\n",
    "5. Работа модели основана на сопоставлении диагноза и назначенного исследования, модель также учитывает возраст пациента и повод обращения. Таким образом, разработана модель, способная определять случаи нерационального назначения диагностических процедур.\n",
    "\n",
    "Рекомендации заказчику.  \n",
    "\n",
    "Несколько увеличить метрику качества можно, если предоставить больше параметров для анализа. Также, развивая идею контроля врачебных назначений, можно разработать модель, анализирующую протокол приема врача средствами NLP, которая могла бы оценить соответствие жалоб и выявленных симптомов установленному диагнозу, а также корректность данных пациенту рекомендаций."
   ]
  },
  {
   "cell_type": "markdown",
   "metadata": {},
   "source": []
  }
 ],
 "metadata": {
  "kernelspec": {
   "display_name": "base",
   "language": "python",
   "name": "python3"
  },
  "language_info": {
   "codemirror_mode": {
    "name": "ipython",
    "version": 3
   },
   "file_extension": ".py",
   "mimetype": "text/x-python",
   "name": "python",
   "nbconvert_exporter": "python",
   "pygments_lexer": "ipython3",
   "version": "3.12.5"
  }
 },
 "nbformat": 4,
 "nbformat_minor": 2
}
